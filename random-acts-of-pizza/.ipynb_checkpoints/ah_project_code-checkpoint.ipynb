{
 "cells": [
  {
   "cell_type": "code",
   "execution_count": 16,
   "metadata": {},
   "outputs": [
    {
     "name": "stderr",
     "output_type": "stream",
     "text": [
      "[nltk_data] Downloading package stopwords to\n",
      "[nltk_data]     /Users/amyhuynh/nltk_data...\n",
      "[nltk_data]   Package stopwords is already up-to-date!\n"
     ]
    },
    {
     "data": {
      "text/plain": [
       "True"
      ]
     },
     "execution_count": 16,
     "metadata": {},
     "output_type": "execute_result"
    }
   ],
   "source": [
    "# IMPORTING PACKAGES\n",
    "import pandas as pd\n",
    "import re\n",
    "import seaborn as sns\n",
    "import altair as alt\n",
    "import string\n",
    "import matplotlib.pyplot as plt\n",
    "import nltk\n",
    "\n",
    "from nltk.corpus import stopwords\n",
    "from porter2stemmer import Porter2Stemmer\n",
    "from vaderSentiment.vaderSentiment import SentimentIntensityAnalyzer\n",
    "from sklearn.model_selection import train_test_split\n",
    "\n",
    "nltk.download('stopwords')"
   ]
  },
  {
   "cell_type": "code",
   "execution_count": 2,
   "metadata": {},
   "outputs": [],
   "source": [
    "plt.rcParams[\"figure.figsize\"] = (10,8)"
   ]
  },
  {
   "cell_type": "code",
   "execution_count": 14,
   "metadata": {},
   "outputs": [
    {
     "name": "stderr",
     "output_type": "stream",
     "text": [
      "/opt/anaconda3/lib/python3.7/site-packages/ipykernel_launcher.py:3: FutureWarning: Passing a negative integer is deprecated in version 1.0 and will not be supported in future version. Instead, use None to not limit the column width.\n",
      "  This is separate from the ipykernel package so we can avoid doing imports until\n"
     ]
    }
   ],
   "source": [
    "# DISPLAY SETTINGS\n",
    "pd.set_option('display.width', 150)\n",
    "pd.set_option('display.max_colwidth', -1)\n",
    "pd.set_option('display.max_columns', None)"
   ]
  },
  {
   "cell_type": "code",
   "execution_count": 4,
   "metadata": {},
   "outputs": [],
   "source": [
    "df = pd.read_json(\"train.json\")"
   ]
  },
  {
   "cell_type": "code",
   "execution_count": 5,
   "metadata": {},
   "outputs": [
    {
     "data": {
      "text/plain": [
       "giver_username_if_known                                 100.00000\n",
       "number_of_downvotes_of_request_at_retrieval             100.00000\n",
       "number_of_upvotes_of_request_at_retrieval               100.00000\n",
       "post_was_edited                                         100.00000\n",
       "request_id                                              100.00000\n",
       "request_number_of_comments_at_retrieval                 100.00000\n",
       "request_text                                            100.00000\n",
       "request_text_edit_aware                                 100.00000\n",
       "request_title                                           100.00000\n",
       "requester_account_age_in_days_at_request                100.00000\n",
       "requester_account_age_in_days_at_retrieval              100.00000\n",
       "requester_days_since_first_post_on_raop_at_request      100.00000\n",
       "requester_days_since_first_post_on_raop_at_retrieval    100.00000\n",
       "requester_number_of_comments_at_request                 100.00000\n",
       "requester_number_of_comments_at_retrieval               100.00000\n",
       "requester_number_of_comments_in_raop_at_request         100.00000\n",
       "requester_number_of_comments_in_raop_at_retrieval       100.00000\n",
       "requester_number_of_posts_at_request                    100.00000\n",
       "requester_number_of_posts_at_retrieval                  100.00000\n",
       "requester_number_of_posts_on_raop_at_request            100.00000\n",
       "requester_number_of_posts_on_raop_at_retrieval          100.00000\n",
       "requester_number_of_subreddits_at_request               100.00000\n",
       "requester_received_pizza                                100.00000\n",
       "requester_subreddits_at_request                         100.00000\n",
       "requester_upvotes_minus_downvotes_at_request            100.00000\n",
       "requester_upvotes_minus_downvotes_at_retrieval          100.00000\n",
       "requester_upvotes_plus_downvotes_at_request             100.00000\n",
       "requester_upvotes_plus_downvotes_at_retrieval           100.00000\n",
       "requester_user_flair                                    24.60396 \n",
       "requester_username                                      100.00000\n",
       "unix_timestamp_of_request                               100.00000\n",
       "unix_timestamp_of_request_utc                           100.00000\n",
       "dtype: float64"
      ]
     },
     "execution_count": 5,
     "metadata": {},
     "output_type": "execute_result"
    }
   ],
   "source": [
    "df.notnull().mean() * 100"
   ]
  },
  {
   "cell_type": "code",
   "execution_count": 6,
   "metadata": {},
   "outputs": [],
   "source": [
    "punct_list = [x for x in string.punctuation]\n",
    "stop = list(set(stopwords.words('english')))\n",
    "stemmer = Porter2Stemmer()\n",
    "\n",
    "### creating needed features\n",
    "df[\"len_request_text\"] = df.request_text.apply(lambda x: len(x.split(\" \")))\n",
    "df['num_punct_request_text'] = df.request_text.apply(lambda x: len([letter for letter in x if letter in punct_list]))\n",
    "df['num_emoticons_request_text'] = df.request_text.apply(lambda x: len(re.findall('\\:(?:\\(|\\)|c|D|C|p|P|o|O|\\||\\[|\\])', x)) + len(re.findall(r'(?:\\(|\\)|c|D|C|p|P|o|O|\\||\\[|\\])\\:', x)))\n",
    "\n",
    "df[\"len_request_text_edit_aware\"] = df.request_text_edit_aware.apply(lambda x: len(x.split(\" \")))\n",
    "df['num_punct_request_text_edit_aware'] = df.request_text_edit_aware.apply(lambda x: len([letter for letter in x if letter in punct_list]))\n",
    "df['num_emoticons_request_text_edit_aware'] = df.request_text_edit_aware.apply(lambda x: len(re.findall('\\:(?:\\(|\\)|c|D|C|p|P|o|O|\\||\\[|\\])', x)) + len(re.findall(r'(?:\\(|\\)|c|D|C|p|P|o|O|\\||\\[|\\])\\:', x)))\n",
    "\n",
    "df[\"len_request_title\"] = df.request_title.apply(lambda x: len(x.split(\" \")))\n",
    "df['num_punct_request_title'] = df.request_title.apply(lambda x: len([letter for letter in x if letter in punct_list]))\n",
    "df['num_emoticons_request_title'] = df.request_title.apply(lambda x: len(re.findall('\\:(?:\\(|\\)|c|D|C|p|P|o|O|\\||\\[|\\])', x)) + len(re.findall(r'(?:\\(|\\)|c|D|C|p|P|o|O|\\||\\[|\\])\\:', x)))\n",
    "\n",
    "### cleaning text\n",
    "df[\"request_text_cleaned\"] = df.request_text.apply(lambda x: re.sub(r'(?:\\(|\\)|c|D|C|p|P|o|O|\\||\\[|\\])\\:', '', x))\n",
    "df[\"request_text_cleaned\"] = df.request_text_cleaned.apply(lambda x: re.sub(r'\\:(?:\\(|\\)|c|D|C|p|P|o|O|\\||\\[|\\])', '', x))\n",
    "df[\"request_text_cleaned\"] = df.request_text_cleaned.apply(lambda x: x.lower().translate(str.maketrans('', '', string.punctuation)))\n",
    "df[\"request_text_cleaned\"] = df.request_text_cleaned.apply(lambda x: \" \".join(word for word in x.split(\" \") if word not in stop))\n",
    "df[\"request_text_cleaned\"] = df.request_text_cleaned.apply(lambda x: re.sub(r'\\s{2,}', ' ', x))\n",
    "df[\"request_text_cleaned\"] = df.request_text_cleaned.apply(lambda x: \" \".join(stemmer.stem(word) for word in x.split(\" \")))\n",
    "\n",
    "# df[\"request_text_edit_aware_cleaned\"] = df.request_text_edit_aware.apply(lambda x: re.sub(r'(?:\\(|\\)|c|D|C|p|P|o|O|\\||\\[|\\])\\:', '', x))\n",
    "# df[\"request_text_edit_aware_cleaned\"] = df.request_text_edit_aware_cleaned.apply(lambda x: re.sub(r'\\:(?:\\(|\\)|c|D|C|p|P|o|O|\\||\\[|\\])', '', x))\n",
    "# df[\"request_text_edit_aware_cleaned\"] = df.request_text_edit_aware_cleaned.apply(lambda x: x.lower().translate(str.maketrans('', '', string.punctuation)))\n",
    "# df[\"request_text_edit_aware_cleaned\"] = df.request_text_edit_aware_cleaned.apply(lambda x: re.sub(r'\\s{2,}', ' ', x))\n",
    "# df[\"request_text_edit_aware_cleaned\"] = df.request_text_edit_aware_cleaned.apply(lambda x: \" \".join(stemmer.stem(word) for word in x.split(\" \")))\n",
    "\n",
    "df[\"request_title_cleaned\"] = df.request_title.apply(lambda x: re.sub(r'(?:\\(|\\)|c|D|C|p|P|o|O|\\||\\[|\\])\\:', '', x))\n",
    "df[\"request_title_cleaned\"] = df.request_title_cleaned.apply(lambda x: re.sub(r'\\:(?:\\(|\\)|c|D|C|p|P|o|O|\\||\\[|\\])', '', x))\n",
    "df[\"request_title_cleaned\"] = df.request_title_cleaned.apply(lambda x: x.lower().translate(str.maketrans('', '', string.punctuation)))\n",
    "df[\"request_title_cleaned\"] = df.request_title_cleaned.apply(lambda x: re.sub(r'\\s{2,}', ' ', x))\n",
    "df[\"request_title_cleaned\"] = df.request_title_cleaned.apply(lambda x: \" \".join(stemmer.stem(word) for word in x.split(\" \")))"
   ]
  },
  {
   "cell_type": "code",
   "execution_count": 7,
   "metadata": {},
   "outputs": [],
   "source": [
    "senti_analyzer = SentimentIntensityAnalyzer()"
   ]
  },
  {
   "cell_type": "code",
   "execution_count": 8,
   "metadata": {},
   "outputs": [],
   "source": [
    "df['request_text_vader_senti'] = df.request_text.apply(lambda x: senti_analyzer.polarity_scores(x))\n",
    "df['request_text_vader_neg'] = df.request_text_vader_senti.apply(lambda x: x['neg'])\n",
    "df['request_text_vader_pos'] = df.request_text_vader_senti.apply(lambda x: x['pos'])\n",
    "df['request_text_vader_neu'] = df.request_text_vader_senti.apply(lambda x: x['neu'])"
   ]
  },
  {
   "cell_type": "code",
   "execution_count": 9,
   "metadata": {},
   "outputs": [],
   "source": [
    "df['request_title_vader_senti'] = df.request_title.apply(lambda x: senti_analyzer.polarity_scores(x))\n",
    "df['request_title_vader_neg'] = df.request_title_vader_senti.apply(lambda x: x['neg'])\n",
    "df['request_title_vader_pos'] = df.request_title_vader_senti.apply(lambda x: x['pos'])\n",
    "df['request_title_vader_neu'] = df.request_title_vader_senti.apply(lambda x: x['neu'])"
   ]
  },
  {
   "cell_type": "code",
   "execution_count": 10,
   "metadata": {},
   "outputs": [
    {
     "data": {
      "text/html": [
       "<div>\n",
       "<style scoped>\n",
       "    .dataframe tbody tr th:only-of-type {\n",
       "        vertical-align: middle;\n",
       "    }\n",
       "\n",
       "    .dataframe tbody tr th {\n",
       "        vertical-align: top;\n",
       "    }\n",
       "\n",
       "    .dataframe thead th {\n",
       "        text-align: right;\n",
       "    }\n",
       "</style>\n",
       "<table border=\"1\" class=\"dataframe\">\n",
       "  <thead>\n",
       "    <tr style=\"text-align: right;\">\n",
       "      <th></th>\n",
       "      <th>request_text</th>\n",
       "      <th>request_text_cleaned</th>\n",
       "      <th>request_text_vader_senti</th>\n",
       "    </tr>\n",
       "  </thead>\n",
       "  <tbody>\n",
       "    <tr>\n",
       "      <th>0</th>\n",
       "      <td>Hi I am in need of food for my 4 children we are a military family that has really hit hard times and we have exahusted all means of help just to be able to feed my family and make it through another night is all i ask i know our blessing is coming so whatever u can find in your heart to give is greatly appreciated</td>\n",
       "      <td>hi need food 4 children militari famili realli hit hard time exahust mean help abl fe famili make anoth night ask know bless come whatev u find heart give great appreci</td>\n",
       "      <td>{'neg': 0.022, 'neu': 0.801, 'pos': 0.177, 'compound': 0.9188}</td>\n",
       "    </tr>\n",
       "    <tr>\n",
       "      <th>1</th>\n",
       "      <td>I spent the last money I had on gas today. Im broke until next Thursday :(</td>\n",
       "      <td>spent last money gas today im broke next thursday</td>\n",
       "      <td>{'neg': 0.289, 'neu': 0.711, 'pos': 0.0, 'compound': -0.6908}</td>\n",
       "    </tr>\n",
       "    <tr>\n",
       "      <th>2</th>\n",
       "      <td>My girlfriend decided it would be a good idea to get off at Perth bus station when she was coming to visit me and has since had to spend all her money on a taxi to get to me here in Dundee. Any chance some kind soul would get us some pizza since we don't have any cash anymore?</td>\n",
       "      <td>girlfriend decid would good idea get perth bus station come visit sinc spend money taxi get dunde chanc kind soul would get us pizza sinc dont cash anymor</td>\n",
       "      <td>{'neg': 0.0, 'neu': 0.871, 'pos': 0.129, 'compound': 0.8074}</td>\n",
       "    </tr>\n",
       "    <tr>\n",
       "      <th>3</th>\n",
       "      <td>It's cold, I'n hungry, and to be completely honest I'm broke. My mum said we're having leftovers for dinner. A random pizza arriving would be nice.\\n\\nEdit: We had leftovers.</td>\n",
       "      <td>cold hungri complet honest im broke mum said leftov dinner random pizza arriv would nice edit leftov</td>\n",
       "      <td>{'neg': 0.084, 'neu': 0.741, 'pos': 0.175, 'compound': 0.5154}</td>\n",
       "    </tr>\n",
       "    <tr>\n",
       "      <th>4</th>\n",
       "      <td>hey guys:\\n I love this sub. I think it's great. (Except the sob stories. I miss when this place was fun!) Anywho, I've given a pizza out before so thought I would try my luck at getting one. My friend, who lives an hour away and our schedules do not let us see each other too much, decided to come down and visit me for the night! I would love to be able to be a good host and order her a pizza to go with some beer!\\n\\nAgain, no sob story. Just looking to share a pizza with an old friend :)</td>\n",
       "      <td>hey guy love sub think great except sob stori miss place fun anywho ive given pizza thought would tri luck get one friend live hour away schedul let us see much decid come visit night would love abl good host order pizza go beer again sob stori look share pizza old friend</td>\n",
       "      <td>{'neg': 0.028, 'neu': 0.695, 'pos': 0.277, 'compound': 0.9865}</td>\n",
       "    </tr>\n",
       "    <tr>\n",
       "      <th>...</th>\n",
       "      <td>...</td>\n",
       "      <td>...</td>\n",
       "      <td>...</td>\n",
       "    </tr>\n",
       "    <tr>\n",
       "      <th>4035</th>\n",
       "      <td>Is anyone out there kind enough to help me out? I started a new job Monday (in this day and age, I consider this a win) but won't get paid until the 15th. Spent all my graduation money on the deposit for my apartment near work. I am hungry and can show my pathetic empty fridge and equally pathetic bank account with $1.97 in it. Just throwing this out there if anyone has the heart to help a dude out. If so, I promise to help out another in need on the 15th when I receive my paycheck. Thanks for reading anyway.</td>\n",
       "      <td>anyon kind enough help start new job monday day age consid win wont get paid 15th spent graduat money deposit apart near work hungri show pathet empti fridg equal pathet bank account 197 throw anyon heart help dude promis help anoth ne 15th receiv paycheck thank read anyway</td>\n",
       "      <td>{'neg': 0.095, 'neu': 0.703, 'pos': 0.202, 'compound': 0.9161}</td>\n",
       "    </tr>\n",
       "    <tr>\n",
       "      <th>4036</th>\n",
       "      <td>If someone could hook me up with a $15 gift card I would happily hook someone up with pizza tomorrow. Here is the link to the Papa Johns promotion http://www.papajohns.com/touchdown/\\n\\nThanks Reddit! &amp;lt;3</td>\n",
       "      <td>someon could hook 15 gift card would happili hook someon pizza tomorrow link papa john promot httwwwpapajohnscomtouchdown thank reddit lt3</td>\n",
       "      <td>{'neg': 0.0, 'neu': 0.756, 'pos': 0.244, 'compound': 0.8655}</td>\n",
       "    </tr>\n",
       "    <tr>\n",
       "      <th>4037</th>\n",
       "      <td>Have today off, soo I'll be stuck in the house all day cleaning and doing homework that I've put off for a week... Just looking for a pizza pie for lunch! :) \\n\\nEDIT: Welp, got hungry and finished my homework, so I ordered Jimmy Johns instead, maybe next time! :)</td>\n",
       "      <td>today soo ill stuck hous day clean homework ive put week look pizza pie lunch edit welp got hungri finish homework order jimmi john instead mayb next time</td>\n",
       "      <td>{'neg': 0.036, 'neu': 0.846, 'pos': 0.118, 'compound': 0.6792}</td>\n",
       "    </tr>\n",
       "    <tr>\n",
       "      <th>4038</th>\n",
       "      <td>I've never done anything like this before, but I am willing to try this out. I am the proud mother of an awesome toddler whose favorite food is pizza. Today is the first day of our staycation, but I am poor until Friday when I get paid. Hoping to make my little man smile by having some pizza for lunch</td>\n",
       "      <td>ive never done anyth like will tri proud mother awesom toddl whos favorit food pizza today first day staycat poor friday get paid hope make littl man smile pizza lunch</td>\n",
       "      <td>{'neg': 0.072, 'neu': 0.671, 'pos': 0.257, 'compound': 0.9488}</td>\n",
       "    </tr>\n",
       "    <tr>\n",
       "      <th>4039</th>\n",
       "      <td>Like the title says, had to pay an unexpected bill that I was going to pay this coming Friday on payday. We thought we had until friday but it turns out that we didn't. Wasn't able to buy food for us this week in trade of having gas to get to work. Anyone out there in a charitable mood today? :)</td>\n",
       "      <td>like titl say pay unexpect bill go pay come friday payday thought friday turn didnt wasnt abl buy food us week trade gas get work anyon charit mood today</td>\n",
       "      <td>{'neg': 0.035, 'neu': 0.827, 'pos': 0.137, 'compound': 0.836}</td>\n",
       "    </tr>\n",
       "  </tbody>\n",
       "</table>\n",
       "<p>4040 rows × 3 columns</p>\n",
       "</div>"
      ],
      "text/plain": [
       "                                                                                                                                                                                                                                                                                                                                                                                                                                                                                                                            request_text  \\\n",
       "0     Hi I am in need of food for my 4 children we are a military family that has really hit hard times and we have exahusted all means of help just to be able to feed my family and make it through another night is all i ask i know our blessing is coming so whatever u can find in your heart to give is greatly appreciated                                                                                                                                                                                                         \n",
       "1     I spent the last money I had on gas today. Im broke until next Thursday :(                                                                                                                                                                                                                                                                                                                                                                                                                                                           \n",
       "2     My girlfriend decided it would be a good idea to get off at Perth bus station when she was coming to visit me and has since had to spend all her money on a taxi to get to me here in Dundee. Any chance some kind soul would get us some pizza since we don't have any cash anymore?                                                                                                                                                                                                                                                \n",
       "3     It's cold, I'n hungry, and to be completely honest I'm broke. My mum said we're having leftovers for dinner. A random pizza arriving would be nice.\\n\\nEdit: We had leftovers.                                                                                                                                                                                                                                                                                                                                                       \n",
       "4     hey guys:\\n I love this sub. I think it's great. (Except the sob stories. I miss when this place was fun!) Anywho, I've given a pizza out before so thought I would try my luck at getting one. My friend, who lives an hour away and our schedules do not let us see each other too much, decided to come down and visit me for the night! I would love to be able to be a good host and order her a pizza to go with some beer!\\n\\nAgain, no sob story. Just looking to share a pizza with an old friend :)                        \n",
       "...                                                                                                                                                                                                                                                                                                                                                                                                                                                                                                             ...                        \n",
       "4035  Is anyone out there kind enough to help me out? I started a new job Monday (in this day and age, I consider this a win) but won't get paid until the 15th. Spent all my graduation money on the deposit for my apartment near work. I am hungry and can show my pathetic empty fridge and equally pathetic bank account with $1.97 in it. Just throwing this out there if anyone has the heart to help a dude out. If so, I promise to help out another in need on the 15th when I receive my paycheck. Thanks for reading anyway.   \n",
       "4036  If someone could hook me up with a $15 gift card I would happily hook someone up with pizza tomorrow. Here is the link to the Papa Johns promotion http://www.papajohns.com/touchdown/\\n\\nThanks Reddit! &lt;3                                                                                                                                                                                                                                                                                                                       \n",
       "4037  Have today off, soo I'll be stuck in the house all day cleaning and doing homework that I've put off for a week... Just looking for a pizza pie for lunch! :) \\n\\nEDIT: Welp, got hungry and finished my homework, so I ordered Jimmy Johns instead, maybe next time! :)                                                                                                                                                                                                                                                             \n",
       "4038  I've never done anything like this before, but I am willing to try this out. I am the proud mother of an awesome toddler whose favorite food is pizza. Today is the first day of our staycation, but I am poor until Friday when I get paid. Hoping to make my little man smile by having some pizza for lunch                                                                                                                                                                                                                       \n",
       "4039  Like the title says, had to pay an unexpected bill that I was going to pay this coming Friday on payday. We thought we had until friday but it turns out that we didn't. Wasn't able to buy food for us this week in trade of having gas to get to work. Anyone out there in a charitable mood today? :)                                                                                                                                                                                                                             \n",
       "\n",
       "                                                                                                                                                                                                                                                                    request_text_cleaned  \\\n",
       "0     hi need food 4 children militari famili realli hit hard time exahust mean help abl fe famili make anoth night ask know bless come whatev u find heart give great appreci                                                                                                             \n",
       "1     spent last money gas today im broke next thursday                                                                                                                                                                                                                                    \n",
       "2     girlfriend decid would good idea get perth bus station come visit sinc spend money taxi get dunde chanc kind soul would get us pizza sinc dont cash anymor                                                                                                                           \n",
       "3     cold hungri complet honest im broke mum said leftov dinner random pizza arriv would nice edit leftov                                                                                                                                                                                 \n",
       "4     hey guy love sub think great except sob stori miss place fun anywho ive given pizza thought would tri luck get one friend live hour away schedul let us see much decid come visit night would love abl good host order pizza go beer again sob stori look share pizza old friend     \n",
       "...                                                                                                                                                                                                                                                                                 ...    \n",
       "4035  anyon kind enough help start new job monday day age consid win wont get paid 15th spent graduat money deposit apart near work hungri show pathet empti fridg equal pathet bank account 197 throw anyon heart help dude promis help anoth ne 15th receiv paycheck thank read anyway   \n",
       "4036  someon could hook 15 gift card would happili hook someon pizza tomorrow link papa john promot httwwwpapajohnscomtouchdown thank reddit lt3                                                                                                                                           \n",
       "4037  today soo ill stuck hous day clean homework ive put week look pizza pie lunch edit welp got hungri finish homework order jimmi john instead mayb next time                                                                                                                           \n",
       "4038  ive never done anyth like will tri proud mother awesom toddl whos favorit food pizza today first day staycat poor friday get paid hope make littl man smile pizza lunch                                                                                                              \n",
       "4039  like titl say pay unexpect bill go pay come friday payday thought friday turn didnt wasnt abl buy food us week trade gas get work anyon charit mood today                                                                                                                            \n",
       "\n",
       "                                            request_text_vader_senti  \n",
       "0     {'neg': 0.022, 'neu': 0.801, 'pos': 0.177, 'compound': 0.9188}  \n",
       "1     {'neg': 0.289, 'neu': 0.711, 'pos': 0.0, 'compound': -0.6908}   \n",
       "2     {'neg': 0.0, 'neu': 0.871, 'pos': 0.129, 'compound': 0.8074}    \n",
       "3     {'neg': 0.084, 'neu': 0.741, 'pos': 0.175, 'compound': 0.5154}  \n",
       "4     {'neg': 0.028, 'neu': 0.695, 'pos': 0.277, 'compound': 0.9865}  \n",
       "...                                                              ...  \n",
       "4035  {'neg': 0.095, 'neu': 0.703, 'pos': 0.202, 'compound': 0.9161}  \n",
       "4036  {'neg': 0.0, 'neu': 0.756, 'pos': 0.244, 'compound': 0.8655}    \n",
       "4037  {'neg': 0.036, 'neu': 0.846, 'pos': 0.118, 'compound': 0.6792}  \n",
       "4038  {'neg': 0.072, 'neu': 0.671, 'pos': 0.257, 'compound': 0.9488}  \n",
       "4039  {'neg': 0.035, 'neu': 0.827, 'pos': 0.137, 'compound': 0.836}   \n",
       "\n",
       "[4040 rows x 3 columns]"
      ]
     },
     "execution_count": 10,
     "metadata": {},
     "output_type": "execute_result"
    }
   ],
   "source": [
    "df[[\"request_text\", \"request_text_cleaned\", \"request_text_vader_senti\"]]"
   ]
  },
  {
   "cell_type": "code",
   "execution_count": 15,
   "metadata": {},
   "outputs": [
    {
     "data": {
      "text/html": [
       "<div>\n",
       "<style scoped>\n",
       "    .dataframe tbody tr th:only-of-type {\n",
       "        vertical-align: middle;\n",
       "    }\n",
       "\n",
       "    .dataframe tbody tr th {\n",
       "        vertical-align: top;\n",
       "    }\n",
       "\n",
       "    .dataframe thead th {\n",
       "        text-align: right;\n",
       "    }\n",
       "</style>\n",
       "<table border=\"1\" class=\"dataframe\">\n",
       "  <thead>\n",
       "    <tr style=\"text-align: right;\">\n",
       "      <th></th>\n",
       "      <th>giver_username_if_known</th>\n",
       "      <th>number_of_downvotes_of_request_at_retrieval</th>\n",
       "      <th>number_of_upvotes_of_request_at_retrieval</th>\n",
       "      <th>post_was_edited</th>\n",
       "      <th>request_id</th>\n",
       "      <th>request_number_of_comments_at_retrieval</th>\n",
       "      <th>request_text</th>\n",
       "      <th>request_text_edit_aware</th>\n",
       "      <th>request_title</th>\n",
       "      <th>requester_account_age_in_days_at_request</th>\n",
       "      <th>requester_account_age_in_days_at_retrieval</th>\n",
       "      <th>requester_days_since_first_post_on_raop_at_request</th>\n",
       "      <th>requester_days_since_first_post_on_raop_at_retrieval</th>\n",
       "      <th>requester_number_of_comments_at_request</th>\n",
       "      <th>requester_number_of_comments_at_retrieval</th>\n",
       "      <th>requester_number_of_comments_in_raop_at_request</th>\n",
       "      <th>requester_number_of_comments_in_raop_at_retrieval</th>\n",
       "      <th>requester_number_of_posts_at_request</th>\n",
       "      <th>requester_number_of_posts_at_retrieval</th>\n",
       "      <th>requester_number_of_posts_on_raop_at_request</th>\n",
       "      <th>requester_number_of_posts_on_raop_at_retrieval</th>\n",
       "      <th>requester_number_of_subreddits_at_request</th>\n",
       "      <th>requester_received_pizza</th>\n",
       "      <th>requester_subreddits_at_request</th>\n",
       "      <th>requester_upvotes_minus_downvotes_at_request</th>\n",
       "      <th>requester_upvotes_minus_downvotes_at_retrieval</th>\n",
       "      <th>requester_upvotes_plus_downvotes_at_request</th>\n",
       "      <th>requester_upvotes_plus_downvotes_at_retrieval</th>\n",
       "      <th>requester_user_flair</th>\n",
       "      <th>requester_username</th>\n",
       "      <th>unix_timestamp_of_request</th>\n",
       "      <th>unix_timestamp_of_request_utc</th>\n",
       "      <th>len_request_text</th>\n",
       "      <th>num_punct_request_text</th>\n",
       "      <th>num_emoticons_request_text</th>\n",
       "      <th>len_request_text_edit_aware</th>\n",
       "      <th>num_punct_request_text_edit_aware</th>\n",
       "      <th>num_emoticons_request_text_edit_aware</th>\n",
       "      <th>len_request_title</th>\n",
       "      <th>num_punct_request_title</th>\n",
       "      <th>num_emoticons_request_title</th>\n",
       "      <th>request_text_cleaned</th>\n",
       "      <th>request_title_cleaned</th>\n",
       "      <th>request_text_vader_senti</th>\n",
       "      <th>request_text_vader_neg</th>\n",
       "      <th>request_text_vader_pos</th>\n",
       "      <th>request_text_vader_neu</th>\n",
       "      <th>request_title_vader_senti</th>\n",
       "      <th>request_title_vader_neg</th>\n",
       "      <th>request_title_vader_pos</th>\n",
       "      <th>request_title_vader_neu</th>\n",
       "    </tr>\n",
       "  </thead>\n",
       "  <tbody>\n",
       "    <tr>\n",
       "      <th>0</th>\n",
       "      <td>N/A</td>\n",
       "      <td>0</td>\n",
       "      <td>1</td>\n",
       "      <td>0</td>\n",
       "      <td>t3_l25d7</td>\n",
       "      <td>0</td>\n",
       "      <td>Hi I am in need of food for my 4 children we are a military family that has really hit hard times and we have exahusted all means of help just to be able to feed my family and make it through another night is all i ask i know our blessing is coming so whatever u can find in your heart to give is greatly appreciated</td>\n",
       "      <td>Hi I am in need of food for my 4 children we are a military family that has really hit hard times and we have exahusted all means of help just to be able to feed my family and make it through another night is all i ask i know our blessing is coming so whatever u can find in your heart to give is greatly appreciated</td>\n",
       "      <td>Request Colorado Springs Help Us Please</td>\n",
       "      <td>0.0</td>\n",
       "      <td>792.420405</td>\n",
       "      <td>0.0</td>\n",
       "      <td>792.420405</td>\n",
       "      <td>0</td>\n",
       "      <td>0</td>\n",
       "      <td>0</td>\n",
       "      <td>0</td>\n",
       "      <td>0</td>\n",
       "      <td>1</td>\n",
       "      <td>0</td>\n",
       "      <td>1</td>\n",
       "      <td>0</td>\n",
       "      <td>False</td>\n",
       "      <td>[]</td>\n",
       "      <td>0</td>\n",
       "      <td>1</td>\n",
       "      <td>0</td>\n",
       "      <td>1</td>\n",
       "      <td>None</td>\n",
       "      <td>nickylvst</td>\n",
       "      <td>1317852607</td>\n",
       "      <td>1317849007</td>\n",
       "      <td>67</td>\n",
       "      <td>0</td>\n",
       "      <td>0</td>\n",
       "      <td>67</td>\n",
       "      <td>0</td>\n",
       "      <td>0</td>\n",
       "      <td>6</td>\n",
       "      <td>0</td>\n",
       "      <td>0</td>\n",
       "      <td>hi need food 4 children militari famili realli hit hard time exahust mean help abl fe famili make anoth night ask know bless come whatev u find heart give great appreci</td>\n",
       "      <td>request colorado spring help us pleas</td>\n",
       "      <td>{'neg': 0.022, 'neu': 0.801, 'pos': 0.177, 'compound': 0.9188}</td>\n",
       "      <td>0.022</td>\n",
       "      <td>0.177</td>\n",
       "      <td>0.801</td>\n",
       "      <td>{'neg': 0.0, 'neu': 0.444, 'pos': 0.556, 'compound': 0.6124}</td>\n",
       "      <td>0.0</td>\n",
       "      <td>0.556</td>\n",
       "      <td>0.444</td>\n",
       "    </tr>\n",
       "  </tbody>\n",
       "</table>\n",
       "</div>"
      ],
      "text/plain": [
       "  giver_username_if_known  number_of_downvotes_of_request_at_retrieval  number_of_upvotes_of_request_at_retrieval  post_was_edited request_id  \\\n",
       "0  N/A                     0                                            1                                          0                t3_l25d7    \n",
       "\n",
       "   request_number_of_comments_at_retrieval  \\\n",
       "0  0                                         \n",
       "\n",
       "                                                                                                                                                                                                                                                                                                                   request_text  \\\n",
       "0  Hi I am in need of food for my 4 children we are a military family that has really hit hard times and we have exahusted all means of help just to be able to feed my family and make it through another night is all i ask i know our blessing is coming so whatever u can find in your heart to give is greatly appreciated   \n",
       "\n",
       "                                                                                                                                                                                                                                                                                                        request_text_edit_aware  \\\n",
       "0  Hi I am in need of food for my 4 children we are a military family that has really hit hard times and we have exahusted all means of help just to be able to feed my family and make it through another night is all i ask i know our blessing is coming so whatever u can find in your heart to give is greatly appreciated   \n",
       "\n",
       "                             request_title  requester_account_age_in_days_at_request  requester_account_age_in_days_at_retrieval  \\\n",
       "0  Request Colorado Springs Help Us Please  0.0                                       792.420405                                   \n",
       "\n",
       "   requester_days_since_first_post_on_raop_at_request  requester_days_since_first_post_on_raop_at_retrieval  \\\n",
       "0  0.0                                                 792.420405                                             \n",
       "\n",
       "   requester_number_of_comments_at_request  requester_number_of_comments_at_retrieval  requester_number_of_comments_in_raop_at_request  \\\n",
       "0  0                                        0                                          0                                                 \n",
       "\n",
       "   requester_number_of_comments_in_raop_at_retrieval  requester_number_of_posts_at_request  requester_number_of_posts_at_retrieval  \\\n",
       "0  0                                                  0                                     1                                        \n",
       "\n",
       "   requester_number_of_posts_on_raop_at_request  requester_number_of_posts_on_raop_at_retrieval  requester_number_of_subreddits_at_request  \\\n",
       "0  0                                             1                                               0                                           \n",
       "\n",
       "   requester_received_pizza requester_subreddits_at_request  requester_upvotes_minus_downvotes_at_request  \\\n",
       "0  False                     []                              0                                              \n",
       "\n",
       "   requester_upvotes_minus_downvotes_at_retrieval  requester_upvotes_plus_downvotes_at_request  requester_upvotes_plus_downvotes_at_retrieval  \\\n",
       "0  1                                               0                                            1                                               \n",
       "\n",
       "  requester_user_flair requester_username  unix_timestamp_of_request  unix_timestamp_of_request_utc  len_request_text  num_punct_request_text  \\\n",
       "0  None                 nickylvst          1317852607                 1317849007                     67                0                        \n",
       "\n",
       "   num_emoticons_request_text  len_request_text_edit_aware  num_punct_request_text_edit_aware  num_emoticons_request_text_edit_aware  \\\n",
       "0  0                           67                           0                                  0                                       \n",
       "\n",
       "   len_request_title  num_punct_request_title  num_emoticons_request_title  \\\n",
       "0  6                  0                        0                             \n",
       "\n",
       "                                                                                                                                                       request_text_cleaned  \\\n",
       "0  hi need food 4 children militari famili realli hit hard time exahust mean help abl fe famili make anoth night ask know bless come whatev u find heart give great appreci   \n",
       "\n",
       "                   request_title_cleaned                                        request_text_vader_senti  request_text_vader_neg  \\\n",
       "0  request colorado spring help us pleas  {'neg': 0.022, 'neu': 0.801, 'pos': 0.177, 'compound': 0.9188}  0.022                    \n",
       "\n",
       "   request_text_vader_pos  request_text_vader_neu                                     request_title_vader_senti  request_title_vader_neg  \\\n",
       "0  0.177                   0.801                   {'neg': 0.0, 'neu': 0.444, 'pos': 0.556, 'compound': 0.6124}  0.0                       \n",
       "\n",
       "   request_title_vader_pos  request_title_vader_neu  \n",
       "0  0.556                    0.444                    "
      ]
     },
     "execution_count": 15,
     "metadata": {},
     "output_type": "execute_result"
    }
   ],
   "source": [
    "df.head(1)"
   ]
  },
  {
   "cell_type": "code",
   "execution_count": 23,
   "metadata": {},
   "outputs": [],
   "source": [
    "train, test_big = train_test_split(df, test_size=0.25, random_state = 314)"
   ]
  },
  {
   "cell_type": "code",
   "execution_count": 26,
   "metadata": {},
   "outputs": [],
   "source": [
    "dev, test = train_test_split(test_big, test_size=0.5, random_state = 314)"
   ]
  },
  {
   "cell_type": "code",
   "execution_count": 32,
   "metadata": {},
   "outputs": [],
   "source": [
    "train.reset_index(inplace = True, drop = True)\n",
    "test.reset_index(inplace = True, drop = True)\n",
    "dev.reset_index(inplace = True, drop = True)"
   ]
  },
  {
   "cell_type": "code",
   "execution_count": 34,
   "metadata": {},
   "outputs": [],
   "source": [
    "# df.to_csv(\"train_cleaned.csv\", index=False)\n",
    "\n",
    "# train.to_json('train_data_cleaned.json', orient='records', lines=True)\n",
    "# test.to_json('test_data_cleaned.json', orient='records', lines=True)\n",
    "# dev.to_json('dev_data_cleaned.json', orient='records', lines=True)"
   ]
  },
  {
   "cell_type": "code",
   "execution_count": null,
   "metadata": {},
   "outputs": [],
   "source": [
    "corr_heatmap = sns.heatmap(df.corr(), vmin=-1, vmax=1, annot=False, linewidths=4)\n",
    "corr_heatmap.set_title('Correlation Heatmap', fontdict={'fontsize':12}, pad=12)"
   ]
  },
  {
   "cell_type": "code",
   "execution_count": null,
   "metadata": {},
   "outputs": [],
   "source": [
    "heatmap = sns.heatmap(df.corr()[['requester_received_pizza']].sort_values(by='requester_received_pizza', ascending=False), vmin=-1, vmax=1, annot=True, cmap='BrBG')\n",
    "heatmap.set_title('Features Correlating with Receiving Pizza', fontdict={'fontsize':18}, pad=16);"
   ]
  },
  {
   "cell_type": "code",
   "execution_count": null,
   "metadata": {},
   "outputs": [],
   "source": [
    "df['requester_received_pizza'] = pd.Categorical(df['requester_received_pizza'],\n",
    "                                   categories=[True, False],\n",
    "                                   ordered=False)\n",
    "\n",
    "bar1 = sns.countplot(\n",
    "    data= df,\n",
    "    x=\"requester_received_pizza\", \n",
    "    hue = \"requester_number_of_posts_on_raop_at_retrieval\",\n",
    "    palette=\"dark\", alpha=.6)\n",
    "\n",
    "plt.xlabel(\"requester received pizza\")\n",
    "plt.ylabel(\"count\")\n",
    "plt.title(\"Receiving Pizza v.s. Number of posts in RAOP\")\n",
    "\n",
    "plt.legend(bbox_to_anchor=(1.05, 1), loc=2, borderaxespad=0.)"
   ]
  },
  {
   "cell_type": "code",
   "execution_count": null,
   "metadata": {},
   "outputs": [],
   "source": [
    "alt.Chart(df, title = \"Receiving Pizza v.s. Number of posts in RAOP\").mark_bar().encode(\n",
    "    x = alt.X(\"requester_received_pizza\", title = \"request received pizza\"),\n",
    "    y = alt.Y(\"count()\", title = \"count\"),\n",
    "    color = \"requester_number_of_posts_on_raop_at_retrieval\",\n",
    "    tooltip = [\"requester_received_pizza\", \"count()\", \"requester_number_of_posts_on_raop_at_retrieval\"]\n",
    "    )"
   ]
  },
  {
   "cell_type": "code",
   "execution_count": null,
   "metadata": {},
   "outputs": [],
   "source": [
    "len(df)"
   ]
  },
  {
   "cell_type": "code",
   "execution_count": null,
   "metadata": {},
   "outputs": [],
   "source": [
    "4040 * .8"
   ]
  },
  {
   "cell_type": "code",
   "execution_count": null,
   "metadata": {},
   "outputs": [],
   "source": []
  }
 ],
 "metadata": {
  "kernelspec": {
   "display_name": "Python 3",
   "language": "python",
   "name": "python3"
  },
  "language_info": {
   "codemirror_mode": {
    "name": "ipython",
    "version": 3
   },
   "file_extension": ".py",
   "mimetype": "text/x-python",
   "name": "python",
   "nbconvert_exporter": "python",
   "pygments_lexer": "ipython3",
   "version": "3.7.6"
  }
 },
 "nbformat": 4,
 "nbformat_minor": 4
}
