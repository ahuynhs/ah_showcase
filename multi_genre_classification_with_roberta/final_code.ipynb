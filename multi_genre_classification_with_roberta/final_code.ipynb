{
  "cells": [
    {
      "cell_type": "code",
      "execution_count": null,
      "metadata": {
        "colab": {
          "base_uri": "https://localhost:8080/",
          "height": 35
        },
        "id": "QZ50UrPDw91j",
        "outputId": "7cee4b18-863a-472b-c122-c37b22dd5b30"
      },
      "outputs": [
        {
          "output_type": "execute_result",
          "data": {
            "text/plain": [
              "''"
            ],
            "application/vnd.google.colaboratory.intrinsic+json": {
              "type": "string"
            }
          },
          "metadata": {},
          "execution_count": 1
        }
      ],
      "source": [
        "# check for GPU after Runtime > Change Runtime type\n",
        "import tensorflow as tf\n",
        "tf.test.gpu_device_name()"
      ]
    },
    {
      "cell_type": "code",
      "execution_count": null,
      "metadata": {
        "id": "n2g3jlDfEYxT"
      },
      "outputs": [],
      "source": [
        "# installing modin for faster pandas dataframe operations\n",
        "# ! pip install modin\n",
        "# ! pip install modin[all]"
      ]
    },
    {
      "cell_type": "code",
      "execution_count": null,
      "metadata": {
        "colab": {
          "base_uri": "https://localhost:8080/"
        },
        "id": "N1Oje9DpSLbX",
        "outputId": "802eb543-2595-4183-9adf-d5d964cf0689"
      },
      "outputs": [
        {
          "output_type": "stream",
          "name": "stdout",
          "text": [
            "Mounted at /content/drive\n"
          ]
        }
      ],
      "source": [
        "from copy import deepcopy\n",
        "import json\n",
        "import pandas as pd\n",
        "import numpy as np\n",
        "\n",
        "import re\n",
        "import os\n",
        "import nltk\n",
        "\n",
        "# os.environ[\"MODIN_ENGINE\"] = \"ray\"\n",
        "# import modin.pandas as pd\n",
        "\n",
        "from nltk.corpus import stopwords\n",
        "# from nltk.stem import PorterStemmer\n",
        "from nltk.tokenize import word_tokenize\n",
        "\n",
        "# run this cell to grant CoLab access to Google Drive file system\n",
        "from google.colab import drive\n",
        "drive.mount('/content/drive')"
      ]
    },
    {
      "cell_type": "code",
      "execution_count": null,
      "metadata": {
        "id": "17f6mOZ0psGG"
      },
      "outputs": [],
      "source": [
        "pd.set_option('display.max_colwidth', None)"
      ]
    },
    {
      "cell_type": "code",
      "execution_count": null,
      "metadata": {
        "id": "f6VbGc9FSfiZ"
      },
      "outputs": [],
      "source": [
        "# read in movie metadata\n",
        "sarah_path = '/content/drive/MyDrive/W266 - Natural Language Processing/MovieSummaries/movie-metadata.tsv' # file path to data in Sarah's Google Drive\n",
        "amy_path = '/content/drive/MyDrive/w266_files/movie.metadata.tsv'\n",
        "\n",
        "try:\n",
        "  data = pd.read_csv(sarah_path, sep='\\t', header=None, \n",
        "                    names=[\"wikipedia_movie_id\", \"freebase_movie_id\", \"movie_name\", \n",
        "                            \"movie_release_date\", \"movie_boxi_office_revenue\", \"movie_runtime\",\n",
        "                            \"movie_languages\", \"movie_countries\", \"movie_genres\"]) # column names extracted from readme file\n",
        "except:\n",
        "   data = pd.read_csv(amy_path, sep='\\t', header=None, \n",
        "                    names=[\"wikipedia_movie_id\", \"freebase_movie_id\", \"movie_name\", \n",
        "                            \"movie_release_date\", \"movie_boxi_office_revenue\", \"movie_runtime\",\n",
        "                            \"movie_languages\", \"movie_countries\", \"movie_genres\"]) # column names extracted from readme file"
      ]
    },
    {
      "cell_type": "code",
      "execution_count": null,
      "metadata": {
        "id": "Q-2GD31qTtm7"
      },
      "outputs": [],
      "source": [
        "# read in plot summaries\n",
        "sarah_path = '/content/drive/MyDrive/W266 - Natural Language Processing/MovieSummaries/plot_summaries.txt' # file path to data in Sarah's Google Drive\n",
        "amy_path = '/content/drive/MyDrive/w266_files/plot_summaries.txt'\n",
        "\n",
        "try:\n",
        "  summ = pd.read_csv(sarah_path, sep='\\t', header=None, \n",
        "                    names=[\"wikipedia_movie_id\", \"plot_summary\"]) # column names extracted from readme file\n",
        "except:\n",
        "  summ = pd.read_csv(amy_path, sep='\\t', header=None, \n",
        "                   names=[\"wikipedia_movie_id\", \"plot_summary\"]) # column names extracted from readme file"
      ]
    },
    {
      "cell_type": "code",
      "execution_count": null,
      "metadata": {
        "id": "xu2is4kKVq5f"
      },
      "outputs": [],
      "source": [
        "# join plot summaries to metadata\n",
        "data = data.merge(summ, how=\"left\", on=\"wikipedia_movie_id\")"
      ]
    },
    {
      "cell_type": "code",
      "execution_count": null,
      "metadata": {
        "id": "FUJrQs5oV_I-"
      },
      "outputs": [],
      "source": [
        "# parse genre information\n",
        "def extract_genres(input_dict):\n",
        "  genre_dict = json.loads(input_dict)\n",
        "  g = list(genre_dict.values())\n",
        "\n",
        "  return g\n",
        "\n",
        "data[\"genres_extract\"] = data[\"movie_genres\"].apply(lambda x: extract_genres(x))"
      ]
    },
    {
      "cell_type": "code",
      "execution_count": null,
      "metadata": {
        "colab": {
          "base_uri": "https://localhost:8080/",
          "height": 864
        },
        "id": "YrxHCOtNYY_2",
        "outputId": "3789098e-d382-448a-d2b6-ee7ef1bb737b"
      },
      "outputs": [
        {
          "output_type": "execute_result",
          "data": {
            "text/plain": [
              "       wikipedia_movie_id                        movie_name  \\\n",
              "74270              413949                       Peeping Tom   \n",
              "65371             1794176  Belphégor - Le fantôme du Louvre   \n",
              "58013            26049342                   Posse from Hell   \n",
              "\n",
              "                                                                                                                                                                                                                                                                                                                                                                                                                                                                                                                                                                                                                                                                                                                                                                                                                                                                                                                                                                                                                                                                                                                                                                                                                                                                                                                                                                                                                                                                                                                                                                                                                                                                                                                                                                                                                                                                                                                                                                                                                                                                                                                                                                                                                                                                                                                                                                                                                                                                                                                                                                                                                                                                                                                                                                                                                                                                                                                                                                                                                                                                                                                                                                                                                                                                                                                                                                                                                                                                                                                                                                                                                                                                                                                                                                                                                                                                                                                                                                                                                                                                                                                                                                                                                                                                                                                                                                                                  plot_summary  \\\n",
              "74270                                                                                                                                                                                                                                                                                                                                                                                                                                                                                                                                                                                                                                                                                                                                                                                                                                                                                                                                                                                                                                                                                                                        Mark Lewis  meets a prostitute, covertly filming her with a camera hidden under his coat. Shown from the point-of-view of the camera viewfinder, tension builds as he follows the woman into her house, murders her and later watches the film in his den as the credits roll on the screen. Lewis is a member of a film crew who aspires to become a filmmaker himself. He works part-time photographing soft-porn pin-up pictures of women, sold under the counter. He is a shy, reclusive young man who hardly ever socializes outside of his workplace. He lives in his  father's house, leasing part of it and acting as the landlord, while posing as a tenant himself. Mark is fascinated by the boisterous family living downstairs, and especially by Helen , a sweet-natured young woman who befriends him out of pity. Mark reveals to Helen through home movies taken by his father  that, as a child, he was used as a guinea pig for his father's psychological experiments in fear and the nervous system. Mark's father would study his son's reaction to various stimuli, such as lizards he put on his bed and would film the boy in all sorts of situations, even going as far as recording his son's reactions as he sat with his mother on her deathbed. He kept his son under constant watch and even wired all the rooms so that he could spy on him. The father's studies made his reputation as a psychologist. Mark arranges with Vivian , a stand-in at the studio, to make a film after the set is closed; he then kills her and stuffs her into a prop trunk. The body is discovered later by the horrified film crew. The police link the two murders and notice that each victim died with a look of utter terror on her face. They interview everyone on the set and become suspicious of Mark, who has his camera always running, always recording and who claims that he is making a documentary. A psychiatrist, called to the set to console the upset star of the movie, chats with Mark and tells him that he is familiar with his father's work. The psychiatrist relates the details of the conversation to the police, noting that Mark has \"his father's eyes\". Mark is tailed by the police who follow him to the building where he takes photographs of the pin-up model Milly . Two versions of this scene were shot. The more risqué version is credited as being the first female nude scene in a major British feature Nudist Paradise  was released before Peeping Tom  and that had fully naked women in it . Mark kills Milly and then returns home. Helen, who is curious about Mark's films, finally runs one of them. She becomes visibly upset and frightened when he catches her. Mark reveals that he makes the movies so that he can capture the fear of his victims. He has mounted a round mirror atop his camera, so that he can capture the reactions of his victims as they see their impending deaths. The police arrive and Mark realizes he is cornered. As he had planned from the very beginning, he impales himself with a knife attached to one of the camera's tripod legs, killing himself the same way he dispatched his victims, and with the camera running, providing the finale for his documentary.   \n",
              "65371                                                                                                                                                                                                                                                                                                                                                                                                                                                                                                                                                                                                                                                                                                                                                                                                                                                                                                                                                                                                                                                                                                                                                                                                                                                                                                                                                                                                                                                                                                                                                                                                                                                                                                                                                                                                                                                                                                                                                                                                                                                                                                                                                                                                                                                                                                                                                                                                                                                                                                                                                                                                                                                                                                                                                                                                                                                                                                                                                                                                                                                                                                                                                                                                                                                                                                              A rare collection of artifacts from an archeological dig in Egypt are brought to the famous Musée du Louvre in Paris. While experts are using a laser scanning device to determine the age of a sarcophagus, a ghostly spirit escapes and makes its way into the museum's electrical system. Museum curator Faussier  brings in a noted Egyptologist, Glenda Spencer , to examine the findings, and she announces that the mummy inside the coffin was actually the evil spirit Belphegor. Meanwhile, a young woman named Lisa  who lives across the street from the museum follows her runaway cat into the Louvre after closing time. She is accidentally given a shock that sends the stray spirit into her body. Soon Lisa is disguising herself as Belphegor and making off with the rare Egyptian treasures on display at the museum, convinced that they are rightfully hers. When Belphegor proves more than a match for the Louvre's security forces, renowned detective Verlac  is brought out of retirement to find out why the museum's Egyptian collection has been shrinking.   \n",
              "58013  In 1880 four escapees from death row, Crip , Leo , Chunk  and Hash  ride into the town of Paradise and enter the Rosebud Saloon. Crip shoots the town marshal Issac Webb  and takes ten men as hostages, killing some to ensure the four are unmolested. The gang leaves town with $11,200 from the Bank of Paradise and a female hostage Helen Caldwell  who entered the bar because her alcoholic Uncle Billy  was one of the captives. Prior to these events, Marshal Webb had sent for a friend and former gunfighter Banner Cole to take his place in leading a posse to rescue Helen and bring the men to justice. Though not a criminal, Cole is a loner that Webb wishes to enter the community through his being deputised. Cole is enraged to discover that the townspeople have put Webb on a table next to the three dead bodies of those murdered by the four. The doctor  said at first they thought Webb was dead himself, then realised he couldn't be moved so left him among the corpses. Webb's last act is to deputise Cole telling him to do the right thing, not out of hate, but out of liking people as the townsfolk are good people who have had bad things done to them. Cole agrees only out of liking Webb. The laconic Cole makes his original plan for hunting down the four by himself clear by turning down the offer of Webb's handcuffs by saying \"I won't be needing any.\" However, town elder Benson convinces Cole to follow Webb's wishes and organize a posse. The men of the town gather but enthusiasm wanes when not as many able bodied men as expected volunteer to go up against the killers, some men leaving because the posse doesn't outnumber the killers by ten to one. Cole's frank assessment of the situation scares others off with Cole saying \"If they're afraid of words they shouldn't go.\" Cole's posse eventually consists of the aged former Army Captain Jeremiah Brown ([[Robert Keith , who wishes to lead the posse himself in the manner of his long ago Army days, Uncle Billy, Burt Hogan , who wishes to revenge his brother Burl  murdered by the four, Jock Wiley ([[Paul Carr , a young gunhand seeking the experience to establish his reputation as a gunfighter, Seymour Kern ([[John Saxon , a bank employee who has just arrived on a special assignment from the New York parent and is browbeaten into joining to look after the bank's missing money and avoid taunts of cowardice from the bank manager , and Johnny Caddo , an Indian who merely thinks that joining is \"the right thing to do.\" Cole doesn't want any of the inexperienced and troublesome men to come with him but he has no choice. The posse discover Helen who has been left behind tied up near a rattlesnake that Cole is able to remove from Helen's vicinity. Helen has been raped and is unwilling to return to the town to face the shame of being vilified by the population. Cole orders the willing Uncle Billy to return her by force if necessary. Captain Brown demonstrates his aged incompetence by disobeying Cole's orders and opening fire and nearly murdering four cowhands who he mistakes for the four killers. Cole has to wound Jeremiah to stop his shooting spree and orders him back to town with the cowhands who have been waylaid by the killers. Cole's distrust of his own posse begins to subside when he is impressed by the determination of the inexperienced Seymour who has never ridden a horse or used a firearm before and the quiet Johnny Caddo's acceptance of the prejudicial treatment he gets from the posse. The posse tracks the four to a farmhouse and surrounds it until Hogan makes a noise starting a gunfight. Cole kills one of the outlaws. The boasting Wiley is unable to actually kill a man and is killed as he freezes, allowing the remaining three to escape. Hogan begins shooting the corpse of the outlaw that Cole himself killed telling himself and the posse that Hogan himself killed the man who killed his own brother. When the men note that all the witnesses agree that it was actually Hash who had murdered his brother, Hogan refuses to listen and leaves the posse to return to town. Cole, Caddo, and Seymour continue tracking the party to the desert but realise that the outlaws have doubled back and are intending on returning to shoot up Paradise.   \n",
              "\n",
              "                                                                  genres_extract  \n",
              "74270  [Thriller, Crime Fiction, Horror, Psychological thriller, Cult, Suspense]  \n",
              "65371                                            [Horror, Fantasy, World cinema]  \n",
              "58013                                                                  [Western]  "
            ],
            "text/html": [
              "\n",
              "  <div id=\"df-4fccfe55-2c5d-4b49-9ab4-253a1645f115\">\n",
              "    <div class=\"colab-df-container\">\n",
              "      <div>\n",
              "<style scoped>\n",
              "    .dataframe tbody tr th:only-of-type {\n",
              "        vertical-align: middle;\n",
              "    }\n",
              "\n",
              "    .dataframe tbody tr th {\n",
              "        vertical-align: top;\n",
              "    }\n",
              "\n",
              "    .dataframe thead th {\n",
              "        text-align: right;\n",
              "    }\n",
              "</style>\n",
              "<table border=\"1\" class=\"dataframe\">\n",
              "  <thead>\n",
              "    <tr style=\"text-align: right;\">\n",
              "      <th></th>\n",
              "      <th>wikipedia_movie_id</th>\n",
              "      <th>movie_name</th>\n",
              "      <th>plot_summary</th>\n",
              "      <th>genres_extract</th>\n",
              "    </tr>\n",
              "  </thead>\n",
              "  <tbody>\n",
              "    <tr>\n",
              "      <th>74270</th>\n",
              "      <td>413949</td>\n",
              "      <td>Peeping Tom</td>\n",
              "      <td>Mark Lewis  meets a prostitute, covertly filming her with a camera hidden under his coat. Shown from the point-of-view of the camera viewfinder, tension builds as he follows the woman into her house, murders her and later watches the film in his den as the credits roll on the screen. Lewis is a member of a film crew who aspires to become a filmmaker himself. He works part-time photographing soft-porn pin-up pictures of women, sold under the counter. He is a shy, reclusive young man who hardly ever socializes outside of his workplace. He lives in his  father's house, leasing part of it and acting as the landlord, while posing as a tenant himself. Mark is fascinated by the boisterous family living downstairs, and especially by Helen , a sweet-natured young woman who befriends him out of pity. Mark reveals to Helen through home movies taken by his father  that, as a child, he was used as a guinea pig for his father's psychological experiments in fear and the nervous system. Mark's father would study his son's reaction to various stimuli, such as lizards he put on his bed and would film the boy in all sorts of situations, even going as far as recording his son's reactions as he sat with his mother on her deathbed. He kept his son under constant watch and even wired all the rooms so that he could spy on him. The father's studies made his reputation as a psychologist. Mark arranges with Vivian , a stand-in at the studio, to make a film after the set is closed; he then kills her and stuffs her into a prop trunk. The body is discovered later by the horrified film crew. The police link the two murders and notice that each victim died with a look of utter terror on her face. They interview everyone on the set and become suspicious of Mark, who has his camera always running, always recording and who claims that he is making a documentary. A psychiatrist, called to the set to console the upset star of the movie, chats with Mark and tells him that he is familiar with his father's work. The psychiatrist relates the details of the conversation to the police, noting that Mark has \"his father's eyes\". Mark is tailed by the police who follow him to the building where he takes photographs of the pin-up model Milly . Two versions of this scene were shot. The more risqué version is credited as being the first female nude scene in a major British feature Nudist Paradise  was released before Peeping Tom  and that had fully naked women in it . Mark kills Milly and then returns home. Helen, who is curious about Mark's films, finally runs one of them. She becomes visibly upset and frightened when he catches her. Mark reveals that he makes the movies so that he can capture the fear of his victims. He has mounted a round mirror atop his camera, so that he can capture the reactions of his victims as they see their impending deaths. The police arrive and Mark realizes he is cornered. As he had planned from the very beginning, he impales himself with a knife attached to one of the camera's tripod legs, killing himself the same way he dispatched his victims, and with the camera running, providing the finale for his documentary.</td>\n",
              "      <td>[Thriller, Crime Fiction, Horror, Psychological thriller, Cult, Suspense]</td>\n",
              "    </tr>\n",
              "    <tr>\n",
              "      <th>65371</th>\n",
              "      <td>1794176</td>\n",
              "      <td>Belphégor - Le fantôme du Louvre</td>\n",
              "      <td>A rare collection of artifacts from an archeological dig in Egypt are brought to the famous Musée du Louvre in Paris. While experts are using a laser scanning device to determine the age of a sarcophagus, a ghostly spirit escapes and makes its way into the museum's electrical system. Museum curator Faussier  brings in a noted Egyptologist, Glenda Spencer , to examine the findings, and she announces that the mummy inside the coffin was actually the evil spirit Belphegor. Meanwhile, a young woman named Lisa  who lives across the street from the museum follows her runaway cat into the Louvre after closing time. She is accidentally given a shock that sends the stray spirit into her body. Soon Lisa is disguising herself as Belphegor and making off with the rare Egyptian treasures on display at the museum, convinced that they are rightfully hers. When Belphegor proves more than a match for the Louvre's security forces, renowned detective Verlac  is brought out of retirement to find out why the museum's Egyptian collection has been shrinking.</td>\n",
              "      <td>[Horror, Fantasy, World cinema]</td>\n",
              "    </tr>\n",
              "    <tr>\n",
              "      <th>58013</th>\n",
              "      <td>26049342</td>\n",
              "      <td>Posse from Hell</td>\n",
              "      <td>In 1880 four escapees from death row, Crip , Leo , Chunk  and Hash  ride into the town of Paradise and enter the Rosebud Saloon. Crip shoots the town marshal Issac Webb  and takes ten men as hostages, killing some to ensure the four are unmolested. The gang leaves town with $11,200 from the Bank of Paradise and a female hostage Helen Caldwell  who entered the bar because her alcoholic Uncle Billy  was one of the captives. Prior to these events, Marshal Webb had sent for a friend and former gunfighter Banner Cole to take his place in leading a posse to rescue Helen and bring the men to justice. Though not a criminal, Cole is a loner that Webb wishes to enter the community through his being deputised. Cole is enraged to discover that the townspeople have put Webb on a table next to the three dead bodies of those murdered by the four. The doctor  said at first they thought Webb was dead himself, then realised he couldn't be moved so left him among the corpses. Webb's last act is to deputise Cole telling him to do the right thing, not out of hate, but out of liking people as the townsfolk are good people who have had bad things done to them. Cole agrees only out of liking Webb. The laconic Cole makes his original plan for hunting down the four by himself clear by turning down the offer of Webb's handcuffs by saying \"I won't be needing any.\" However, town elder Benson convinces Cole to follow Webb's wishes and organize a posse. The men of the town gather but enthusiasm wanes when not as many able bodied men as expected volunteer to go up against the killers, some men leaving because the posse doesn't outnumber the killers by ten to one. Cole's frank assessment of the situation scares others off with Cole saying \"If they're afraid of words they shouldn't go.\" Cole's posse eventually consists of the aged former Army Captain Jeremiah Brown ([[Robert Keith , who wishes to lead the posse himself in the manner of his long ago Army days, Uncle Billy, Burt Hogan , who wishes to revenge his brother Burl  murdered by the four, Jock Wiley ([[Paul Carr , a young gunhand seeking the experience to establish his reputation as a gunfighter, Seymour Kern ([[John Saxon , a bank employee who has just arrived on a special assignment from the New York parent and is browbeaten into joining to look after the bank's missing money and avoid taunts of cowardice from the bank manager , and Johnny Caddo , an Indian who merely thinks that joining is \"the right thing to do.\" Cole doesn't want any of the inexperienced and troublesome men to come with him but he has no choice. The posse discover Helen who has been left behind tied up near a rattlesnake that Cole is able to remove from Helen's vicinity. Helen has been raped and is unwilling to return to the town to face the shame of being vilified by the population. Cole orders the willing Uncle Billy to return her by force if necessary. Captain Brown demonstrates his aged incompetence by disobeying Cole's orders and opening fire and nearly murdering four cowhands who he mistakes for the four killers. Cole has to wound Jeremiah to stop his shooting spree and orders him back to town with the cowhands who have been waylaid by the killers. Cole's distrust of his own posse begins to subside when he is impressed by the determination of the inexperienced Seymour who has never ridden a horse or used a firearm before and the quiet Johnny Caddo's acceptance of the prejudicial treatment he gets from the posse. The posse tracks the four to a farmhouse and surrounds it until Hogan makes a noise starting a gunfight. Cole kills one of the outlaws. The boasting Wiley is unable to actually kill a man and is killed as he freezes, allowing the remaining three to escape. Hogan begins shooting the corpse of the outlaw that Cole himself killed telling himself and the posse that Hogan himself killed the man who killed his own brother. When the men note that all the witnesses agree that it was actually Hash who had murdered his brother, Hogan refuses to listen and leaves the posse to return to town. Cole, Caddo, and Seymour continue tracking the party to the desert but realise that the outlaws have doubled back and are intending on returning to shoot up Paradise.</td>\n",
              "      <td>[Western]</td>\n",
              "    </tr>\n",
              "  </tbody>\n",
              "</table>\n",
              "</div>\n",
              "      <button class=\"colab-df-convert\" onclick=\"convertToInteractive('df-4fccfe55-2c5d-4b49-9ab4-253a1645f115')\"\n",
              "              title=\"Convert this dataframe to an interactive table.\"\n",
              "              style=\"display:none;\">\n",
              "        \n",
              "  <svg xmlns=\"http://www.w3.org/2000/svg\" height=\"24px\"viewBox=\"0 0 24 24\"\n",
              "       width=\"24px\">\n",
              "    <path d=\"M0 0h24v24H0V0z\" fill=\"none\"/>\n",
              "    <path d=\"M18.56 5.44l.94 2.06.94-2.06 2.06-.94-2.06-.94-.94-2.06-.94 2.06-2.06.94zm-11 1L8.5 8.5l.94-2.06 2.06-.94-2.06-.94L8.5 2.5l-.94 2.06-2.06.94zm10 10l.94 2.06.94-2.06 2.06-.94-2.06-.94-.94-2.06-.94 2.06-2.06.94z\"/><path d=\"M17.41 7.96l-1.37-1.37c-.4-.4-.92-.59-1.43-.59-.52 0-1.04.2-1.43.59L10.3 9.45l-7.72 7.72c-.78.78-.78 2.05 0 2.83L4 21.41c.39.39.9.59 1.41.59.51 0 1.02-.2 1.41-.59l7.78-7.78 2.81-2.81c.8-.78.8-2.07 0-2.86zM5.41 20L4 18.59l7.72-7.72 1.47 1.35L5.41 20z\"/>\n",
              "  </svg>\n",
              "      </button>\n",
              "      \n",
              "  <style>\n",
              "    .colab-df-container {\n",
              "      display:flex;\n",
              "      flex-wrap:wrap;\n",
              "      gap: 12px;\n",
              "    }\n",
              "\n",
              "    .colab-df-convert {\n",
              "      background-color: #E8F0FE;\n",
              "      border: none;\n",
              "      border-radius: 50%;\n",
              "      cursor: pointer;\n",
              "      display: none;\n",
              "      fill: #1967D2;\n",
              "      height: 32px;\n",
              "      padding: 0 0 0 0;\n",
              "      width: 32px;\n",
              "    }\n",
              "\n",
              "    .colab-df-convert:hover {\n",
              "      background-color: #E2EBFA;\n",
              "      box-shadow: 0px 1px 2px rgba(60, 64, 67, 0.3), 0px 1px 3px 1px rgba(60, 64, 67, 0.15);\n",
              "      fill: #174EA6;\n",
              "    }\n",
              "\n",
              "    [theme=dark] .colab-df-convert {\n",
              "      background-color: #3B4455;\n",
              "      fill: #D2E3FC;\n",
              "    }\n",
              "\n",
              "    [theme=dark] .colab-df-convert:hover {\n",
              "      background-color: #434B5C;\n",
              "      box-shadow: 0px 1px 3px 1px rgba(0, 0, 0, 0.15);\n",
              "      filter: drop-shadow(0px 1px 2px rgba(0, 0, 0, 0.3));\n",
              "      fill: #FFFFFF;\n",
              "    }\n",
              "  </style>\n",
              "\n",
              "      <script>\n",
              "        const buttonEl =\n",
              "          document.querySelector('#df-4fccfe55-2c5d-4b49-9ab4-253a1645f115 button.colab-df-convert');\n",
              "        buttonEl.style.display =\n",
              "          google.colab.kernel.accessAllowed ? 'block' : 'none';\n",
              "\n",
              "        async function convertToInteractive(key) {\n",
              "          const element = document.querySelector('#df-4fccfe55-2c5d-4b49-9ab4-253a1645f115');\n",
              "          const dataTable =\n",
              "            await google.colab.kernel.invokeFunction('convertToInteractive',\n",
              "                                                     [key], {});\n",
              "          if (!dataTable) return;\n",
              "\n",
              "          const docLinkHtml = 'Like what you see? Visit the ' +\n",
              "            '<a target=\"_blank\" href=https://colab.research.google.com/notebooks/data_table.ipynb>data table notebook</a>'\n",
              "            + ' to learn more about interactive tables.';\n",
              "          element.innerHTML = '';\n",
              "          dataTable['output_type'] = 'display_data';\n",
              "          await google.colab.output.renderOutput(dataTable, element);\n",
              "          const docLink = document.createElement('div');\n",
              "          docLink.innerHTML = docLinkHtml;\n",
              "          element.appendChild(docLink);\n",
              "        }\n",
              "      </script>\n",
              "    </div>\n",
              "  </div>\n",
              "  "
            ]
          },
          "metadata": {},
          "execution_count": 9
        }
      ],
      "source": [
        "movies = data.dropna(subset=[\"plot_summary\"])[[\"wikipedia_movie_id\", \"movie_name\", \"plot_summary\", \"genres_extract\"]].copy()\n",
        "movies.sample(3)"
      ]
    },
    {
      "cell_type": "code",
      "execution_count": null,
      "metadata": {
        "id": "VIjB0BBLQcDW"
      },
      "outputs": [],
      "source": [
        "movies[\"len_full_summary\"] = movies.plot_summary.apply(lambda x: len(x.split(\" \")))"
      ]
    },
    {
      "cell_type": "code",
      "execution_count": null,
      "metadata": {
        "id": "EcpxFJHnAweQ"
      },
      "outputs": [],
      "source": [
        "# print(\"min. length of summary: {}\".format(min(movies.len_full_summary)))\n",
        "# print(\"max. length of summary: {}\".format(max(movies.len_full_summary)))"
      ]
    },
    {
      "cell_type": "code",
      "execution_count": null,
      "metadata": {
        "id": "a6n-BA1R-3NZ"
      },
      "outputs": [],
      "source": [
        "# movies[\"len_plot_summary\"] = movies.plot_summary.apply(lambda x: len(x.split(\" \")))\n",
        "# movies.agg({'len_plot_summary': ['mean', 'min', 'max']})"
      ]
    },
    {
      "cell_type": "code",
      "execution_count": null,
      "metadata": {
        "id": "SU3rFiboIBcH"
      },
      "outputs": [],
      "source": [
        "# movies.sort_values(by = [\"len_full_summary\"]).head(20)"
      ]
    },
    {
      "cell_type": "code",
      "execution_count": null,
      "metadata": {
        "id": "FYyogKTELw_S"
      },
      "outputs": [],
      "source": [
        "# movies = movies[movies.len_full_summary > 7]\n",
        "# movies.reset_index(inplace=True, drop=True)"
      ]
    },
    {
      "cell_type": "code",
      "execution_count": null,
      "metadata": {
        "id": "n60kIH1nZGHH"
      },
      "outputs": [],
      "source": [
        "# summary of genres\n",
        "from collections import Counter\n",
        "\n",
        "genre_summary = []\n",
        "for m in movies.genres_extract:\n",
        "  genre_summary += m.copy()\n",
        "\n",
        "genre_summary = dict(Counter(genre_summary))"
      ]
    },
    {
      "cell_type": "code",
      "execution_count": null,
      "metadata": {
        "id": "Jpdfh3F3a-0z"
      },
      "outputs": [],
      "source": [
        "# print top genres\n",
        "top_genres = {\"genre\": [],\n",
        "              \"num_movies\": [],\n",
        "              \"proportion\": []}\n",
        "for key, val in genre_summary.items():\n",
        "  if val > 1300:\n",
        "    top_genres[\"genre\"].append(key)\n",
        "    top_genres[\"num_movies\"].append(val)\n",
        "    top_genres[\"proportion\"].append(round((val / movies.shape[0]), 5))\n",
        "\n",
        "top_genres = pd.DataFrame(top_genres)\n",
        "# top_genres.sort_values(by=\"proportion\", ascending=False)"
      ]
    },
    {
      "cell_type": "code",
      "execution_count": null,
      "metadata": {
        "id": "jCzJw5zvjr10"
      },
      "outputs": [],
      "source": [
        "# number of all possible genres \n",
        "# (len(genre_summary.keys()))"
      ]
    },
    {
      "cell_type": "code",
      "execution_count": null,
      "metadata": {
        "colab": {
          "base_uri": "https://localhost:8080/"
        },
        "id": "93v615E9qUVD",
        "outputId": "b85b2928-6e58-41b3-daa1-8bd56c2e102d"
      },
      "outputs": [
        {
          "output_type": "stream",
          "name": "stdout",
          "text": [
            "[nltk_data] Downloading package stopwords to /root/nltk_data...\n",
            "[nltk_data]   Unzipping corpora/stopwords.zip.\n"
          ]
        }
      ],
      "source": [
        "### PREPROCESSING \n",
        "nltk.download('stopwords')\n",
        "stop = stopwords.words('english')\n",
        "\n",
        "def preprocess_df(df, stop_words=stop):\n",
        "  # removing long words\n",
        "  print(\"===== REMOVING WORDS THAT ARE MORE THAN 20 CHRACTERS LONG / WEBSITE FORMATTING WORDS\")\n",
        "  df['plot_summary'] = df.plot_summary.apply(lambda x: ' '.join([word for word in x.split() \n",
        "                                                                 if (len(word) <= 20) and (\"http\" not in word) and (\"www\" not in word)\n",
        "                                                                 and (\".com\" not in word) and (\".org\" not in word) and (\".net\" not in word)]))\n",
        "  # removing punctuation & lowercasing\n",
        "  print(\"===== LOWERCASING & REMOVING PUNCTUATION FROM TEXT\")\n",
        "  df['plot_summary'] = df.plot_summary.apply(lambda x: re.sub(r'[^a-z0-9 ]', '', x.lower()))\n",
        "  # removing stop words\n",
        "  # stemmer = PorterStemmer()\n",
        "  print(\"===== REMOVING STOP WORDS\")\n",
        "  # df['plot_summary'] = df.plot_summary.apply(lambda x: ' '.join([stemmer.stem(word) for word in x.split() if word not in (stop_words)]))\n",
        "  df['plot_summary'] = df.plot_summary.apply(lambda x: ' '.join([word for word in x.split() if word not in (stop_words)]))\n",
        "\n",
        "  # genre parsing\n",
        "  print(\"genre extracting\")\n",
        "  df['genres_extract'] = df.genres_extract.apply(lambda x: re.sub(r'\\/', ', ', str(x)))\n",
        "  df['genres_extract'] = df.genres_extract.apply(lambda x: re.sub(r'[^\\w\\s\\,]', '', x))\n",
        "  df['genres_extract'] = df.genres_extract.apply(lambda x: list(set(x.split(\", \"))))\n",
        "  return df"
      ]
    },
    {
      "cell_type": "code",
      "execution_count": null,
      "metadata": {
        "colab": {
          "base_uri": "https://localhost:8080/"
        },
        "id": "pWtnF4YvqYfH",
        "outputId": "7cf73d8f-13ba-40d5-ca97-4cda3d051cbc"
      },
      "outputs": [
        {
          "output_type": "stream",
          "name": "stdout",
          "text": [
            "===== REMOVING WORDS THAT ARE MORE THAN 20 CHRACTERS LONG / WEBSITE FORMATTING WORDS\n",
            "===== LOWERCASING & REMOVING PUNCTUATION FROM TEXT\n",
            "===== REMOVING STOP WORDS\n",
            "genre extracting\n"
          ]
        }
      ],
      "source": [
        "movies_cleaned = preprocess_df(movies.copy())"
      ]
    },
    {
      "cell_type": "code",
      "execution_count": null,
      "metadata": {
        "id": "mbG_lZ7SEuZC",
        "colab": {
          "base_uri": "https://localhost:8080/"
        },
        "outputId": "21561359-14a6-49ce-ba54-dd9ba8c31418"
      },
      "outputs": [
        {
          "output_type": "stream",
          "name": "stdout",
          "text": [
            "min. length of summary: 4\n",
            "max. length of summary: 4942\n"
          ]
        }
      ],
      "source": [
        "movies_cleaned[\"len_cleaned_summary\"] = movies_cleaned.plot_summary.apply(lambda x: len(x.split(\" \")))\n",
        "print(\"min. length of summary: {}\".format(min(movies_cleaned.len_full_summary)))\n",
        "print(\"max. length of summary: {}\".format(max(movies_cleaned.len_full_summary)))"
      ]
    },
    {
      "cell_type": "code",
      "execution_count": null,
      "metadata": {
        "id": "JDwWTn0CFGki"
      },
      "outputs": [],
      "source": [
        "# movies_cleaned.sort_values(by=[\"len_cleaned_summary\"], ascending=True).head(20)"
      ]
    },
    {
      "cell_type": "code",
      "execution_count": null,
      "metadata": {
        "id": "yfFEbzCadRoo"
      },
      "outputs": [],
      "source": [
        "# Truncate target variable (genres)\n",
        "top_10_genre_list = top_genres.sort_values(by=\"proportion\", ascending=False).head(10).genre.tolist()\n",
        "for i in range(len(top_10_genre_list)):\n",
        "  if top_10_genre_list[i] == \"Black-and-white\":\n",
        "    top_10_genre_list[i] = \"Blackandwhite\"\n",
        "\n",
        "top_20_genre_list = top_genres.sort_values(by=\"proportion\", ascending=False).head(20).genre.tolist()\n",
        "for i in range(len(top_20_genre_list)):\n",
        "  if top_20_genre_list[i] == \"Black-and-white\":\n",
        "    top_20_genre_list[i] = \"Blackandwhite\"\n",
        "top_20_genre_list.remove(\"Action/Adventure\")\n",
        "\n",
        "def recategorize_target(targets: list, genre_list=top_10_genre_list):\n",
        "  new_targets = []\n",
        "\n",
        "  # replace any genre that isn't in top 10 list with \"Other\" category\n",
        "  for g in targets:\n",
        "    if g in genre_list:\n",
        "      new_targets.append(g)\n",
        "    else:\n",
        "      new_targets.append(\"Other\")\n",
        "\n",
        "  # deduplicate\n",
        "  new_targets = list(dict.fromkeys(new_targets.copy()))\n",
        "  \n",
        "  return new_targets"
      ]
    },
    {
      "cell_type": "code",
      "execution_count": null,
      "metadata": {
        "id": "a97OoGgde41q"
      },
      "outputs": [],
      "source": [
        "movies_cleaned[\"genres_extract_short\"] = movies_cleaned[\"genres_extract\"].apply(lambda x: recategorize_target(x))\n",
        "movies_cleaned.reset_index(inplace=True, drop=True)"
      ]
    },
    {
      "cell_type": "code",
      "execution_count": null,
      "metadata": {
        "id": "bWwxDLkM3KfJ"
      },
      "outputs": [],
      "source": [
        "# evaluation function using sklearn packaged functions\n",
        "def evaluate_multi_label_f1_score(y_true, y_pred, t=0.5):\n",
        "  \"\"\"\n",
        "  Calculate the performance metrics of a dataset given the true (actual/correct) \n",
        "  labels and the predicted (guessed) labels, using sklearn functions.\n",
        "  \"\"\"\n",
        "  actuals = deepcopy(y_true)\n",
        "  preds = deepcopy(y_pred)\n",
        "\n",
        "  accuracy = accuracy_score(actuals, preds)\n",
        "  # binary accuracy using keras formulation\n",
        "  m = tf.keras.metrics.BinaryAccuracy(threshold=t)\n",
        "  m.update_state(actuals, preds)\n",
        "  tf_accuracy = float(m.result().numpy())\n",
        "\n",
        "  micro_f1 = f1_score(actuals, preds, average=\"micro\", zero_division=0)\n",
        "  macro_f1 = f1_score(actuals, preds, average=\"macro\", zero_division=0)\n",
        "  weighted_f1 = f1_score(actuals, preds, average=\"weighted\", zero_division=0)\n",
        "\n",
        "  print(f\"\\nkeras Accuracy: {round(tf_accuracy, 4)}\")\n",
        "  print(f\"Macro-F1 Score: {round(macro_f1, 4)}, Weighted F1 Score: {round(weighted_f1, 4)}, Micro-F1 Score: {round(micro_f1, 4)}\")"
      ]
    },
    {
      "cell_type": "code",
      "execution_count": null,
      "metadata": {
        "id": "2gzEoDQ40DQj"
      },
      "outputs": [],
      "source": [
        "from sklearn.model_selection import train_test_split\n",
        "from sklearn.feature_extraction.text import CountVectorizer\n",
        "from sklearn.feature_extraction.text import TfidfTransformer\n",
        "from sklearn.naive_bayes import MultinomialNB\n",
        "from sklearn.preprocessing import MultiLabelBinarizer\n",
        "from sklearn.pipeline import Pipeline\n",
        "from sklearn.metrics import f1_score, accuracy_score"
      ]
    },
    {
      "cell_type": "code",
      "execution_count": null,
      "metadata": {
        "id": "SYXtgXtxb3ZT",
        "colab": {
          "base_uri": "https://localhost:8080/"
        },
        "outputId": "4e4f5a78-6260-49ce-edea-ba6c845ef113"
      },
      "outputs": [
        {
          "output_type": "stream",
          "name": "stdout",
          "text": [
            "['Drama', 'Comedy', 'Romance Film', 'Thriller', 'Action', 'World cinema', 'Crime Fiction', 'Horror', 'Blackandwhite', 'Indie']\n",
            "['Drama', 'Comedy', 'Romance Film', 'Thriller', 'Action', 'World cinema', 'Crime Fiction', 'Horror', 'Blackandwhite', 'Indie', 'Adventure', 'Family Film', 'Short Film', 'Romantic drama', 'Animation', 'Musical', 'Science Fiction', 'Mystery', 'Romantic comedy']\n"
          ]
        }
      ],
      "source": [
        "print(top_10_genre_list)\n",
        "print(top_20_genre_list)"
      ]
    },
    {
      "cell_type": "code",
      "execution_count": null,
      "metadata": {
        "id": "6T1PQzR2vuAe"
      },
      "outputs": [],
      "source": [
        "from wordcloud import WordCloud, STOPWORDS, ImageColorGenerator\n",
        "import matplotlib.pyplot as plt"
      ]
    },
    {
      "cell_type": "code",
      "execution_count": null,
      "metadata": {
        "id": "yqByULp6vuFA"
      },
      "outputs": [],
      "source": [
        "movies_cleaned[\"genres_extract_str\"] = movies_cleaned.genres_extract_short.apply(lambda x: str(x))"
      ]
    },
    {
      "cell_type": "markdown",
      "source": [
        "# Code to generate Word Clouds"
      ],
      "metadata": {
        "id": "6L4pqFYQHEsR"
      }
    },
    {
      "cell_type": "code",
      "source": [
        "drama_text = movies_cleaned[movies_cleaned['genres_extract_str'].str.contains(\"Drama\")][\"plot_summary\"].str.cat(sep=' ')\n",
        "\n",
        "wordcloud = WordCloud().generate(drama_text)\n",
        "plt.imshow(wordcloud)\n",
        "plt.axis(\"off\")\n",
        "plt.figure(figsize=(10,7))\n",
        "plt.show()"
      ],
      "metadata": {
        "colab": {
          "base_uri": "https://localhost:8080/",
          "height": 215
        },
        "id": "d-Zm-6WD463M",
        "outputId": "ef7a4916-8264-4697-ec1e-c094652aebb1"
      },
      "execution_count": null,
      "outputs": [
        {
          "output_type": "display_data",
          "data": {
            "text/plain": [
              "<Figure size 432x288 with 1 Axes>"
            ],
            "image/png": "[encoded data removed]"
          },
          "metadata": {
            "needs_background": "light"
          }
        },
        {
          "output_type": "display_data",
          "data": {
            "text/plain": [
              "<Figure size 720x504 with 0 Axes>"
            ]
          },
          "metadata": {}
        }
      ]
    },
    {
      "cell_type": "code",
      "execution_count": null,
      "metadata": {
        "id": "F1Zj3BUIzCQK",
        "colab": {
          "base_uri": "https://localhost:8080/",
          "height": 215
        },
        "outputId": "b5b54122-c71b-424d-ab0b-2f23479eb164"
      },
      "outputs": [
        {
          "output_type": "display_data",
          "data": {
            "text/plain": [
              "<Figure size 432x288 with 1 Axes>"
            ],
            "image/png": "[encoded data removed]"
          },
          "metadata": {
            "needs_background": "light"
          }
        },
        {
          "output_type": "display_data",
          "data": {
            "text/plain": [
              "<Figure size 720x504 with 0 Axes>"
            ]
          },
          "metadata": {}
        }
      ],
      "source": [
        "comedy_text = movies_cleaned[movies_cleaned['genres_extract_str'].str.contains(\"Comedy\")][\"plot_summary\"].str.cat(sep=' ')\n",
        "\n",
        "wordcloud = WordCloud().generate(comedy_text)\n",
        "plt.imshow(wordcloud)\n",
        "plt.axis(\"off\")\n",
        "plt.figure(figsize=(10,7))\n",
        "plt.show()"
      ]
    },
    {
      "cell_type": "code",
      "execution_count": null,
      "metadata": {
        "id": "MvTfWwThzCSw",
        "colab": {
          "base_uri": "https://localhost:8080/",
          "height": 215
        },
        "outputId": "a558d36c-1625-4e67-932b-a62871f766d8"
      },
      "outputs": [
        {
          "output_type": "display_data",
          "data": {
            "text/plain": [
              "<Figure size 432x288 with 1 Axes>"
            ],
            "image/png": "[encoded data removed]"
          },
          "metadata": {
            "needs_background": "light"
          }
        },
        {
          "output_type": "display_data",
          "data": {
            "text/plain": [
              "<Figure size 720x504 with 0 Axes>"
            ]
          },
          "metadata": {}
        }
      ],
      "source": [
        "romance_film_text = movies_cleaned[movies_cleaned['genres_extract_str'].str.contains(\"Romance Film\")][\"plot_summary\"].str.cat(sep=' ')\n",
        "\n",
        "wordcloud = WordCloud().generate(romance_film_text)\n",
        "plt.imshow(wordcloud)\n",
        "plt.axis(\"off\")\n",
        "plt.figure(figsize=(10,7))\n",
        "plt.show()"
      ]
    },
    {
      "cell_type": "code",
      "execution_count": null,
      "metadata": {
        "id": "oO7KGHqOzCVJ"
      },
      "outputs": [],
      "source": [
        "# all_genres = {\"genre\": [],\n",
        "#               \"num_movies\": [],\n",
        "#               \"proportion\": []}\n",
        "# for key, val in genre_summary.items():\n",
        "#   all_genres[\"genre\"].append(key)\n",
        "#   all_genres[\"num_movies\"].append(val)\n",
        "#   all_genres[\"proportion\"].append(round((val / movies.shape[0]), 5))\n",
        "\n",
        "# all_genres = pd.DataFrame(all_genres)\n",
        "\n",
        "# all_genres = all_genres.sort_values(by = ['genre'])"
      ]
    },
    {
      "cell_type": "code",
      "source": [
        "# all_genres[all_genres.genre.str.contains(\"Action\")]"
      ],
      "metadata": {
        "colab": {
          "base_uri": "https://localhost:8080/",
          "height": 175
        },
        "id": "6PyNdXoB15dv",
        "outputId": "b25fe029-9843-4fc0-aaab-f9950d23115d"
      },
      "execution_count": null,
      "outputs": [
        {
          "output_type": "execute_result",
          "data": {
            "text/plain": [
              "               genre  num_movies  proportion\n",
              "5             Action        5868     0.13904\n",
              "50     Action Comedy         142     0.00336\n",
              "61  Action Thrillers         405     0.00960\n",
              "35  Action/Adventure        3553     0.08419"
            ],
            "text/html": [
              "\n",
              "  <div id=\"df-b78da074-e3b1-4b88-9b99-bd8ae9f8d452\">\n",
              "    <div class=\"colab-df-container\">\n",
              "      <div>\n",
              "<style scoped>\n",
              "    .dataframe tbody tr th:only-of-type {\n",
              "        vertical-align: middle;\n",
              "    }\n",
              "\n",
              "    .dataframe tbody tr th {\n",
              "        vertical-align: top;\n",
              "    }\n",
              "\n",
              "    .dataframe thead th {\n",
              "        text-align: right;\n",
              "    }\n",
              "</style>\n",
              "<table border=\"1\" class=\"dataframe\">\n",
              "  <thead>\n",
              "    <tr style=\"text-align: right;\">\n",
              "      <th></th>\n",
              "      <th>genre</th>\n",
              "      <th>num_movies</th>\n",
              "      <th>proportion</th>\n",
              "    </tr>\n",
              "  </thead>\n",
              "  <tbody>\n",
              "    <tr>\n",
              "      <th>5</th>\n",
              "      <td>Action</td>\n",
              "      <td>5868</td>\n",
              "      <td>0.13904</td>\n",
              "    </tr>\n",
              "    <tr>\n",
              "      <th>50</th>\n",
              "      <td>Action Comedy</td>\n",
              "      <td>142</td>\n",
              "      <td>0.00336</td>\n",
              "    </tr>\n",
              "    <tr>\n",
              "      <th>61</th>\n",
              "      <td>Action Thrillers</td>\n",
              "      <td>405</td>\n",
              "      <td>0.00960</td>\n",
              "    </tr>\n",
              "    <tr>\n",
              "      <th>35</th>\n",
              "      <td>Action/Adventure</td>\n",
              "      <td>3553</td>\n",
              "      <td>0.08419</td>\n",
              "    </tr>\n",
              "  </tbody>\n",
              "</table>\n",
              "</div>\n",
              "      <button class=\"colab-df-convert\" onclick=\"convertToInteractive('df-b78da074-e3b1-4b88-9b99-bd8ae9f8d452')\"\n",
              "              title=\"Convert this dataframe to an interactive table.\"\n",
              "              style=\"display:none;\">\n",
              "        \n",
              "  <svg xmlns=\"http://www.w3.org/2000/svg\" height=\"24px\"viewBox=\"0 0 24 24\"\n",
              "       width=\"24px\">\n",
              "    <path d=\"M0 0h24v24H0V0z\" fill=\"none\"/>\n",
              "    <path d=\"M18.56 5.44l.94 2.06.94-2.06 2.06-.94-2.06-.94-.94-2.06-.94 2.06-2.06.94zm-11 1L8.5 8.5l.94-2.06 2.06-.94-2.06-.94L8.5 2.5l-.94 2.06-2.06.94zm10 10l.94 2.06.94-2.06 2.06-.94-2.06-.94-.94-2.06-.94 2.06-2.06.94z\"/><path d=\"M17.41 7.96l-1.37-1.37c-.4-.4-.92-.59-1.43-.59-.52 0-1.04.2-1.43.59L10.3 9.45l-7.72 7.72c-.78.78-.78 2.05 0 2.83L4 21.41c.39.39.9.59 1.41.59.51 0 1.02-.2 1.41-.59l7.78-7.78 2.81-2.81c.8-.78.8-2.07 0-2.86zM5.41 20L4 18.59l7.72-7.72 1.47 1.35L5.41 20z\"/>\n",
              "  </svg>\n",
              "      </button>\n",
              "      \n",
              "  <style>\n",
              "    .colab-df-container {\n",
              "      display:flex;\n",
              "      flex-wrap:wrap;\n",
              "      gap: 12px;\n",
              "    }\n",
              "\n",
              "    .colab-df-convert {\n",
              "      background-color: #E8F0FE;\n",
              "      border: none;\n",
              "      border-radius: 50%;\n",
              "      cursor: pointer;\n",
              "      display: none;\n",
              "      fill: #1967D2;\n",
              "      height: 32px;\n",
              "      padding: 0 0 0 0;\n",
              "      width: 32px;\n",
              "    }\n",
              "\n",
              "    .colab-df-convert:hover {\n",
              "      background-color: #E2EBFA;\n",
              "      box-shadow: 0px 1px 2px rgba(60, 64, 67, 0.3), 0px 1px 3px 1px rgba(60, 64, 67, 0.15);\n",
              "      fill: #174EA6;\n",
              "    }\n",
              "\n",
              "    [theme=dark] .colab-df-convert {\n",
              "      background-color: #3B4455;\n",
              "      fill: #D2E3FC;\n",
              "    }\n",
              "\n",
              "    [theme=dark] .colab-df-convert:hover {\n",
              "      background-color: #434B5C;\n",
              "      box-shadow: 0px 1px 3px 1px rgba(0, 0, 0, 0.15);\n",
              "      filter: drop-shadow(0px 1px 2px rgba(0, 0, 0, 0.3));\n",
              "      fill: #FFFFFF;\n",
              "    }\n",
              "  </style>\n",
              "\n",
              "      <script>\n",
              "        const buttonEl =\n",
              "          document.querySelector('#df-b78da074-e3b1-4b88-9b99-bd8ae9f8d452 button.colab-df-convert');\n",
              "        buttonEl.style.display =\n",
              "          google.colab.kernel.accessAllowed ? 'block' : 'none';\n",
              "\n",
              "        async function convertToInteractive(key) {\n",
              "          const element = document.querySelector('#df-b78da074-e3b1-4b88-9b99-bd8ae9f8d452');\n",
              "          const dataTable =\n",
              "            await google.colab.kernel.invokeFunction('convertToInteractive',\n",
              "                                                     [key], {});\n",
              "          if (!dataTable) return;\n",
              "\n",
              "          const docLinkHtml = 'Like what you see? Visit the ' +\n",
              "            '<a target=\"_blank\" href=https://colab.research.google.com/notebooks/data_table.ipynb>data table notebook</a>'\n",
              "            + ' to learn more about interactive tables.';\n",
              "          element.innerHTML = '';\n",
              "          dataTable['output_type'] = 'display_data';\n",
              "          await google.colab.output.renderOutput(dataTable, element);\n",
              "          const docLink = document.createElement('div');\n",
              "          docLink.innerHTML = docLinkHtml;\n",
              "          element.appendChild(docLink);\n",
              "        }\n",
              "      </script>\n",
              "    </div>\n",
              "  </div>\n",
              "  "
            ]
          },
          "metadata": {},
          "execution_count": 39
        }
      ]
    },
    {
      "cell_type": "markdown",
      "metadata": {
        "id": "4rEO9nRyNpT_"
      },
      "source": [
        "## Creating Train/Test Sets"
      ]
    },
    {
      "cell_type": "code",
      "execution_count": null,
      "metadata": {
        "id": "H6k9T6kwHE_C"
      },
      "outputs": [],
      "source": [
        "movies_cleaned[\"genres_extract_str\"] = movies_cleaned.genres_extract_short.apply(lambda x: str(x))"
      ]
    },
    {
      "cell_type": "code",
      "execution_count": null,
      "metadata": {
        "id": "mBYTU0SUv0dM"
      },
      "outputs": [],
      "source": [
        "movies_cleaned = movies_cleaned[movies_cleaned.genres_extract_str != \"['']\"]\n",
        "movies_cleaned.reset_index(inplace=True, drop=True)"
      ]
    },
    {
      "cell_type": "code",
      "execution_count": null,
      "metadata": {
        "id": "rV6T8zIRVO39"
      },
      "outputs": [],
      "source": [
        "### POTENTIAL BERT IMPROVEMENT\n",
        "# instead of truncation from the beginning of the summaries, start from the middle / to the end\n",
        "# if plot summary is greater than 100 words, sample sentences from the end\n",
        "import random\n",
        "\n",
        "def truncate_tokens(l, n=100, level=\"default\"):\n",
        "  if len(l) > n:\n",
        "    if level == \"default\":\n",
        "      out = deepcopy(l[:n])\n",
        "    elif level == \"reverse\":\n",
        "      out = deepcopy(l[-n:])\n",
        "    elif level == \"random\":\n",
        "      out = random.sample(deepcopy(l), n)\n",
        "    else:\n",
        "      raise Exception(\"Please define a word-sampling strategy.\")\n",
        "  else:\n",
        "    out = deepcopy(l)\n",
        "  return out\n",
        "\n",
        "movies_cleaned[\"split_summaries\"] = movies_cleaned[\"plot_summary\"].copy().str.split()\n",
        "movies_cleaned[\"trunc_summaries\"] = movies_cleaned[\"split_summaries\"].apply(lambda x: truncate_tokens(x, n=150, level=\"reverse\"))\n",
        "movies_cleaned[\"trunc_summaries\"] = movies_cleaned.trunc_summaries.apply(lambda x: \" \".join(x))"
      ]
    },
    {
      "cell_type": "code",
      "execution_count": null,
      "metadata": {
        "colab": {
          "base_uri": "https://localhost:8080/"
        },
        "id": "jlCR51QxNKV1",
        "outputId": "485a0809-ef76-4f40-b999-6dd0783db745"
      },
      "outputs": [
        {
          "output_type": "execute_result",
          "data": {
            "text/plain": [
              "array(['Action', 'Blackandwhite', 'Comedy', 'Crime Fiction', 'Drama',\n",
              "       'Horror', 'Indie', 'Other', 'Romance Film', 'Thriller',\n",
              "       'World cinema'], dtype=object)"
            ]
          },
          "metadata": {},
          "execution_count": 27
        }
      ],
      "source": [
        "mlb = MultiLabelBinarizer()\n",
        "y = mlb.fit_transform(movies_cleaned['genres_extract_short'].copy())\n",
        "mlb.classes_"
      ]
    },
    {
      "cell_type": "code",
      "execution_count": null,
      "metadata": {
        "colab": {
          "base_uri": "https://localhost:8080/"
        },
        "id": "IlzdIYl0Ls9_",
        "outputId": "161edd01-e02e-4b8a-eb65-fbe81d01e22c"
      },
      "outputs": [
        {
          "output_type": "stream",
          "name": "stdout",
          "text": [
            "train shape: (31653,)\n",
            "(31653, 11)\n",
            "test shape: (10551,)\n",
            "(10551, 11)\n"
          ]
        }
      ],
      "source": [
        "X_train, X_test, y_train, y_test = train_test_split(movies_cleaned[\"plot_summary\"], y, random_state=408) # plot_summary\n",
        "print(\"train shape: {}\".format(X_train.shape))\n",
        "print(y_train.shape)\n",
        "print(\"test shape: {}\".format(X_test.shape))\n",
        "print(y_test.shape)"
      ]
    },
    {
      "cell_type": "markdown",
      "metadata": {
        "id": "EB-8vkitKq3t"
      },
      "source": [
        "# Baseline Models\n",
        "Ensemble Naive Bayes model. (Initially tried KNN but KNN is invalid as a baseline comparison as it doesn't generate predictions). Constructed by running 11 individual Naive Bayes models on the top 10 genres (and one \"Other\"), then combining the result. <br>\n",
        "Use `CountVectorizer()` and `TfidfVectorizer()` to tokenize and prepare data."
      ]
    },
    {
      "cell_type": "code",
      "execution_count": null,
      "metadata": {
        "id": "pNa-XcicmY7g"
      },
      "outputs": [],
      "source": [
        "### creating binarized labels for top 10 genres\n",
        "movies_cleaned['is_drama'] = movies_cleaned.genres_extract.apply(lambda x: 1 if str('Drama' in x).lower() == \"true\" else 0)\n",
        "movies_cleaned['is_comedy'] = movies_cleaned.genres_extract.apply(lambda x: 1 if str('Comedy' in x).lower() == \"true\" else 0)\n",
        "movies_cleaned['is_romance_film'] = movies_cleaned.genres_extract.apply(lambda x: 1 if str('Romance Film' in x).lower() == \"true\" else 0)\n",
        "movies_cleaned['is_thriller'] = movies_cleaned.genres_extract.apply(lambda x: 1 if str('Thriller' in x).lower() == \"true\" else 0)\n",
        "movies_cleaned['is_action'] = movies_cleaned.genres_extract.apply(lambda x: 1 if (str('Action' in x).lower() == \"true\") or (str('Action/Adventure' in x).lower() == \"true\") else 0)\n",
        "movies_cleaned['is_world_cinema'] = movies_cleaned.genres_extract.apply(lambda x: 1 if str('World cinema' in x).lower() == \"true\" else 0)\n",
        "movies_cleaned['is_crime_fiction'] = movies_cleaned.genres_extract.apply(lambda x: 1 if str('Crime Fiction' in x).lower() == \"true\" else 0)\n",
        "movies_cleaned['is_horror'] = movies_cleaned.genres_extract.apply(lambda x: 1 if str('Horror' in x).lower() == \"true\" else 0)\n",
        "movies_cleaned['is_black_white'] = movies_cleaned.genres_extract.apply(lambda x: 1 if str('Blackandwhite' in x).lower() == \"true\" else 0)\n",
        "movies_cleaned['is_indie'] = movies_cleaned.genres_extract.apply(lambda x: 1 if str('Indie' in x).lower() == \"true\" else 0)\n",
        "# movies_cleaned['is_adventure'] = movies_cleaned.genres_extract.apply(lambda x: 1 if (str('Adventure' in x).lower() == \"true\") or (str('Action/Adventure' in x).lower() == \"true\") else 0)\n",
        "# movies_cleaned['is_family'] = movies_cleaned.genres_extract.apply(lambda x: 1 if str('Family Film' in x).lower() == \"true\" else 0)\n",
        "# movies_cleaned['is_short'] = movies_cleaned.genres_extract.apply(lambda x: 1 if str('Short Film' in x).lower() == \"true\" else 0)\n",
        "# movies_cleaned['is_rom_drama'] = movies_cleaned.genres_extract.apply(lambda x: 1 if str('Romantic drama' in x).lower() == \"true\" else 0)\n",
        "# movies_cleaned['is_animation'] = movies_cleaned.genres_extract.apply(lambda x: 1 if str('Animation' in x).lower() == \"true\" else 0)\n",
        "# movies_cleaned['is_musical'] = movies_cleaned.genres_extract.apply(lambda x: 1 if str('Musical' in x).lower() == \"true\" else 0)\n",
        "# movies_cleaned['is_scifi'] = movies_cleaned.genres_extract.apply(lambda x: 1 if str('Science Fiction' in x).lower() == \"true\" else 0)\n",
        "# movies_cleaned['is_mystery'] = movies_cleaned.genres_extract.apply(lambda x: 1 if str('Mystery' in x).lower() == \"true\" else 0)\n",
        "# movies_cleaned['is_romcom'] = movies_cleaned.genres_extract.apply(lambda x: 1 if str('Romantic comedy' in x).lower() == \"true\" else 0)\n",
        "movies_cleaned['is_other'] = movies_cleaned.genres_extract.apply(lambda x: 1 if len([genre for genre in x if genre not in top_10_genre_list]) >= 1 else 0)"
      ]
    },
    {
      "cell_type": "code",
      "execution_count": null,
      "metadata": {
        "colab": {
          "base_uri": "https://localhost:8080/"
        },
        "id": "gXPESgWKraZ8",
        "outputId": "1c9b362e-b521-43fb-a82a-ac20a9420bf8"
      },
      "outputs": [
        {
          "output_type": "execute_result",
          "data": {
            "text/plain": [
              "Index(['wikipedia_movie_id', 'movie_name', 'plot_summary', 'genres_extract',\n",
              "       'len_full_summary', 'len_cleaned_summary', 'genres_extract_short',\n",
              "       'genres_extract_str', 'split_summaries', 'trunc_summaries', 'is_drama',\n",
              "       'is_comedy', 'is_romance_film', 'is_thriller', 'is_action',\n",
              "       'is_world_cinema', 'is_crime_fiction', 'is_horror', 'is_black_white',\n",
              "       'is_indie', 'is_other'],\n",
              "      dtype='object')"
            ]
          },
          "metadata": {},
          "execution_count": 43
        }
      ],
      "source": [
        "movies_cleaned.columns"
      ]
    },
    {
      "cell_type": "code",
      "execution_count": null,
      "metadata": {
        "id": "UuhhPOMXZkFB"
      },
      "outputs": [],
      "source": [
        "# clf = KNeighborsClassifier(n_neighbors=5, weights='distance')\n",
        "clf = MultinomialNB()\n",
        "targets = ['is_drama', 'is_comedy', 'is_romance_film', 'is_thriller', 'is_action', 'is_world_cinema',\n",
        "           'is_crime_fiction', 'is_horror', 'is_black_white', 'is_indie', 'is_other']\n",
        "\n",
        "def train_baseline(data=movies_cleaned, models=targets, clf=clf, verbose=False):\n",
        "  \"\"\"\n",
        "  Helper function to create 11 separate Naive Bayes models\n",
        "  and combine in ensemble to generate multi-label predictions.\n",
        "  \"\"\"\n",
        "  df = deepcopy(data)\n",
        "  genres = deepcopy(models)\n",
        "  results = pd.DataFrame()\n",
        "\n",
        "  for g in genres:\n",
        "    if verbose:\n",
        "      print(f\"=== composing model for {g}\")\n",
        "    X_train, X_test, y_train, y_test = train_test_split(df['plot_summary'], df[g], random_state=408)\n",
        "    model = Pipeline([\n",
        "        ('vect', CountVectorizer()),\n",
        "        ('tfidf', TfidfTransformer()),\n",
        "        ('clf', clf)\n",
        "    ])\n",
        "    model.fit(X_train, y_train)\n",
        "    results[g] = model.predict(X_test)\n",
        "\n",
        "  test_true = deepcopy(df.iloc[X_test.index][targets].to_numpy())\n",
        "  test_pred = deepcopy(results.to_numpy())\n",
        "\n",
        "  return test_true, test_pred\n"
      ]
    },
    {
      "cell_type": "code",
      "execution_count": null,
      "metadata": {
        "id": "47dEvf0YUFyT"
      },
      "outputs": [],
      "source": [
        "actuals, preds = train_baseline()"
      ]
    },
    {
      "cell_type": "code",
      "execution_count": null,
      "metadata": {
        "id": "waT17WBChww6",
        "colab": {
          "base_uri": "https://localhost:8080/"
        },
        "outputId": "4c72e861-1be9-4a1d-8447-1defec862e05"
      },
      "outputs": [
        {
          "output_type": "stream",
          "name": "stdout",
          "text": [
            "\n",
            "keras Accuracy: 0.8807\n",
            "Macro-F1 Score: 0.0715, Weighted F1 Score: 0.3063, Micro-F1 Score: 0.4525\n"
          ]
        }
      ],
      "source": [
        "evaluate_multi_label_f1_score(y_true=actuals, y_pred=preds)"
      ]
    },
    {
      "cell_type": "markdown",
      "metadata": {
        "id": "zRpqCEt22926"
      },
      "source": [
        "## Improvements Upon Baseline"
      ]
    },
    {
      "cell_type": "code",
      "execution_count": null,
      "metadata": {
        "id": "3Xp96isQN_48",
        "colab": {
          "base_uri": "https://localhost:8080/"
        },
        "outputId": "44bf4a08-89e0-487a-9f04-e611c43472ab"
      },
      "outputs": [
        {
          "output_type": "stream",
          "name": "stdout",
          "text": [
            "\n",
            "keras Accuracy: 0.8402\n",
            "Macro-F1 Score: 0.4893, Weighted F1 Score: 0.63, Micro-F1 Score: 0.6449\n"
          ]
        }
      ],
      "source": [
        "### IMPROVEMENT 1: Try without Tfidf-Vectorizer (just CountVectorizer)\n",
        "def improve_baseline(data=movies_cleaned, models=targets, clf=clf, verbose=False):\n",
        "  df = deepcopy(data)\n",
        "  genres = deepcopy(models)\n",
        "  results = pd.DataFrame()\n",
        "\n",
        "  for g in genres:\n",
        "    if verbose:\n",
        "      print(f\"=== composing model for {g}\")\n",
        "    X_train, X_test, y_train, y_test = train_test_split(df['plot_summary'], df[g], random_state=408)\n",
        "    model = Pipeline([\n",
        "        ('vect', CountVectorizer()),\n",
        "        ('clf', clf)\n",
        "    ])\n",
        "    model.fit(X_train, y_train)\n",
        "    results[g] = model.predict(X_test)\n",
        "\n",
        "  test_true = deepcopy(df.iloc[X_test.index][targets].to_numpy())\n",
        "  test_pred = deepcopy(results.to_numpy())\n",
        "\n",
        "  return test_true, test_pred\n",
        "\n",
        "actuals_i, preds_i = improve_baseline()\n",
        "evaluate_multi_label_f1_score(y_true=actuals_i, y_pred=preds_i)"
      ]
    },
    {
      "cell_type": "markdown",
      "metadata": {
        "id": "7wNyjrc3YmOR"
      },
      "source": [
        "**When stopwords are removed, Improvement #1 increased all F1 scores (macro, weighted, and micro) AND keras accuracy but slightly decreased sklearn accuracy. This suggests that Tfidf-Vectorizer, which de-prioritizes high-frequency words, is detrimental and that high-frequency words actually contain more information about genres.**"
      ]
    },
    {
      "cell_type": "code",
      "source": [
        "counter = 0\n",
        "for i in range(actuals_i.shape[0]):\n",
        "  if str(actuals_i[i]) == str(preds_i[i]):\n",
        "    counter += 1\n",
        "\n",
        "counter"
      ],
      "metadata": {
        "colab": {
          "base_uri": "https://localhost:8080/"
        },
        "id": "Z8bjp_er4V8b",
        "outputId": "c2349887-ebc8-4b03-deb7-55e628c32a67"
      },
      "execution_count": null,
      "outputs": [
        {
          "output_type": "execute_result",
          "data": {
            "text/plain": [
              "1527"
            ]
          },
          "metadata": {},
          "execution_count": 54
        }
      ]
    },
    {
      "cell_type": "code",
      "source": [
        "results_df = pd.DataFrame(preds_i)\n",
        "results_df.columns = targets.copy()\n",
        "results_df.mean()"
      ],
      "metadata": {
        "colab": {
          "base_uri": "https://localhost:8080/"
        },
        "id": "_lYSEkAC6ZVr",
        "outputId": "dcef37b2-efcd-49fc-a469-54d408d6917d"
      },
      "execution_count": null,
      "outputs": [
        {
          "output_type": "execute_result",
          "data": {
            "text/plain": [
              "is_drama            0.580608\n",
              "is_comedy           0.252867\n",
              "is_romance_film     0.194579\n",
              "is_thriller         0.140366\n",
              "is_action           0.170316\n",
              "is_world_cinema     0.134774\n",
              "is_crime_fiction    0.069946\n",
              "is_horror           0.075064\n",
              "is_black_white      0.026443\n",
              "is_indie            0.018292\n",
              "is_other            0.818027\n",
              "dtype: float64"
            ]
          },
          "metadata": {},
          "execution_count": 58
        }
      ]
    },
    {
      "cell_type": "markdown",
      "metadata": {
        "id": "tYsmCK0DiFvN"
      },
      "source": [
        "## MultiGenre Baseline (Decision Trees)\n",
        "https://towardsai.net/p/l/predicting-genres-from-movie-quotes"
      ]
    },
    {
      "cell_type": "markdown",
      "metadata": {
        "id": "kSmaOMd-SdD8"
      },
      "source": [
        "old model metrics (full plot summary) (363 genres)"
      ]
    },
    {
      "cell_type": "code",
      "execution_count": null,
      "metadata": {
        "id": "AYsZKSBAiGCv"
      },
      "outputs": [],
      "source": [
        "from sklearn.multioutput import MultiOutputClassifier\n",
        "from sklearn.tree import DecisionTreeClassifier"
      ]
    },
    {
      "cell_type": "code",
      "source": [
        "### grabbing top 19 + 1 genres then training the dt classifier with truncated summaries\n",
        "\n",
        "movies_cleaned[\"genres_extract_short\"] = movies_cleaned[\"genres_extract\"].apply(lambda x: recategorize_target(x, top_20_genre_list))\n",
        "movies_cleaned.reset_index(inplace=True, drop=True)\n",
        "\n",
        "mlb = MultiLabelBinarizer()\n",
        "y = mlb.fit_transform(movies_cleaned['genres_extract_short'].copy())\n",
        "print(mlb.classes_)\n",
        "\n",
        "X_train, X_test, y_train, y_test = train_test_split(movies_cleaned[\"trunc_summaries\"], y, random_state=408) # plot_summary\n",
        "print(\"train shape: {}\".format(X_train.shape))\n",
        "print(y_train.shape)\n",
        "print(\"test shape: {}\".format(X_test.shape))\n",
        "print(y_test.shape)"
      ],
      "metadata": {
        "id": "lUMaBgy7Xq5q"
      },
      "execution_count": null,
      "outputs": []
    },
    {
      "cell_type": "code",
      "source": [
        "# 20+1 genres, truncated summaries\n",
        "\n",
        "pipeline = Pipeline([\n",
        "    ('vect', CountVectorizer()),\n",
        "    ('clf', MultiOutputClassifier(DecisionTreeClassifier()))\n",
        "    ])\n",
        "\n",
        "print(\"==== fitting pipeline on train data\")\n",
        "pipeline.fit(X_train, y_train)\n",
        "\n",
        "print(\"==== generating predictions\")\n",
        "preds = pipeline.predict(X_test)\n",
        "\n",
        "print(\"evaluating model predictions\")\n",
        "print(\"\\n\")\n",
        "print(\"model results:\")\n",
        "evaluate_multi_label_f1_score(y_true=y_test, y_pred=preds)"
      ],
      "metadata": {
        "id": "bJ7OVUo11S3G"
      },
      "execution_count": null,
      "outputs": []
    },
    {
      "cell_type": "code",
      "source": [
        ""
      ],
      "metadata": {
        "id": "WsSVcEfQHZQs"
      },
      "execution_count": null,
      "outputs": []
    },
    {
      "cell_type": "code",
      "execution_count": null,
      "metadata": {
        "colab": {
          "base_uri": "https://localhost:8080/"
        },
        "id": "gxaJt_op95zG",
        "outputId": "30b3046b-7102-4663-e39b-f9c49fd17cbf"
      },
      "outputs": [
        {
          "name": "stdout",
          "output_type": "stream",
          "text": [
            "train shape: (31650,)\n",
            "(31650, 364)\n",
            "test shape: (10550,)\n",
            "(10550, 364)\n"
          ]
        }
      ],
      "source": [
        "# training dt classifier with all genres and full cleaned summaries (with tfidf)\n",
        "\n",
        "mlb = MultiLabelBinarizer()\n",
        "y = mlb.fit_transform(movies_cleaned['genres_extract'].copy())\n",
        "\n",
        "X_train, X_test, y_train, y_test = train_test_split(movies_cleaned['plot_summary'], y, random_state=408) # plot_summary\n",
        "print(\"train shape: {}\".format(X_train.shape))\n",
        "print(y_train.shape)\n",
        "print(\"test shape: {}\".format(X_test.shape))\n",
        "print(y_test.shape)"
      ]
    },
    {
      "cell_type": "code",
      "execution_count": null,
      "metadata": {
        "colab": {
          "base_uri": "https://localhost:8080/"
        },
        "id": "yvgEBcnp96LZ",
        "outputId": "a331edee-e1f8-4925-a82b-72d4f949275a"
      },
      "outputs": [
        {
          "name": "stdout",
          "output_type": "stream",
          "text": [
            "==== fitting pipeline on train data\n",
            "==== generating predictions\n",
            "evaluating model predictions\n",
            "\n",
            "\n",
            "model results:\n"
          ]
        }
      ],
      "source": [
        "pipeline = Pipeline([\n",
        "    ('vect', CountVectorizer()),\n",
        "    ('tfidf', TfidfTransformer()),\n",
        "    ('clf', MultiOutputClassifier(DecisionTreeClassifier()))\n",
        "    ])\n",
        "\n",
        "print(\"==== fitting pipeline on train data\")\n",
        "pipeline.fit(X_train, y_train)\n",
        "\n",
        "print(\"==== generating predictions\")\n",
        "preds = pipeline.predict(X_test)\n",
        "\n",
        "print(\"evaluating model predictions\")\n",
        "print(\"\\n\")\n",
        "print(\"model results:\")"
      ]
    },
    {
      "cell_type": "code",
      "execution_count": null,
      "metadata": {
        "colab": {
          "base_uri": "https://localhost:8080/"
        },
        "id": "wd3taV6i-5ky",
        "outputId": "31748fa0-bb0a-4a9d-800a-d8a693445aef"
      },
      "outputs": [
        {
          "name": "stdout",
          "output_type": "stream",
          "text": [
            "\n",
            "keras Accuracy: 0.9864\n",
            "Macro-F1 Score: 0.0697, Weighted F1 Score: 0.2749, Micro-F1 Score: 0.2799\n"
          ]
        }
      ],
      "source": [
        "evaluate_multi_label_f1_score(y_true=y_test, y_pred=preds)"
      ]
    },
    {
      "cell_type": "code",
      "source": [
        ""
      ],
      "metadata": {
        "id": "uOicZhP9Hi4d"
      },
      "execution_count": null,
      "outputs": []
    },
    {
      "cell_type": "code",
      "execution_count": null,
      "metadata": {
        "id": "cKosgqEx96TZ"
      },
      "outputs": [],
      "source": [
        "# training dt classifier with first 300 words plot summary and all genres (with tfidf)\n",
        "\n",
        "X_train_short = pd.DataFrame(X_train.copy())\n",
        "X_test_short = pd.DataFrame(X_test.copy())\n",
        "X_train_short[\"plot_summary\"] = X_train_short.plot_summary.apply(lambda x: (\" \").join(x.split()[:300]))\n",
        "X_test_short[\"plot_summary\"] = X_test_short.plot_summary.apply(lambda x: (\" \").join(x.split()[:300]))"
      ]
    },
    {
      "cell_type": "code",
      "execution_count": null,
      "metadata": {
        "colab": {
          "base_uri": "https://localhost:8080/"
        },
        "id": "WHi6mz5D96ci",
        "outputId": "a10ad96a-8064-4d03-bda1-a53afed31e8d"
      },
      "outputs": [
        {
          "name": "stdout",
          "output_type": "stream",
          "text": [
            "==== fitting pipeline on train data\n",
            "==== generating predictions\n",
            "evaluating model predictions\n",
            "\n",
            "\n",
            "model results:\n"
          ]
        }
      ],
      "source": [
        "pipeline = Pipeline([\n",
        "    ('vect', CountVectorizer()),\n",
        "    ('tfidf', TfidfTransformer()),\n",
        "    ('clf', MultiOutputClassifier(DecisionTreeClassifier()))\n",
        "    ])\n",
        "\n",
        "print(\"==== fitting pipeline on train data\")\n",
        "pipeline.fit(X_train_short[\"plot_summary\"], y_train)\n",
        "\n",
        "print(\"==== generating predictions\")\n",
        "preds = pipeline.predict(X_test_short[\"plot_summary\"])\n",
        "\n",
        "print(\"evaluating model predictions\")\n",
        "print(\"\\n\")\n",
        "print(\"model results:\")"
      ]
    },
    {
      "cell_type": "code",
      "execution_count": null,
      "metadata": {
        "colab": {
          "base_uri": "https://localhost:8080/"
        },
        "id": "MgHSbi9k-1Q7",
        "outputId": "3f6f8955-d99e-4044-e151-4a4c445a02eb"
      },
      "outputs": [
        {
          "name": "stdout",
          "output_type": "stream",
          "text": [
            "\n",
            "keras Accuracy: 0.9863\n",
            "Macro-F1 Score: 0.0694, Weighted F1 Score: 0.2733, Micro-F1 Score: 0.2779\n"
          ]
        }
      ],
      "source": [
        "evaluate_multi_label_f1_score(y_true=y_test, y_pred=preds)"
      ]
    },
    {
      "cell_type": "code",
      "source": [
        ""
      ],
      "metadata": {
        "id": "slsUCCZJH15e"
      },
      "execution_count": null,
      "outputs": []
    },
    {
      "cell_type": "code",
      "execution_count": null,
      "metadata": {
        "colab": {
          "base_uri": "https://localhost:8080/"
        },
        "id": "3CbbiHU3SU5y",
        "outputId": "2bdc57a4-5fc1-4bfd-f85f-901e39fb506d"
      },
      "outputs": [
        {
          "name": "stdout",
          "output_type": "stream",
          "text": [
            "train shape: (31650,)\n",
            "(31650, 364)\n",
            "test shape: (10550,)\n",
            "(10550, 364)\n"
          ]
        }
      ],
      "source": [
        "# dt classifier, 363 genres, full summary, no tfidf\n",
        "\n",
        "mlb = MultiLabelBinarizer()\n",
        "y = mlb.fit_transform(movies_cleaned['genres_extract'].copy())\n",
        "\n",
        "X_train, X_test, y_train, y_test = train_test_split(movies_cleaned['plot_summary'], y, random_state=408) # plot_summary\n",
        "print(\"train shape: {}\".format(X_train.shape))\n",
        "print(y_train.shape)\n",
        "print(\"test shape: {}\".format(X_test.shape))\n",
        "print(y_test.shape)"
      ]
    },
    {
      "cell_type": "code",
      "execution_count": null,
      "metadata": {
        "colab": {
          "base_uri": "https://localhost:8080/"
        },
        "id": "CXTxpVibiGIl",
        "outputId": "074bfc33-793e-4441-d6d4-6ec7b9c88749"
      },
      "outputs": [
        {
          "name": "stdout",
          "output_type": "stream",
          "text": [
            "==== fitting pipeline on train data\n",
            "==== generating predictions\n",
            "evaluating model predictions\n",
            "\n",
            "\n",
            "model results:\n"
          ]
        }
      ],
      "source": [
        "pipeline = Pipeline([\n",
        "    ('vect', CountVectorizer()),\n",
        "    ('clf', MultiOutputClassifier(DecisionTreeClassifier()))\n",
        "    ])\n",
        "\n",
        "print(\"==== fitting pipeline on train data\")\n",
        "pipeline.fit(X_train, y_train)\n",
        "\n",
        "print(\"==== generating predictions\")\n",
        "preds = pipeline.predict(X_test)\n",
        "\n",
        "print(\"evaluating model predictions\")\n",
        "print(\"\\n\")\n",
        "print(\"model results:\")"
      ]
    },
    {
      "cell_type": "code",
      "execution_count": null,
      "metadata": {
        "colab": {
          "base_uri": "https://localhost:8080/"
        },
        "id": "V5nrjvBNHlGS",
        "outputId": "5bfecada-8153-40a7-ae8d-a724d12f6596"
      },
      "outputs": [
        {
          "name": "stdout",
          "output_type": "stream",
          "text": [
            "\n",
            "keras Accuracy: 0.9875\n",
            "Macro-F1 Score: 0.0685, Weighted F1 Score: 0.278, Micro-F1 Score: 0.2896\n"
          ]
        }
      ],
      "source": [
        "evaluate_multi_label_f1_score(y_true=y_test, y_pred=preds)"
      ]
    },
    {
      "cell_type": "code",
      "source": [
        ""
      ],
      "metadata": {
        "id": "ktL51453H6y0"
      },
      "execution_count": null,
      "outputs": []
    },
    {
      "cell_type": "code",
      "execution_count": null,
      "metadata": {
        "id": "5ecztgaIiGQn"
      },
      "outputs": [],
      "source": [
        "# dt classifier, truncated 300 word summary, no tfidf\n",
        "X_train_short = pd.DataFrame(X_train.copy())\n",
        "X_test_short = pd.DataFrame(X_test.copy())"
      ]
    },
    {
      "cell_type": "code",
      "execution_count": null,
      "metadata": {
        "id": "Dtp2dnhyiGS2"
      },
      "outputs": [],
      "source": [
        "X_train_short[\"plot_summary\"] = X_train_short.plot_summary.apply(lambda x: (\" \").join(x.split()[:300]))\n",
        "X_test_short[\"plot_summary\"] = X_test_short.plot_summary.apply(lambda x: (\" \").join(x.split()[:300]))"
      ]
    },
    {
      "cell_type": "code",
      "execution_count": null,
      "metadata": {
        "colab": {
          "base_uri": "https://localhost:8080/"
        },
        "id": "su24RvNFiGbZ",
        "outputId": "8f5b44fa-f01f-4186-bc47-bfe7d8fb9d3c"
      },
      "outputs": [
        {
          "name": "stdout",
          "output_type": "stream",
          "text": [
            "==== fitting pipeline on train data\n",
            "==== generating predictions\n",
            "evaluating model predictions\n",
            "\n",
            "\n",
            "model results:\n"
          ]
        }
      ],
      "source": [
        "pipeline = Pipeline([\n",
        "    ('vect', CountVectorizer()),\n",
        "    ('clf', MultiOutputClassifier(DecisionTreeClassifier()))\n",
        "    ])\n",
        "\n",
        "print(\"==== fitting pipeline on train data\")\n",
        "pipeline.fit(X_train_short[\"plot_summary\"], y_train)\n",
        "\n",
        "print(\"==== generating predictions\")\n",
        "preds = pipeline.predict(X_test_short[\"plot_summary\"])\n",
        "\n",
        "print(\"evaluating model predictions\")\n",
        "print(\"\\n\")\n",
        "print(\"model results:\")"
      ]
    },
    {
      "cell_type": "code",
      "execution_count": null,
      "metadata": {
        "colab": {
          "base_uri": "https://localhost:8080/"
        },
        "id": "7OVNJUouUQsW",
        "outputId": "cd2de718-183a-47bf-9ae5-d4a2d121ff5f"
      },
      "outputs": [
        {
          "name": "stdout",
          "output_type": "stream",
          "text": [
            "\n",
            "keras Accuracy: 0.9875\n",
            "Macro-F1 Score: 0.0681, Weighted F1 Score: 0.2724, Micro-F1 Score: 0.2847\n"
          ]
        }
      ],
      "source": [
        "evaluate_multi_label_f1_score(y_true=y_test, y_pred=preds)"
      ]
    },
    {
      "cell_type": "markdown",
      "metadata": {
        "id": "LMKyR9Pa0T_O"
      },
      "source": [
        "# BERT Model\n",
        "Reference resources:\n",
        "*  https://github.com/datasci-w266/2022-spring-main/blob/master/materials/walkthrough_notebooks/bert-finetuning/BERT_Fine-tuning.ipynb\n",
        "* https://towardsdatascience.com/multi-label-multi-class-text-classification-with-bert-transformer-and-keras-c6355eccb63a\n",
        "* https://huggingface.co/docs/transformers/model_summary#autoencoding-models \n",
        "* https://towardsdatascience.com/how-to-use-bert-from-the-hugging-face-transformer-library-d373a22b0209 "
      ]
    },
    {
      "cell_type": "code",
      "execution_count": null,
      "metadata": {
        "colab": {
          "base_uri": "https://localhost:8080/"
        },
        "id": "OzE51Bjb3i6n",
        "outputId": "2ffaf395-d6d3-40cc-8b86-456ecf390415"
      },
      "outputs": [
        {
          "output_type": "stream",
          "name": "stdout",
          "text": [
            "Collecting transformers\n",
            "  Downloading transformers-4.18.0-py3-none-any.whl (4.0 MB)\n",
            "\u001b[K     |████████████████████████████████| 4.0 MB 9.1 MB/s \n",
            "\u001b[?25hCollecting huggingface-hub<1.0,>=0.1.0\n",
            "  Downloading huggingface_hub-0.5.1-py3-none-any.whl (77 kB)\n",
            "\u001b[K     |████████████████████████████████| 77 kB 5.3 MB/s \n",
            "\u001b[?25hRequirement already satisfied: filelock in /usr/local/lib/python3.7/dist-packages (from transformers) (3.6.0)\n",
            "Requirement already satisfied: numpy>=1.17 in /usr/local/lib/python3.7/dist-packages (from transformers) (1.21.5)\n",
            "Requirement already satisfied: importlib-metadata in /usr/local/lib/python3.7/dist-packages (from transformers) (4.11.3)\n",
            "Requirement already satisfied: requests in /usr/local/lib/python3.7/dist-packages (from transformers) (2.23.0)\n",
            "Collecting pyyaml>=5.1\n",
            "  Downloading PyYAML-6.0-cp37-cp37m-manylinux_2_5_x86_64.manylinux1_x86_64.manylinux_2_12_x86_64.manylinux2010_x86_64.whl (596 kB)\n",
            "\u001b[K     |████████████████████████████████| 596 kB 38.0 MB/s \n",
            "\u001b[?25hRequirement already satisfied: regex!=2019.12.17 in /usr/local/lib/python3.7/dist-packages (from transformers) (2019.12.20)\n",
            "Requirement already satisfied: tqdm>=4.27 in /usr/local/lib/python3.7/dist-packages (from transformers) (4.63.0)\n",
            "Requirement already satisfied: packaging>=20.0 in /usr/local/lib/python3.7/dist-packages (from transformers) (21.3)\n",
            "Collecting sacremoses\n",
            "  Downloading sacremoses-0.0.49-py3-none-any.whl (895 kB)\n",
            "\u001b[K     |████████████████████████████████| 895 kB 34.4 MB/s \n",
            "\u001b[?25hCollecting tokenizers!=0.11.3,<0.13,>=0.11.1\n",
            "  Downloading tokenizers-0.11.6-cp37-cp37m-manylinux_2_12_x86_64.manylinux2010_x86_64.whl (6.5 MB)\n",
            "\u001b[K     |████████████████████████████████| 6.5 MB 20.7 MB/s \n",
            "\u001b[?25hRequirement already satisfied: typing-extensions>=3.7.4.3 in /usr/local/lib/python3.7/dist-packages (from huggingface-hub<1.0,>=0.1.0->transformers) (3.10.0.2)\n",
            "Requirement already satisfied: pyparsing!=3.0.5,>=2.0.2 in /usr/local/lib/python3.7/dist-packages (from packaging>=20.0->transformers) (3.0.7)\n",
            "Requirement already satisfied: zipp>=0.5 in /usr/local/lib/python3.7/dist-packages (from importlib-metadata->transformers) (3.7.0)\n",
            "Requirement already satisfied: urllib3!=1.25.0,!=1.25.1,<1.26,>=1.21.1 in /usr/local/lib/python3.7/dist-packages (from requests->transformers) (1.24.3)\n",
            "Requirement already satisfied: idna<3,>=2.5 in /usr/local/lib/python3.7/dist-packages (from requests->transformers) (2.10)\n",
            "Requirement already satisfied: chardet<4,>=3.0.2 in /usr/local/lib/python3.7/dist-packages (from requests->transformers) (3.0.4)\n",
            "Requirement already satisfied: certifi>=2017.4.17 in /usr/local/lib/python3.7/dist-packages (from requests->transformers) (2021.10.8)\n",
            "Requirement already satisfied: six in /usr/local/lib/python3.7/dist-packages (from sacremoses->transformers) (1.15.0)\n",
            "Requirement already satisfied: click in /usr/local/lib/python3.7/dist-packages (from sacremoses->transformers) (7.1.2)\n",
            "Requirement already satisfied: joblib in /usr/local/lib/python3.7/dist-packages (from sacremoses->transformers) (1.1.0)\n",
            "Installing collected packages: pyyaml, tokenizers, sacremoses, huggingface-hub, transformers\n",
            "  Attempting uninstall: pyyaml\n",
            "    Found existing installation: PyYAML 3.13\n",
            "    Uninstalling PyYAML-3.13:\n",
            "      Successfully uninstalled PyYAML-3.13\n",
            "Successfully installed huggingface-hub-0.5.1 pyyaml-6.0 sacremoses-0.0.49 tokenizers-0.11.6 transformers-4.18.0\n"
          ]
        }
      ],
      "source": [
        "# !pip install transformers"
      ]
    },
    {
      "cell_type": "code",
      "execution_count": null,
      "metadata": {
        "id": "UGObC18z0aat"
      },
      "outputs": [],
      "source": [
        "# from transformers import BertConfig, BertTokenizer, TFBertModel\n",
        "from transformers import RobertaConfig, RobertaTokenizer, TFRobertaModel"
      ]
    },
    {
      "cell_type": "code",
      "execution_count": null,
      "metadata": {
        "colab": {
          "base_uri": "https://localhost:8080/",
          "height": 252,
          "referenced_widgets": [
            "cafce11e707c45899ea860568abfed0f",
            "d58a369ddf204beb8054e67f204285f9",
            "85257f5dca1541f196fb5b0a35c1e062",
            "baef2dcbb9de4e0fb23b7326a9655d37",
            "4ccd43fd24554e658699bd5cd50387fb",
            "c0b4b5f9eb2743e59e04f2988af71c2a",
            "207dccdcb33545588860c00baa3f437c",
            "62e3fa93d95347229ad039d7120c23c1",
            "ee0e2826b23c462683d6cd1735e9bc8b",
            "a9bffcb07bf74eb2bd997345d188f9c7",
            "b2bddb3d73264a138396d3a5f4177450",
            "0d5e6f28af6f46c59c98ea59348a2077",
            "aa5ad6911ad5441ead7c93ea3d41a2ed",
            "a12c55536533417f804e0c16a037a454",
            "938bbe3c3d1f422e9a89596cf48c002b",
            "2dad00970e684124a6e2a07293755fa6",
            "549abdc648cc4fb9832343f5452df905",
            "ce6e60d58b214301a3d67ce02f17f6e8",
            "545a06af131247e78dde38fcee9c12b3",
            "9bb0dcbf589748c69383d07b5b219424",
            "909acc20f1d5414c9e6b5b6fc6b09c2b",
            "ce9f56ac1202493baec7ed1a842607fc",
            "083f3e7660dc4f5993b071dbe2f76f2a",
            "d639d8c8e8c8461ba5427f0c5a761d1e",
            "8807c972879b4bab8880b6804990362f",
            "16c0efdb4b58428486d8afaf241efa5f",
            "fcbec7762f6341939642319291a42946",
            "e356ac3658734c1aa98ef3545576fdd8",
            "937a84173818424698cceedb9b9072ea",
            "ba079c2ee7e947e7b9c55c90d4eea58a",
            "e28b779c70884110bd60ac18ded80eb0",
            "7ca7180e28154808a4caff40b360adfd",
            "f36ac1132ee042ce97a0787075bf4b5f",
            "4b74a8f564a24d328f15ee3afc94b7fb",
            "614750408a84462193fba51148e3920a",
            "cafaab6005be4249850c229696a4ac8f",
            "142c6352bc20417f8d614bdb91d56aec",
            "8afa81b7075541b1a058a8c6553a7174",
            "4621c85a46de46cc89960177b9a72e0c",
            "d6b428282c6f479aa2144b6f4f3aa485",
            "0f226acf78f84dc68a851a95258afd86",
            "4b43f46bdff4480990f98669847760c4",
            "af87181ed0594286abd5601efd3b984b",
            "12e50a6350da4429b15a6a8b3862d471"
          ]
        },
        "id": "wHrbo0Ix0Sa6",
        "outputId": "b36d8be0-147f-4a3e-c69e-3967511d4689"
      },
      "outputs": [
        {
          "output_type": "display_data",
          "data": {
            "text/plain": [
              "Downloading:   0%|          | 0.00/878k [00:00<?, ?B/s]"
            ],
            "application/vnd.jupyter.widget-view+json": {
              "version_major": 2,
              "version_minor": 0,
              "model_id": "cafce11e707c45899ea860568abfed0f"
            }
          },
          "metadata": {}
        },
        {
          "output_type": "display_data",
          "data": {
            "text/plain": [
              "Downloading:   0%|          | 0.00/446k [00:00<?, ?B/s]"
            ],
            "application/vnd.jupyter.widget-view+json": {
              "version_major": 2,
              "version_minor": 0,
              "model_id": "0d5e6f28af6f46c59c98ea59348a2077"
            }
          },
          "metadata": {}
        },
        {
          "output_type": "display_data",
          "data": {
            "text/plain": [
              "Downloading:   0%|          | 0.00/481 [00:00<?, ?B/s]"
            ],
            "application/vnd.jupyter.widget-view+json": {
              "version_major": 2,
              "version_minor": 0,
              "model_id": "083f3e7660dc4f5993b071dbe2f76f2a"
            }
          },
          "metadata": {}
        },
        {
          "output_type": "display_data",
          "data": {
            "text/plain": [
              "Downloading:   0%|          | 0.00/627M [00:00<?, ?B/s]"
            ],
            "application/vnd.jupyter.widget-view+json": {
              "version_major": 2,
              "version_minor": 0,
              "model_id": "4b74a8f564a24d328f15ee3afc94b7fb"
            }
          },
          "metadata": {}
        },
        {
          "output_type": "stream",
          "name": "stderr",
          "text": [
            "Some layers from the model checkpoint at roberta-base were not used when initializing TFRobertaModel: ['lm_head']\n",
            "- This IS expected if you are initializing TFRobertaModel from the checkpoint of a model trained on another task or with another architecture (e.g. initializing a BertForSequenceClassification model from a BertForPreTraining model).\n",
            "- This IS NOT expected if you are initializing TFRobertaModel from the checkpoint of a model that you expect to be exactly identical (initializing a BertForSequenceClassification model from a BertForSequenceClassification model).\n",
            "All the layers of TFRobertaModel were initialized from the model checkpoint at roberta-base.\n",
            "If your task is similar to the task the model of the checkpoint was trained on, you can already use TFRobertaModel for predictions without further training.\n"
          ]
        }
      ],
      "source": [
        "#######################################\n",
        "### --------- Setup BERT ---------- ###\n",
        "\n",
        "# name of the BERT model to use\n",
        "model_name = \"roberta-base\" # 'bert-base-uncased'\n",
        "# max length of tokens\n",
        "max_length = 130\n",
        "\n",
        "# load transformers config and set output_hidden_states to False; used for method 2 below\n",
        "# config = RobertaConfig.from_pretrained(model_name)\n",
        "# config.output_hidden_states = False\n",
        "\n",
        "# Load BERT tokenizer\n",
        "tokenizer = RobertaTokenizer.from_pretrained(model_name) \n",
        "# Load the Transformers BERT model\n",
        "bert_model = TFRobertaModel.from_pretrained(model_name)"
      ]
    },
    {
      "cell_type": "code",
      "execution_count": null,
      "metadata": {
        "id": "wkOX2WyUzeR3"
      },
      "outputs": [],
      "source": [
        "# other potential optimizer (rather than default, taken from Jensen's Medium article)\n",
        "# Set an optimizer\n",
        "optimizer = tf.keras.optimizers.Adam(learning_rate=5e-05, epsilon=1e-08, decay=0.01, clipnorm=1.0)\n",
        "\n",
        "def create_classification_model(max_length=max_length,\n",
        "                                bert_model=bert_model,\n",
        "                                train_layers = -1, \n",
        "                                optimizer=optimizer):\n",
        "    \"\"\"\n",
        "    Build a simple classification model with BERT. Let's keep it simple and don't add dropout, layer norms, etc.\n",
        "    \"\"\"\n",
        "\n",
        "    input_ids = tf.keras.layers.Input(shape=(max_length,), dtype=tf.int32, name='input_ids_layer')\n",
        "    # token_type_ids = tf.keras.layers.Input(shape=(max_length,), dtype=tf.int32, name='token_type_ids_layer')\n",
        "    attention_mask = tf.keras.layers.Input(shape=(max_length,), dtype=tf.int32, name='attention_mask_layer')\n",
        "\n",
        "    bert_inputs = {'input_ids': input_ids,\n",
        "                   # 'token_type_ids': token_type_ids,\n",
        "                   'attention_mask': attention_mask}\n",
        "\n",
        "\n",
        "    # restrict training to the train_layers outer transformer layers\n",
        "    if not train_layers == -1:\n",
        "\n",
        "            retrain_layers = []\n",
        "\n",
        "            for retrain_layer_number in range(train_layers):\n",
        "\n",
        "                layer_code = '_' + str(11 - retrain_layer_number)\n",
        "                retrain_layers.append(layer_code)\n",
        "\n",
        "            for w in bert_model.weights:\n",
        "                if not any([x in w.name for x in retrain_layers]):\n",
        "                    w._trainable = False\n",
        "\n",
        "    # load the Transformers BERT model as a layer in a Keras model\n",
        "    pooled_output = bert_model(bert_inputs)[1] # pull pooled outputs vs. sequence outputs\n",
        "    # add additional Dense layer\n",
        "    # layer_1 = tf.keras.layers.Dense(units=3*len(mlb.classes_), name=\"add_layer_1\")(bert_out)\n",
        "    # batch_size = tf.shape(pooled_output)[0]\n",
        "    dropout_layer = tf.keras.layers.Dropout(0.1, name='dropout')(pooled_output) # noise_shape=[batch_size, 1, max_length], \n",
        "\n",
        "    # build model output\n",
        "    classification = tf.keras.layers.Dense(units=len(mlb.classes_), \n",
        "                                           # kernel_initializer=tf.keras.initializers.TruncatedNormal(stddev=config.initializer_range), \n",
        "                                           activation=\"sigmoid\",\n",
        "                                           name='classification_layer')(dropout_layer)\n",
        "    \n",
        "    # combine in model\n",
        "    classification_model = tf.keras.Model(inputs=[input_ids, attention_mask], # token_type_ids, not needed for RoBERTa but needed for BERT\n",
        "                                          outputs=classification,\n",
        "                                          name=\"RoBERTa_multilabel_model\")\n",
        "\n",
        "    # compile model\n",
        "    classification_model.compile(optimizer=optimizer,\n",
        "                                 loss=tf.keras.losses.BinaryCrossentropy(from_logits=False),\n",
        "                                 metrics=tf.keras.metrics.BinaryAccuracy('accuracy'))\n",
        "\n",
        "    return classification_model"
      ]
    },
    {
      "cell_type": "code",
      "execution_count": null,
      "metadata": {
        "id": "2R4UwJFHZvj7"
      },
      "outputs": [],
      "source": [
        "# testing loss function\n",
        "# tf.keras.losses.BinaryCrossentropy(from_logits=False)(np.array([[1, 0, 1]]), np.array([[0.9, 0.9, 0.9]]))\n",
        "# (np.log(0.9) + np.log(0.1) + np.log(0.9))/3"
      ]
    },
    {
      "cell_type": "code",
      "execution_count": null,
      "metadata": {
        "colab": {
          "base_uri": "https://localhost:8080/"
        },
        "id": "Lzw9OvSU24Ws",
        "outputId": "4f6c8cb8-e7a5-4af9-92ad-3ee20797820d"
      },
      "outputs": [
        {
          "output_type": "stream",
          "name": "stdout",
          "text": [
            "Model: \"RoBERTa_multilabel_model\"\n",
            "__________________________________________________________________________________________________\n",
            " Layer (type)                   Output Shape         Param #     Connected to                     \n",
            "==================================================================================================\n",
            " attention_mask_layer (InputLay  [(None, 130)]       0           []                               \n",
            " er)                                                                                              \n",
            "                                                                                                  \n",
            " input_ids_layer (InputLayer)   [(None, 130)]        0           []                               \n",
            "                                                                                                  \n",
            " tf_roberta_model (TFRobertaMod  TFBaseModelOutputWi  124645632  ['attention_mask_layer[0][0]',   \n",
            " el)                            thPoolingAndCrossAt               'input_ids_layer[0][0]']        \n",
            "                                tentions(last_hidde                                               \n",
            "                                n_state=(None, 130,                                               \n",
            "                                 768),                                                            \n",
            "                                 pooler_output=(Non                                               \n",
            "                                e, 768),                                                          \n",
            "                                 past_key_values=No                                               \n",
            "                                ne, hidden_states=N                                               \n",
            "                                one, attentions=Non                                               \n",
            "                                e, cross_attentions                                               \n",
            "                                =None)                                                            \n",
            "                                                                                                  \n",
            " dropout (Dropout)              (None, 768)          0           ['tf_roberta_model[0][1]']       \n",
            "                                                                                                  \n",
            " classification_layer (Dense)   (None, 11)           8459        ['dropout[0][0]']                \n",
            "                                                                                                  \n",
            "==================================================================================================\n",
            "Total params: 124,654,091\n",
            "Trainable params: 124,654,091\n",
            "Non-trainable params: 0\n",
            "__________________________________________________________________________________________________\n"
          ]
        }
      ],
      "source": [
        "# construct model\n",
        "model = create_classification_model()\n",
        "model.summary()"
      ]
    },
    {
      "cell_type": "code",
      "source": [
        "from tensorflow.keras.utils import plot_model\n",
        "plot_model(model, \n",
        "           to_file=\"/content/drive/MyDrive/W266 - Natural Language Processing/roberta_model_diagram.png\", \n",
        "           show_shapes=True, show_layer_names=True)"
      ],
      "metadata": {
        "colab": {
          "base_uri": "https://localhost:8080/",
          "height": 271
        },
        "id": "KN4EZaeu9Pbd",
        "outputId": "0716c5f4-ee94-476d-8c9a-aa28c26e22fb"
      },
      "execution_count": null,
      "outputs": [
        {
          "output_type": "execute_result",
          "data": {
            "text/plain": [
              "<IPython.core.display.Image object>"
            ],
            "image/png": "[encoded data removed]"
          },
          "metadata": {},
          "execution_count": 65
        }
      ]
    },
    {
      "cell_type": "code",
      "execution_count": null,
      "metadata": {
        "id": "Rbbqpo2mzkg5"
      },
      "outputs": [],
      "source": [
        "# subset data for initial BERT testing; full model would take 8 hours to run without GPU\n",
        "# train_limit = 200\n",
        "# X_sub_train, X_sub_test, y_sub_train, y_sub_test = train_test_split(movies_cleaned['plot_summary'][:train_limit], y[:train_limit], random_state=408)\n",
        "\n",
        "# generate tokenized training set\n",
        "X_train_tokenized = tokenizer(deepcopy(X_train).tolist(), # NOTE: replace X_train with X_sub_train when testing\n",
        "                              max_length=max_length,\n",
        "                              truncation=True,\n",
        "                              padding='max_length',\n",
        "                              return_tensors='tf')\n",
        "\n",
        "# X_train_tokenized.input_ids.numpy()\n",
        "\n",
        "# tokenize test dataset for prediction\n",
        "X_test_tokenized = tokenizer(deepcopy(X_test).tolist(), # NOTE: replace X_test with X_sub_test when testing\n",
        "                             max_length=max_length,\n",
        "                             truncation=True,\n",
        "                             padding='max_length',\n",
        "                             return_tensors='tf')"
      ]
    },
    {
      "cell_type": "code",
      "execution_count": null,
      "metadata": {
        "colab": {
          "base_uri": "https://localhost:8080/"
        },
        "id": "Otiye7jNkFPo",
        "outputId": "dd5ba8e2-9299-4172-8c01-a52740f706a6"
      },
      "outputs": [
        {
          "name": "stdout",
          "output_type": "stream",
          "text": [
            "Epoch 1/5\n",
            "385/385 [==============================] - 730s 2s/step - loss: 0.3699 - accuracy: 0.8429 - val_loss: 0.3389 - val_accuracy: 0.8539\n",
            "Epoch 2/5\n",
            "385/385 [==============================] - 720s 2s/step - loss: 0.3282 - accuracy: 0.8582 - val_loss: 0.3229 - val_accuracy: 0.8596\n",
            "Epoch 3/5\n",
            "385/385 [==============================] - 720s 2s/step - loss: 0.3158 - accuracy: 0.8630 - val_loss: 0.3192 - val_accuracy: 0.8616\n",
            "Epoch 4/5\n",
            "385/385 [==============================] - 720s 2s/step - loss: 0.3082 - accuracy: 0.8665 - val_loss: 0.3182 - val_accuracy: 0.8622\n",
            "Epoch 5/5\n",
            "385/385 [==============================] - 720s 2s/step - loss: 0.3032 - accuracy: 0.8683 - val_loss: 0.3191 - val_accuracy: 0.8614\n"
          ]
        }
      ],
      "source": [
        "# FULL RUN (not testing on subset of data)\n",
        "\n",
        "# set mini-batching batch size\n",
        "BATCH = 70\n",
        "\n",
        "#######################################\n",
        "### ------- Train the model ------- ###\n",
        "history = model.fit([X_train_tokenized.input_ids, X_train_tokenized.attention_mask],\n",
        "                    y_train, \n",
        "                    validation_split=0.15,\n",
        "                    epochs=5,\n",
        "                    batch_size=BATCH)"
      ]
    },
    {
      "cell_type": "code",
      "execution_count": null,
      "metadata": {
        "id": "BsO82y_a84ra"
      },
      "outputs": [],
      "source": [
        "# generate predictions\n",
        "model_preds = model.predict([X_test_tokenized.input_ids, X_test_tokenized.attention_mask], # X_test_tokenized.token_type_ids, not needed for RoBERTa but needed for BERT\n",
        "                            batch_size=BATCH)"
      ]
    },
    {
      "cell_type": "code",
      "execution_count": null,
      "metadata": {
        "colab": {
          "base_uri": "https://localhost:8080/"
        },
        "id": "fN1WQvcmTOQL",
        "outputId": "83a4b796-b791-4944-abfc-7e79164b9e0e"
      },
      "outputs": [
        {
          "data": {
            "text/plain": [
              "array([[0.01111769, 0.22054553, 0.7808739 , 0.02230545, 0.287022  ,\n",
              "        0.0214145 , 0.10503698, 0.8957521 , 0.10079486, 0.05990758,\n",
              "        0.00869814],\n",
              "       [0.5261923 , 0.02124549, 0.08046985, 0.05459782, 0.05157287,\n",
              "        0.5372623 , 0.05900111, 0.9122457 , 0.00598239, 0.30523264,\n",
              "        0.06294449],\n",
              "       [0.05896101, 0.22773254, 0.5531617 , 0.2842329 , 0.25655714,\n",
              "        0.00338233, 0.09581425, 0.6361333 , 0.07479997, 0.11083087,\n",
              "        0.01944166],\n",
              "       [0.03060449, 0.4796028 , 0.48131874, 0.00993229, 0.16432838,\n",
              "        0.00164714, 0.07131526, 0.86002886, 0.36527503, 0.00569747,\n",
              "        0.00719158],\n",
              "       [0.00438484, 0.00527643, 0.12290736, 0.01785777, 0.7805143 ,\n",
              "        0.00906865, 0.34091052, 0.7639197 , 0.08597741, 0.02126897,\n",
              "        0.1061433 ]], dtype=float32)"
            ]
          },
          "execution_count": 39,
          "metadata": {},
          "output_type": "execute_result"
        }
      ],
      "source": [
        "# inspect outputs\n",
        "model_preds[0:5]\n",
        "# dataset_out = pd.DataFrame(model_preds)\n",
        "# dataset_out.to_csv('/content/drive/MyDrive/W266 - Natural Language Processing/bert_output_220405.csv', index=False)"
      ]
    },
    {
      "cell_type": "code",
      "execution_count": null,
      "metadata": {
        "id": "hN1l40xDaDKU"
      },
      "outputs": [],
      "source": [
        "def set_threshold(num, t=0.3):\n",
        "  \"\"\"\n",
        "  Map input number to 0 or 1 (binary) given threshold.\n",
        "  \"\"\"\n",
        "  if num <= t:\n",
        "    return 0\n",
        "  else:\n",
        "    return 1\n",
        "\n",
        "def array_map(x):\n",
        "  \"\"\"\n",
        "  Map function to array.\n",
        "  \"\"\"\n",
        "  return np.array(list(map(set_threshold, x)))\n",
        "\n",
        "def nested_map(pred_ndarray):\n",
        "  \"\"\"\n",
        "  Convert np.ndarray of floats (between 0 and 1) to np.ndarray of binary integers (0 or 1)\n",
        "  \"\"\"\n",
        "  preds = deepcopy(pred_ndarray)\n",
        "  \n",
        "  for i in range(len(preds)):\n",
        "    preds[i] = array_map(preds[i])\n",
        "\n",
        "  return preds"
      ]
    },
    {
      "cell_type": "code",
      "execution_count": null,
      "metadata": {
        "colab": {
          "base_uri": "https://localhost:8080/"
        },
        "id": "7cPxlHUS1V16",
        "outputId": "fdb6ee18-47bd-4160-bd66-b54080f13612"
      },
      "outputs": [
        {
          "name": "stdout",
          "output_type": "stream",
          "text": [
            "Bert evaluation:\n",
            "330/330 [==============================] - 91s 277ms/step - loss: 0.3275 - accuracy: 0.8590\n",
            "Self evaluation\n",
            "\n",
            "keras Accuracy: 0.8435\n",
            "Macro-F1 Score: 0.5341, Weighted F1 Score: 0.6609, Micro-F1 Score: 0.6768\n"
          ]
        }
      ],
      "source": [
        "#######################################\n",
        "### ----- Evaluate the model ------ ###\n",
        "\n",
        "# run evaluation\n",
        "print(\"Bert evaluation:\")\n",
        "model_eval = model.evaluate(\n",
        "    [X_test_tokenized.input_ids, X_test_tokenized.attention_mask], # X_test_tokenized.token_type_ids, not needed for RoBERTa but needed for BERT\n",
        "    y_test # NOTE: replace y_test with y_sub_test when testing\n",
        ")\n",
        "\n",
        "print(\"Self evaluation\")\n",
        "# need to convert preds back to mlb-convertable format: convert probability into binary\n",
        "bert_preds = nested_map(model_preds)\n",
        "evaluate_multi_label_f1_score(y_true=y_test, y_pred=bert_preds) # NOTE: replace y_test with y_sub_test when testing"
      ]
    },
    {
      "cell_type": "code",
      "execution_count": null,
      "metadata": {
        "colab": {
          "base_uri": "https://localhost:8080/",
          "height": 573
        },
        "id": "F_2Rv7KZ6tgu",
        "outputId": "23749ac5-13e9-40cd-d41a-2d1293c7ff5b"
      },
      "outputs": [
        {
          "data": {
            "image/png": "[encoded data removed]",
            "text/plain": [
              "<Figure size 432x288 with 1 Axes>"
            ]
          },
          "metadata": {},
          "output_type": "display_data"
        },
        {
          "data": {
            "image/png": "[encoded data removed]",
            "text/plain": [
              "<Figure size 432x288 with 1 Axes>"
            ]
          },
          "metadata": {},
          "output_type": "display_data"
        }
      ],
      "source": [
        "# plot metrics to check for overfitting\n",
        "# code borrowed from https://stackabuse.com/python-for-nlp-multi-label-text-classification-with-keras/\n",
        "import matplotlib.pyplot as plt\n",
        "\n",
        "plt.plot(history.history['accuracy'])\n",
        "plt.plot(history.history['val_accuracy'])\n",
        "\n",
        "plt.title('model accuracy')\n",
        "plt.ylabel('accuracy')\n",
        "plt.xlabel('epoch')\n",
        "plt.legend(['train','test'], loc='upper left')\n",
        "plt.show()\n",
        "\n",
        "plt.plot(history.history['loss'])\n",
        "plt.plot(history.history['val_loss'])\n",
        "\n",
        "plt.title('model loss')\n",
        "plt.ylabel('loss')\n",
        "plt.xlabel('epoch')\n",
        "plt.legend(['train','test'], loc='upper left')\n",
        "plt.show()"
      ]
    },
    {
      "cell_type": "code",
      "execution_count": null,
      "metadata": {
        "id": "8D99g81wOo08"
      },
      "outputs": [],
      "source": [
        "# test output df\n",
        "test_results = pd.DataFrame({\n",
        "    \"summaries\": X_test.copy(),\n",
        "    \"y_true\": mlb.inverse_transform(y_test.copy()),\n",
        "    \"y_pred\": mlb.inverse_transform(bert_preds.copy())\n",
        "})\n",
        "test_results.to_csv(\"/content/drive/MyDrive/W266 - Natural Language Processing/final_output_220405.csv\", index=True)"
      ]
    },
    {
      "cell_type": "code",
      "source": [
        "### inspect prediction results\n",
        "test_results = pd.read_csv(\"/content/drive/MyDrive/W266 - Natural Language Processing/final_output_220405.csv\")\n",
        "test_results.shape"
      ],
      "metadata": {
        "colab": {
          "base_uri": "https://localhost:8080/"
        },
        "id": "pZEpRLMkw8GM",
        "outputId": "b75968b5-9bdc-4ec9-d13d-d30db663e0b5"
      },
      "execution_count": null,
      "outputs": [
        {
          "output_type": "execute_result",
          "data": {
            "text/plain": [
              "(10551, 4)"
            ]
          },
          "metadata": {},
          "execution_count": 7
        }
      ]
    },
    {
      "cell_type": "code",
      "source": [
        "test_results['is_drama'] = test_results.y_true.apply(lambda x: 1 if str('Drama' in x).lower() == \"true\" else 0)\n",
        "test_results['is_comedy'] = test_results.y_true.apply(lambda x: 1 if str('Comedy' in x).lower() == \"true\" else 0)\n",
        "test_results['is_romance_film'] = test_results.y_true.apply(lambda x: 1 if str('Romance Film' in x).lower() == \"true\" else 0)\n",
        "test_results['is_thriller'] = test_results.y_true.apply(lambda x: 1 if str('Thriller' in x).lower() == \"true\" else 0)\n",
        "test_results['is_action'] = test_results.y_true.apply(lambda x: 1 if (str('Action' in x).lower() == \"true\") or (str('Action/Adventure' in x).lower() == \"true\") else 0)\n",
        "test_results['is_world_cinema'] = test_results.y_true.apply(lambda x: 1 if str('World cinema' in x).lower() == \"true\" else 0)\n",
        "test_results['is_crime_fiction'] = test_results.y_true.apply(lambda x: 1 if str('Crime Fiction' in x).lower() == \"true\" else 0)\n",
        "test_results['is_horror'] = test_results.y_true.apply(lambda x: 1 if str('Horror' in x).lower() == \"true\" else 0)\n",
        "test_results['is_black_white'] = test_results.y_true.apply(lambda x: 1 if str('Blackandwhite' in x).lower() == \"true\" else 0)\n",
        "test_results['is_indie'] = test_results.y_true.apply(lambda x: 1 if str('Indie' in x).lower() == \"true\" else 0)\n",
        "test_results['is_other'] = test_results.y_true.apply(lambda x: 1 if str('Other' in x).lower() == \"true\" else 0)"
      ],
      "metadata": {
        "id": "qnlw9i7qxGV6"
      },
      "execution_count": null,
      "outputs": []
    },
    {
      "cell_type": "code",
      "source": [
        "test_results = test_results.drop(labels=test_results.columns[test_results.columns.str.contains(\"is_\")].tolist(), axis=1)\n",
        "test_results[\"full_accurate\"] = np.where(test_results[\"y_true\"] == test_results[\"y_pred\"], 1, 0)\n",
        "test_results.query(\"full_accurate > 0\")"
      ],
      "metadata": {
        "colab": {
          "base_uri": "https://localhost:8080/",
          "height": 1000
        },
        "id": "-kEFz84GyMD_",
        "outputId": "5951241e-00e8-4d1b-eaf4-77bb9551fe7b"
      },
      "execution_count": null,
      "outputs": [
        {
          "output_type": "execute_result",
          "data": {
            "text/plain": [
              "       Unnamed: 0  \\\n",
              "8           15005   \n",
              "24           7553   \n",
              "35          38503   \n",
              "61          28393   \n",
              "79           3757   \n",
              "...           ...   \n",
              "10528        9189   \n",
              "10535       21804   \n",
              "10545       41402   \n",
              "10546       31985   \n",
              "10550        4799   \n",
              "\n",
              "                                                                                                                                                                                                                                                                                                                                                                                                                                                                                                                                                                                                                                                                                                                                                                                                                                                                                                                                                                                                                                                                                                                                                           summaries  \\\n",
              "8      evelyn killed mulwray glasses gittes confronts evelyn relationship katherine gittes slaps repeatedly cries shes sister daughter haltingly tells sexual abuse father age 15 adds eyeglasses husbands wear bifocals gittes decides help evelyn katherine escape escobar suspects evelyn mulwrays murder gittes accessory fact gittes plans two women flee mexico fisherman client curly instructs evelyn meet butlers home chinatown gittes arranges cross meet mulwrays home cross admits intends incorporate northwest valley city los angeles irrigate develop gittes produces crosss bifocals physical evidence linking mulwrays murder mulvihill appears forces surrender glasses take katherine three reach hiding place chinatown police already arrest gittes withholding evidence extortion cross approaches katherine saying grandfather evelyn brandishes small pistol cross undeterred shoots arm evelyn speeds away katherine police open fire killing evelyn cross clutches katherine takes away escobar orders gittes released along associates one urges forget jake chinatown jake associates walk away escobar directs crowd away crime scene   \n",
              "24                                                                                                                                                                                                                                                                                                                                                                                                                                                                                                                                                                                                                                                                                                                                                                                                                                                                                                  servais mont photographer meets nadine chevalier earns money starring cheap softcore movies trying help borrows money loan sharks finance theatrical production richard iii gives nadine part nadine torn servais falling love husband jacques moral obligations   \n",
              "35                                                           entire incident secret eventually gold coin found shibus aunt uncle become extra sweet cleverly trace origin gold coin white elephant following shibu returns forest meet airawat meanwhile maharaja comes village hunting strikes tent near forest sibus uncle aunt tell maharaja existence white elephant rare spot maharaja promises handsome reward lead white elephant maharaja gives money uncle aunt sibu handed returning village aunt uncle killed wild animals jungle maharaja swears capture elephant learns sibus friendship airawat sibus uncle decides set trap next morning maharaja takes sibu forest along associates dozen elephants puts gun poor boys head calls airwat threatens surrender sibus head blown pieces airawat surrenders taken captivity maharaja sibu becomes desperate rescue airawat asks mynah summon animals forest declare war maharaja elephants tigers cobras animals unite attack maharajas camp airwat held hostage kill anybody overpower maharaja lackeys manage successfully secure airawats release free airawat goes back forest sibu followed animals   \n",
              "61                                                                                                                                                                                                                                                                                                                                                                                                                                                                                                                                                                                                                                                                                                                                                                                                                                            1840s foppish diego de la vega returns spain family california find father replaced ruler area cruel ruler luis quintero despite skilled swordsman diego downplays skills front evil captain esteban shows bit clown front family however diego secretly picks sword justice zorro fights return justice region people   \n",
              "79                                                                                                                                                                                                                                                                                                                                                                                                                                                                                                                                                                                                                                                                                                                                                                               film woman named jennefer runs abusive husband gives baby adoption ends streets grim cold winter toronto shes taken prostitute named ola ola sees pimp hassan murder another prostitute refuses testify knowing hassan associates kill police officer named mcclaren attempts interrogate deported jennefer becomes prostitute hassan later confronts husband tracks intent killing   \n",
              "...                                                                                                                                                                                                                                                                                                                                                                                                                                                                                                                                                                                                                                                                                                                                                                                                                                                                                                                                                                                                                                                                                                                                                              ...   \n",
              "10528                                                                                                                                                                                                                                                                                                                                                                                                                                                                                                                                                                                                                                                                                                                                                                                                                                                                                                                small american town town residents live peacefully small community one day trucks mysteriously start come life develop minds end prompting violence starting destroy houses kill people rest townspeople figure way destroy kill residents town   \n",
              "10535                                                                                                                                                                                                                                           story begins reporter interviewing charles templeton deathbed told eyes charles templeton film proceeds showing billy grahams life teenager great depression living family dairy farm charlotte north carolina time graham seen becoming christian tent revival meeting later graham seen going bob jones college bob jones university graham goes florida bible institute identified failure bob jones sr following time florida bible institute billy graham goes wheaton college falls love wheaton classmate ruth bell ultimately gets married 1940s charles templeton becomes really close acquaintance billy graham however charles templeton young gifted preacher leaves faith challenged scientific skepticism leading graham templeton part billy continues evangelize crusades believe word god infallible film finishes graham inviting listeners accept christ personal savior los angeles crusade 1949   \n",
              "10545                                                                                                                                                                                                                                                                                                                                                                                                                                                                                                                                                                                                                                                                                                                                                                                                                                                                                                                                                                                                                                                story based tony watts graphic novel series film features exploits assassin antihero romeo montaguepatient zero   \n",
              "10546                                                                                                                                                                                                                                                                                                                                                                                                                                                                                                                                                                                                                                                                                                            playing baseball near home wealthy hypochondriac mr morton gang inadvertently breaks one mortons windows mishap coincides plan hatched mortons wife get husbands mind imaginary illnesses adopting children hoping prove would unsuitable parent morton pretends crazy better scare away gang dissuade mrs morton adoption scheme instead kids prove morton need pills poultices thereby giving old man new lease life better appreciation children   \n",
              "10550                                                              strip strut back forth across table sorority call degrading hurtful names draw candidates skin consequence lisa absent girls take shelby clock tower hang banner shelby falls death sorority sister drea davenport orders go railing next day shelbys death declared suicide reluctant lisa stevens prompting decides investigate even though hostile sorority claim accident risks reputation academic future stevens help lisa contacts student involved cruel hazing sorority year earlier student reveals almost died received settlement university keep quiet lisa realizes shelby pressured peers something really dangerous resulted death lisa uncovers truth school authorities sorority best silence lisa determined end hazing lisa tricks sorority leader another sister going bell tower lisa plays tape recording girls account near death pi gamma betas hazing lisa mother walk past greek row pi gamma betas removing belongings possibly pi gamma betas charter terminated lisas mother admits enjoyed pi gamma beta people actual sorority lisas relationship steven survives   \n",
              "\n",
              "                                                y_true  \\\n",
              "8      ('Crime Fiction', 'Drama', 'Other', 'Thriller')   \n",
              "24                  ('Drama', 'Other', 'Romance Film')   \n",
              "35                                  ('Drama', 'Other')   \n",
              "61                                 ('Action', 'Other')   \n",
              "79     ('Crime Fiction', 'Drama', 'Other', 'Thriller')   \n",
              "...                                                ...   \n",
              "10528                              ('Horror', 'Other')   \n",
              "10535                               ('Drama', 'Other')   \n",
              "10545                              ('Action', 'Other')   \n",
              "10546             ('Blackandwhite', 'Comedy', 'Other')   \n",
              "10550                   ('Drama', 'Other', 'Thriller')   \n",
              "\n",
              "                                                y_pred  full_accurate  \n",
              "8      ('Crime Fiction', 'Drama', 'Other', 'Thriller')              1  \n",
              "24                  ('Drama', 'Other', 'Romance Film')              1  \n",
              "35                                  ('Drama', 'Other')              1  \n",
              "61                                 ('Action', 'Other')              1  \n",
              "79     ('Crime Fiction', 'Drama', 'Other', 'Thriller')              1  \n",
              "...                                                ...            ...  \n",
              "10528                              ('Horror', 'Other')              1  \n",
              "10535                               ('Drama', 'Other')              1  \n",
              "10545                              ('Action', 'Other')              1  \n",
              "10546             ('Blackandwhite', 'Comedy', 'Other')              1  \n",
              "10550                   ('Drama', 'Other', 'Thriller')              1  \n",
              "\n",
              "[1684 rows x 5 columns]"
            ],
            "text/html": [
              "\n",
              "  <div id=\"df-33dea5fd-6d7c-4b7e-bd0d-bc933baec72b\">\n",
              "    <div class=\"colab-df-container\">\n",
              "      <div>\n",
              "<style scoped>\n",
              "    .dataframe tbody tr th:only-of-type {\n",
              "        vertical-align: middle;\n",
              "    }\n",
              "\n",
              "    .dataframe tbody tr th {\n",
              "        vertical-align: top;\n",
              "    }\n",
              "\n",
              "    .dataframe thead th {\n",
              "        text-align: right;\n",
              "    }\n",
              "</style>\n",
              "<table border=\"1\" class=\"dataframe\">\n",
              "  <thead>\n",
              "    <tr style=\"text-align: right;\">\n",
              "      <th></th>\n",
              "      <th>Unnamed: 0</th>\n",
              "      <th>summaries</th>\n",
              "      <th>y_true</th>\n",
              "      <th>y_pred</th>\n",
              "      <th>full_accurate</th>\n",
              "    </tr>\n",
              "  </thead>\n",
              "  <tbody>\n",
              "    <tr>\n",
              "      <th>8</th>\n",
              "      <td>15005</td>\n",
              "      <td>evelyn killed mulwray glasses gittes confronts evelyn relationship katherine gittes slaps repeatedly cries shes sister daughter haltingly tells sexual abuse father age 15 adds eyeglasses husbands wear bifocals gittes decides help evelyn katherine escape escobar suspects evelyn mulwrays murder gittes accessory fact gittes plans two women flee mexico fisherman client curly instructs evelyn meet butlers home chinatown gittes arranges cross meet mulwrays home cross admits intends incorporate northwest valley city los angeles irrigate develop gittes produces crosss bifocals physical evidence linking mulwrays murder mulvihill appears forces surrender glasses take katherine three reach hiding place chinatown police already arrest gittes withholding evidence extortion cross approaches katherine saying grandfather evelyn brandishes small pistol cross undeterred shoots arm evelyn speeds away katherine police open fire killing evelyn cross clutches katherine takes away escobar orders gittes released along associates one urges forget jake chinatown jake associates walk away escobar directs crowd away crime scene</td>\n",
              "      <td>('Crime Fiction', 'Drama', 'Other', 'Thriller')</td>\n",
              "      <td>('Crime Fiction', 'Drama', 'Other', 'Thriller')</td>\n",
              "      <td>1</td>\n",
              "    </tr>\n",
              "    <tr>\n",
              "      <th>24</th>\n",
              "      <td>7553</td>\n",
              "      <td>servais mont photographer meets nadine chevalier earns money starring cheap softcore movies trying help borrows money loan sharks finance theatrical production richard iii gives nadine part nadine torn servais falling love husband jacques moral obligations</td>\n",
              "      <td>('Drama', 'Other', 'Romance Film')</td>\n",
              "      <td>('Drama', 'Other', 'Romance Film')</td>\n",
              "      <td>1</td>\n",
              "    </tr>\n",
              "    <tr>\n",
              "      <th>35</th>\n",
              "      <td>38503</td>\n",
              "      <td>entire incident secret eventually gold coin found shibus aunt uncle become extra sweet cleverly trace origin gold coin white elephant following shibu returns forest meet airawat meanwhile maharaja comes village hunting strikes tent near forest sibus uncle aunt tell maharaja existence white elephant rare spot maharaja promises handsome reward lead white elephant maharaja gives money uncle aunt sibu handed returning village aunt uncle killed wild animals jungle maharaja swears capture elephant learns sibus friendship airawat sibus uncle decides set trap next morning maharaja takes sibu forest along associates dozen elephants puts gun poor boys head calls airwat threatens surrender sibus head blown pieces airawat surrenders taken captivity maharaja sibu becomes desperate rescue airawat asks mynah summon animals forest declare war maharaja elephants tigers cobras animals unite attack maharajas camp airwat held hostage kill anybody overpower maharaja lackeys manage successfully secure airawats release free airawat goes back forest sibu followed animals</td>\n",
              "      <td>('Drama', 'Other')</td>\n",
              "      <td>('Drama', 'Other')</td>\n",
              "      <td>1</td>\n",
              "    </tr>\n",
              "    <tr>\n",
              "      <th>61</th>\n",
              "      <td>28393</td>\n",
              "      <td>1840s foppish diego de la vega returns spain family california find father replaced ruler area cruel ruler luis quintero despite skilled swordsman diego downplays skills front evil captain esteban shows bit clown front family however diego secretly picks sword justice zorro fights return justice region people</td>\n",
              "      <td>('Action', 'Other')</td>\n",
              "      <td>('Action', 'Other')</td>\n",
              "      <td>1</td>\n",
              "    </tr>\n",
              "    <tr>\n",
              "      <th>79</th>\n",
              "      <td>3757</td>\n",
              "      <td>film woman named jennefer runs abusive husband gives baby adoption ends streets grim cold winter toronto shes taken prostitute named ola ola sees pimp hassan murder another prostitute refuses testify knowing hassan associates kill police officer named mcclaren attempts interrogate deported jennefer becomes prostitute hassan later confronts husband tracks intent killing</td>\n",
              "      <td>('Crime Fiction', 'Drama', 'Other', 'Thriller')</td>\n",
              "      <td>('Crime Fiction', 'Drama', 'Other', 'Thriller')</td>\n",
              "      <td>1</td>\n",
              "    </tr>\n",
              "    <tr>\n",
              "      <th>...</th>\n",
              "      <td>...</td>\n",
              "      <td>...</td>\n",
              "      <td>...</td>\n",
              "      <td>...</td>\n",
              "      <td>...</td>\n",
              "    </tr>\n",
              "    <tr>\n",
              "      <th>10528</th>\n",
              "      <td>9189</td>\n",
              "      <td>small american town town residents live peacefully small community one day trucks mysteriously start come life develop minds end prompting violence starting destroy houses kill people rest townspeople figure way destroy kill residents town</td>\n",
              "      <td>('Horror', 'Other')</td>\n",
              "      <td>('Horror', 'Other')</td>\n",
              "      <td>1</td>\n",
              "    </tr>\n",
              "    <tr>\n",
              "      <th>10535</th>\n",
              "      <td>21804</td>\n",
              "      <td>story begins reporter interviewing charles templeton deathbed told eyes charles templeton film proceeds showing billy grahams life teenager great depression living family dairy farm charlotte north carolina time graham seen becoming christian tent revival meeting later graham seen going bob jones college bob jones university graham goes florida bible institute identified failure bob jones sr following time florida bible institute billy graham goes wheaton college falls love wheaton classmate ruth bell ultimately gets married 1940s charles templeton becomes really close acquaintance billy graham however charles templeton young gifted preacher leaves faith challenged scientific skepticism leading graham templeton part billy continues evangelize crusades believe word god infallible film finishes graham inviting listeners accept christ personal savior los angeles crusade 1949</td>\n",
              "      <td>('Drama', 'Other')</td>\n",
              "      <td>('Drama', 'Other')</td>\n",
              "      <td>1</td>\n",
              "    </tr>\n",
              "    <tr>\n",
              "      <th>10545</th>\n",
              "      <td>41402</td>\n",
              "      <td>story based tony watts graphic novel series film features exploits assassin antihero romeo montaguepatient zero</td>\n",
              "      <td>('Action', 'Other')</td>\n",
              "      <td>('Action', 'Other')</td>\n",
              "      <td>1</td>\n",
              "    </tr>\n",
              "    <tr>\n",
              "      <th>10546</th>\n",
              "      <td>31985</td>\n",
              "      <td>playing baseball near home wealthy hypochondriac mr morton gang inadvertently breaks one mortons windows mishap coincides plan hatched mortons wife get husbands mind imaginary illnesses adopting children hoping prove would unsuitable parent morton pretends crazy better scare away gang dissuade mrs morton adoption scheme instead kids prove morton need pills poultices thereby giving old man new lease life better appreciation children</td>\n",
              "      <td>('Blackandwhite', 'Comedy', 'Other')</td>\n",
              "      <td>('Blackandwhite', 'Comedy', 'Other')</td>\n",
              "      <td>1</td>\n",
              "    </tr>\n",
              "    <tr>\n",
              "      <th>10550</th>\n",
              "      <td>4799</td>\n",
              "      <td>strip strut back forth across table sorority call degrading hurtful names draw candidates skin consequence lisa absent girls take shelby clock tower hang banner shelby falls death sorority sister drea davenport orders go railing next day shelbys death declared suicide reluctant lisa stevens prompting decides investigate even though hostile sorority claim accident risks reputation academic future stevens help lisa contacts student involved cruel hazing sorority year earlier student reveals almost died received settlement university keep quiet lisa realizes shelby pressured peers something really dangerous resulted death lisa uncovers truth school authorities sorority best silence lisa determined end hazing lisa tricks sorority leader another sister going bell tower lisa plays tape recording girls account near death pi gamma betas hazing lisa mother walk past greek row pi gamma betas removing belongings possibly pi gamma betas charter terminated lisas mother admits enjoyed pi gamma beta people actual sorority lisas relationship steven survives</td>\n",
              "      <td>('Drama', 'Other', 'Thriller')</td>\n",
              "      <td>('Drama', 'Other', 'Thriller')</td>\n",
              "      <td>1</td>\n",
              "    </tr>\n",
              "  </tbody>\n",
              "</table>\n",
              "<p>1684 rows × 5 columns</p>\n",
              "</div>\n",
              "      <button class=\"colab-df-convert\" onclick=\"convertToInteractive('df-33dea5fd-6d7c-4b7e-bd0d-bc933baec72b')\"\n",
              "              title=\"Convert this dataframe to an interactive table.\"\n",
              "              style=\"display:none;\">\n",
              "        \n",
              "  <svg xmlns=\"http://www.w3.org/2000/svg\" height=\"24px\"viewBox=\"0 0 24 24\"\n",
              "       width=\"24px\">\n",
              "    <path d=\"M0 0h24v24H0V0z\" fill=\"none\"/>\n",
              "    <path d=\"M18.56 5.44l.94 2.06.94-2.06 2.06-.94-2.06-.94-.94-2.06-.94 2.06-2.06.94zm-11 1L8.5 8.5l.94-2.06 2.06-.94-2.06-.94L8.5 2.5l-.94 2.06-2.06.94zm10 10l.94 2.06.94-2.06 2.06-.94-2.06-.94-.94-2.06-.94 2.06-2.06.94z\"/><path d=\"M17.41 7.96l-1.37-1.37c-.4-.4-.92-.59-1.43-.59-.52 0-1.04.2-1.43.59L10.3 9.45l-7.72 7.72c-.78.78-.78 2.05 0 2.83L4 21.41c.39.39.9.59 1.41.59.51 0 1.02-.2 1.41-.59l7.78-7.78 2.81-2.81c.8-.78.8-2.07 0-2.86zM5.41 20L4 18.59l7.72-7.72 1.47 1.35L5.41 20z\"/>\n",
              "  </svg>\n",
              "      </button>\n",
              "      \n",
              "  <style>\n",
              "    .colab-df-container {\n",
              "      display:flex;\n",
              "      flex-wrap:wrap;\n",
              "      gap: 12px;\n",
              "    }\n",
              "\n",
              "    .colab-df-convert {\n",
              "      background-color: #E8F0FE;\n",
              "      border: none;\n",
              "      border-radius: 50%;\n",
              "      cursor: pointer;\n",
              "      display: none;\n",
              "      fill: #1967D2;\n",
              "      height: 32px;\n",
              "      padding: 0 0 0 0;\n",
              "      width: 32px;\n",
              "    }\n",
              "\n",
              "    .colab-df-convert:hover {\n",
              "      background-color: #E2EBFA;\n",
              "      box-shadow: 0px 1px 2px rgba(60, 64, 67, 0.3), 0px 1px 3px 1px rgba(60, 64, 67, 0.15);\n",
              "      fill: #174EA6;\n",
              "    }\n",
              "\n",
              "    [theme=dark] .colab-df-convert {\n",
              "      background-color: #3B4455;\n",
              "      fill: #D2E3FC;\n",
              "    }\n",
              "\n",
              "    [theme=dark] .colab-df-convert:hover {\n",
              "      background-color: #434B5C;\n",
              "      box-shadow: 0px 1px 3px 1px rgba(0, 0, 0, 0.15);\n",
              "      filter: drop-shadow(0px 1px 2px rgba(0, 0, 0, 0.3));\n",
              "      fill: #FFFFFF;\n",
              "    }\n",
              "  </style>\n",
              "\n",
              "      <script>\n",
              "        const buttonEl =\n",
              "          document.querySelector('#df-33dea5fd-6d7c-4b7e-bd0d-bc933baec72b button.colab-df-convert');\n",
              "        buttonEl.style.display =\n",
              "          google.colab.kernel.accessAllowed ? 'block' : 'none';\n",
              "\n",
              "        async function convertToInteractive(key) {\n",
              "          const element = document.querySelector('#df-33dea5fd-6d7c-4b7e-bd0d-bc933baec72b');\n",
              "          const dataTable =\n",
              "            await google.colab.kernel.invokeFunction('convertToInteractive',\n",
              "                                                     [key], {});\n",
              "          if (!dataTable) return;\n",
              "\n",
              "          const docLinkHtml = 'Like what you see? Visit the ' +\n",
              "            '<a target=\"_blank\" href=https://colab.research.google.com/notebooks/data_table.ipynb>data table notebook</a>'\n",
              "            + ' to learn more about interactive tables.';\n",
              "          element.innerHTML = '';\n",
              "          dataTable['output_type'] = 'display_data';\n",
              "          await google.colab.output.renderOutput(dataTable, element);\n",
              "          const docLink = document.createElement('div');\n",
              "          docLink.innerHTML = docLinkHtml;\n",
              "          element.appendChild(docLink);\n",
              "        }\n",
              "      </script>\n",
              "    </div>\n",
              "  </div>\n",
              "  "
            ]
          },
          "metadata": {},
          "execution_count": 22
        }
      ]
    },
    {
      "cell_type": "code",
      "source": [
        "test_results.query(\"full_accurate > 0\").to_csv(\"/content/drive/MyDrive/W266 - Natural Language Processing/perfect_results_220407.csv\", index=False)"
      ],
      "metadata": {
        "id": "yQuURjRr3Sm_"
      },
      "execution_count": null,
      "outputs": []
    },
    {
      "cell_type": "markdown",
      "metadata": {
        "id": "evuAl1N6KDhb"
      },
      "source": [
        "# *** ARCHIVED CODE ***\n",
        "Stored for reference or potential future use"
      ]
    },
    {
      "cell_type": "code",
      "execution_count": null,
      "metadata": {
        "id": "FVp36bQ2Kl5O"
      },
      "outputs": [],
      "source": [
        "# Blackstock & Spritz F1 score calculation\n",
        "\n",
        "# def evaluate_multi_label_f1_score(y_true, y_pred, mlb=mlb):\n",
        "#   \"\"\"\n",
        "#   Calculate the F1 score of a dataset given the true (actual/correct) labels and the predicted (guessed) labels,\n",
        "#   according to the logic leveraged by Blackstock & Spritz in their 2008 paper.\n",
        "#   Slightly adjusted to include accuracy, macro- and micro-F1 scores.\n",
        "  \n",
        "#   Takes 2 sparse matrices as input (y_true and y_pred), as well as \n",
        "#   the MultilabelBinarizer object to convert the classes, and\n",
        "#   Prints an output of precision, recall, and overall F1 score.\n",
        "\n",
        "#   Also calculates percentage of all possible labels in test set that were covered by predictions.\n",
        "\n",
        "#   **NOTE**: Accuracy is NOT a good metric for this problem. It is heavily skewed\n",
        "#   by the high cardinality of the target (there are many, many possible classes while each data sample\n",
        "#   will only ever belong to a few of those classes -- never all).\n",
        "#   \"\"\"\n",
        "#   # transform sparse matrices back to list of labels (text)\n",
        "#   gold_labels = deepcopy(mlb.inverse_transform(y_true))\n",
        "#   pred_labels = deepcopy(mlb.inverse_transform(y_pred))\n",
        "\n",
        "#   # initialize counters\n",
        "#   gold_counter = {}\n",
        "#   correct_counter = {}\n",
        "#   guess_counter = {}\n",
        "\n",
        "#   for idx in range(len(gold_labels)):\n",
        "#     # idx is an index for a tuple of actual genres\n",
        "#     labels = gold_labels[idx]\n",
        "#     guesses = pred_labels[idx]\n",
        "#     for i in labels:\n",
        "#       # i is a string, actual label\n",
        "#       # increment counter to keep track of how many records should belong to this label (genre)\n",
        "#       gold_counter[i] = gold_counter.get(i, 0) + 1\n",
        "#       if i in guesses:\n",
        "#         # increment counter to count how many correct guesses for this label (genre)\n",
        "#         correct_counter[i] = correct_counter.get(i, 0) + 1\n",
        "    \n",
        "#     for j in guesses:\n",
        "#       # increment counter to keep track of how many guesses were made for this label (genre)\n",
        "#       guess_counter[j] = guess_counter.get(j, 0) + 1\n",
        "\n",
        "#   # calculate true negatives for accuracy calculation\n",
        "#   total_tn = 0\n",
        "#   n = len(gold_labels)\n",
        "\n",
        "#   for k in list(gold_counter.keys()):\n",
        "#     actual_neg = n - gold_counter[k]\n",
        "#     guessed_neg = n - guess_counter.get(k, 0)\n",
        "#     if guessed_neg <= actual_neg:\n",
        "#       total_tn += guessed_neg\n",
        "#     else:\n",
        "#       total_tn += actual_neg\n",
        "\n",
        "#   # initialize final precision & recall\n",
        "#   total_tp = 0\n",
        "#   total_fp = 0\n",
        "#   total_fn = 0\n",
        "#   total_precision = 0\n",
        "#   total_recall = 0\n",
        "#   classwise_f1 = 0\n",
        "\n",
        "#   for c in list(gold_counter.keys()): # for each genre\n",
        "#     # calculate precision = TP / TP + FP\n",
        "#     fp = max(0, guess_counter.get(c, 0) - gold_counter[c])\n",
        "#     precision = (correct_counter.get(c, 0) / (correct_counter.get(c, 0) + fp) \n",
        "#                  if (correct_counter.get(c, 0) + fp) > 0 else 0)\n",
        "    \n",
        "#     total_tp += correct_counter.get(c, 0)\n",
        "#     total_fp += fp\n",
        "\n",
        "#     # calculate recall = TP / TP + FN\n",
        "#     fn = abs(min(0, guess_counter.get(c, 0) - gold_counter[c]))\n",
        "#     recall = (correct_counter.get(c, 0) / (correct_counter.get(c, 0) + fn) \n",
        "#               if (correct_counter.get(c, 0) + fn) > 0 else 0)\n",
        "    \n",
        "#     total_fn += fn\n",
        "    \n",
        "#     # calculate class-wise metrics\n",
        "#     class_f1 = ((2 * precision * recall) / (precision + recall) \n",
        "#                 if (precision + recall) > 0 else 0)\n",
        "#     classwise_f1 += class_f1\n",
        "\n",
        "#     total_guesses = sum(guess_counter.values())\n",
        "#     total_precision += precision * (guess_counter.get(c, 0) / total_guesses) if total_guesses > 0 else 0\n",
        "#     total_recall += recall * (guess_counter.get(c, 0) / total_guesses) if total_guesses > 0 else 0\n",
        "\n",
        "#   # calculate final evaluation metrics\n",
        "#   macro_f1 = classwise_f1 / len(list(gold_counter.keys()))\n",
        "#   weighted_f1 = (2 * total_precision * total_recall) / (total_precision + total_recall) if (total_precision + total_recall) > 0 else 0\n",
        "#   micro_f1 = total_tp / (total_tp + (0.5 * (total_fp + total_fn))) if (total_tp + (0.5 * (total_fp + total_fn))) > 0 else 0\n",
        "\n",
        "#   accuracy = (total_tp + total_tn) / (total_tp + total_tn + total_fp + total_fn) if (total_tp + total_tn + total_fp + total_fn) > 0 else 0\n",
        "#   print(f\"Accuracy: {round(accuracy, 4)}\\n\")\n",
        "\n",
        "#   print(f\"Precision: {round(total_precision, 4)}, Recall: {round(total_recall, 4)}\")\n",
        "#   print(f\"Macro-F1 Score: {round(macro_f1, 4)}, Weighted F1 Score: {round(weighted_f1, 4)}, Micro-F1 Score: {round(micro_f1, 4)}\\n\")\n",
        "\n",
        "#   # calculate overall coverage of available genres\n",
        "#   coverage_counter = 0\n",
        "#   foreign_counter = 0\n",
        "\n",
        "#   for p in list(guess_counter.keys()):\n",
        "#     if p in list(gold_counter.keys()):\n",
        "#       coverage_counter += 1\n",
        "#     else:\n",
        "#       foreign_counter += 1\n",
        "\n",
        "\n",
        "#   print(f\"Coverage: {round(coverage_counter / len(list(gold_counter.keys())), 4)}\")\n",
        "#   print(f\"Foreign: {round(foreign_counter / len(list(guess_counter.keys())), 4)}\")\n"
      ]
    },
    {
      "cell_type": "markdown",
      "metadata": {
        "id": "C96DSDgdA0xM"
      },
      "source": [
        "## Spacy Attempt"
      ]
    },
    {
      "cell_type": "code",
      "execution_count": null,
      "metadata": {
        "id": "J46GgUbEmuTB"
      },
      "outputs": [],
      "source": [
        "#### prepping for spacy iteration \n",
        "# ! pip install -U spacy\n",
        "# ! pip install -U layers\n",
        "# ! pip install -U thinc\n",
        "# ! pip install -U textacy\n",
        "# ! pip install -U pip setuptools wheel\n",
        "# ! pip install -U thinc \n",
        "# ! python -m spacy download en_core_web_sm\n",
        "\"\"\"\n",
        "AMY'S COMMENTS:\n",
        "make sure to restart the kernel after installing\n",
        "\"\"\""
      ]
    },
    {
      "cell_type": "code",
      "execution_count": null,
      "metadata": {
        "id": "pEn_LeNQofks"
      },
      "outputs": [],
      "source": [
        "from __future__ import unicode_literals\n",
        "import spacy, en_core_web_sm\n",
        "import textacy"
      ]
    },
    {
      "cell_type": "code",
      "execution_count": null,
      "metadata": {
        "id": "DYe2mngUb_-H"
      },
      "outputs": [],
      "source": [
        "nlp = spacy.load('en_core_web_sm')\n",
        "\n",
        "def extract_part_of_speech(text, pos=\"verb\"):\n",
        "  tokens = []\n",
        "  if pos == \"verb\":\n",
        "    pattern = [{'POS': 'VERB'}]\n",
        "  elif pos == \"adjective\":\n",
        "    pattern = [{'POS': 'ADJ'}]\n",
        "    \n",
        "  doc = textacy.make_spacy_doc(text, lang='en_core_web_sm')\n",
        "  lists = textacy.extract.matches.token_matches(doc, pattern)\n",
        "  for list in lists:\n",
        "    tokens.append(list.text)\n",
        "  return tokens"
      ]
    },
    {
      "cell_type": "code",
      "execution_count": null,
      "metadata": {
        "id": "guM6NENS52zS"
      },
      "outputs": [],
      "source": [
        "X_train_copy = X_train.copy().reset_index(drop=True)\n",
        "X_test_copy = X_test.copy().reset_index(drop=True)"
      ]
    },
    {
      "cell_type": "code",
      "execution_count": null,
      "metadata": {
        "id": "J8MSMiePSq3Y"
      },
      "outputs": [],
      "source": [
        "X_train[X_train.isnull()]"
      ]
    },
    {
      "cell_type": "code",
      "execution_count": null,
      "metadata": {
        "id": "0Fq6x7iL521l"
      },
      "outputs": [],
      "source": [
        "# X_train_copy['verb_tokens'] = X_train_copy.apply(lambda x: extract_part_of_speech(x, pos=\"verb\"))"
      ]
    },
    {
      "cell_type": "code",
      "execution_count": null,
      "metadata": {
        "id": "PgZ6MLQDS6xB"
      },
      "outputs": [],
      "source": [
        "# X_train_copy['adj_tokens'] = X_train_copy.apply(lambda x: extract_part_of_speech(x, pos=\"adjective\"))"
      ]
    },
    {
      "cell_type": "code",
      "execution_count": null,
      "metadata": {
        "id": "KI_aWb9e_V5f"
      },
      "outputs": [],
      "source": [
        "# X_train_copy['adj_tokens'][0]"
      ]
    },
    {
      "cell_type": "code",
      "execution_count": null,
      "metadata": {
        "id": "RoO1FLKV524K"
      },
      "outputs": [],
      "source": [
        "# X_test_copy['verb_tokens'] = X_test_copy.apply(lambda x: extract_part_of_speech(x, pos=\"verb\"))\n",
        "# X_test_copy['adj_tokens'] = X_test_copy.apply(lambda x: extract_part_of_speech(x, pos=\"adj\"))"
      ]
    },
    {
      "cell_type": "markdown",
      "metadata": {
        "id": "X6w-hOKu3RYk"
      },
      "source": [
        "## Implementing Large Scale Multi Label Text Classification Model\n",
        "\n",
        "Reference:\n",
        "* https://keras.io/examples/nlp/multi_label_classification/"
      ]
    },
    {
      "cell_type": "code",
      "execution_count": null,
      "metadata": {
        "id": "qqNZB_6v53Nl"
      },
      "outputs": [],
      "source": [
        "from tensorflow.keras import layers\n",
        "from tensorflow import keras\n",
        "from ast import literal_eval\n",
        "\n",
        "import tensorflow as tf\n",
        "import matplotlib.pyplot as plt"
      ]
    },
    {
      "cell_type": "code",
      "execution_count": null,
      "metadata": {
        "id": "_YbNndKIqeV1"
      },
      "outputs": [],
      "source": [
        "df = movies_cleaned[[\"plot_summary\", \"genres_extract_str\"]].copy()\n",
        "print(len(df))\n",
        "\n",
        "print(sum(df[\"genres_extract_str\"].value_counts() == 1))\n",
        "\n",
        "print(df[\"genres_extract_str\"].nunique())"
      ]
    },
    {
      "cell_type": "code",
      "execution_count": null,
      "metadata": {
        "id": "J7GJTx7Mt87g"
      },
      "outputs": [],
      "source": [
        "df = df.groupby(\"genres_extract_str\").filter(lambda x: len(x) > 1)\n",
        "print(len(df))"
      ]
    },
    {
      "cell_type": "code",
      "execution_count": null,
      "metadata": {
        "id": "axdCJ1xoLPAR"
      },
      "outputs": [],
      "source": [
        "def make_dataset(summaries, genres, is_train=True):\n",
        "    labels = tf.ragged.constant(genres.values)\n",
        "    # label_binarized = lookup(labels).numpy()\n",
        "    dataset = tf.data.Dataset.from_tensor_slices(\n",
        "        (summaries.values, genres)\n",
        "    )\n",
        "    dataset = dataset.shuffle(batch_size * 10) if is_train else dataset\n",
        "    return dataset.batch(batch_size)"
      ]
    },
    {
      "cell_type": "code",
      "execution_count": null,
      "metadata": {
        "id": "G-xSJcopqeYb"
      },
      "outputs": [],
      "source": [
        "df[\"genres_extract\"] = df[\"genres_extract_str\"].apply(\n",
        "    lambda x: literal_eval(str(x))\n",
        ")"
      ]
    },
    {
      "cell_type": "code",
      "execution_count": null,
      "metadata": {
        "id": "8nPiLtLKs9U5"
      },
      "outputs": [],
      "source": [
        "df[\"genres_extract\"].values[:5]"
      ]
    },
    {
      "cell_type": "code",
      "execution_count": null,
      "metadata": {
        "id": "HsQLKjg6v4eU"
      },
      "outputs": [],
      "source": [
        "df = df[[\"plot_summary\", \"genres_extract\"]]"
      ]
    },
    {
      "cell_type": "code",
      "execution_count": null,
      "metadata": {
        "id": "RpxuasQ5qea5"
      },
      "outputs": [],
      "source": [
        "# X_train, X_test, y_train, y_test = train_test_split(movies_cleaned['plot_summary'], y, random_state=408)\n",
        "\n",
        "train_df, test_df = train_test_split(\n",
        "    df,\n",
        "    stratify=df[\"genres_extract\"].values,\n",
        "    random_state=408\n",
        ")"
      ]
    },
    {
      "cell_type": "code",
      "execution_count": null,
      "metadata": {
        "id": "ajzru_8be5lj"
      },
      "outputs": [],
      "source": [
        "terms = tf.ragged.constant(train_df[\"genres_extract\"].values)\n",
        "lookup = tf.keras.layers.StringLookup(output_mode=\"multi_hot\")\n",
        "lookup.adapt(terms)\n",
        "vocab = lookup.get_vocabulary()\n",
        "\n",
        "def invert_multi_hot(encoded_labels):\n",
        "    \"\"\"Reverse a single multi-hot encoded label to a tuple of vocab terms.\"\"\"\n",
        "    hot_indices = np.argwhere(encoded_labels == 1.0)[..., 0]\n",
        "    return np.take(vocab, hot_indices)\n",
        "\n",
        "\n",
        "print(\"Vocabulary:\\n\")\n",
        "print(vocab)"
      ]
    },
    {
      "cell_type": "code",
      "execution_count": null,
      "metadata": {
        "id": "fUQTJ0g6zXbX"
      },
      "outputs": [],
      "source": [
        "train_df[\"plot_summary\"].apply(lambda x: len(x.split(\" \"))).describe()"
      ]
    },
    {
      "cell_type": "code",
      "execution_count": null,
      "metadata": {
        "id": "NjkrR-ILzXdv"
      },
      "outputs": [],
      "source": [
        "max_seqlen = 150\n",
        "batch_size = 128\n",
        "padding_token = \"<pad>\"\n",
        "auto = tf.data.AUTOTUNE\n",
        "\n",
        "\n",
        "def make_dataset(dataframe, is_train=True):\n",
        "    labels = tf.ragged.constant(dataframe[\"genres_extract\"].values)\n",
        "    label_binarized = lookup(labels).numpy()\n",
        "    dataset = tf.data.Dataset.from_tensor_slices(\n",
        "        (dataframe[\"plot_summary\"].values, label_binarized)\n",
        "    )\n",
        "    dataset = dataset.shuffle(batch_size * 10) if is_train else dataset\n",
        "    return dataset.batch(batch_size)"
      ]
    },
    {
      "cell_type": "code",
      "execution_count": null,
      "metadata": {
        "id": "dNc7dDrazXgQ"
      },
      "outputs": [],
      "source": [
        "train_dataset = make_dataset(train_df, is_train=True)\n",
        "test_dataset = make_dataset(test_df, is_train=False)"
      ]
    },
    {
      "cell_type": "code",
      "execution_count": null,
      "metadata": {
        "id": "FHFoDI77zXji"
      },
      "outputs": [],
      "source": [
        "text_batch, label_batch = next(iter(train_dataset))\n",
        "\n",
        "for i, text in enumerate(text_batch[:5]):\n",
        "    label = label_batch[i].numpy()[None, ...]\n",
        "    print(f\"Abstract: {text}\")\n",
        "    print(f\"Label(s): {invert_multi_hot(label[0])}\")\n",
        "    print(\" \")"
      ]
    },
    {
      "cell_type": "code",
      "execution_count": null,
      "metadata": {
        "id": "4o-ZKNJwcrhB"
      },
      "outputs": [],
      "source": [
        "vocabulary = set()\n",
        "train_df[\"plot_summary\"].str.split().apply(vocabulary.update)\n",
        "vocabulary_size = len(vocabulary)\n",
        "print(vocabulary_size)"
      ]
    },
    {
      "cell_type": "code",
      "execution_count": null,
      "metadata": {
        "id": "mBWwogdN0YgX"
      },
      "outputs": [],
      "source": [
        "text_vectorizer = layers.TextVectorization(\n",
        "    max_tokens=vocabulary_size, ngrams=2, output_mode=\"tf_idf\"\n",
        ")\n",
        "\n",
        "with tf.device(\"/CPU:0\"):\n",
        "    text_vectorizer.adapt(train_dataset.map(lambda text, label: text))"
      ]
    },
    {
      "cell_type": "code",
      "execution_count": null,
      "metadata": {
        "id": "AlqdLgvb0YjI"
      },
      "outputs": [],
      "source": [
        "train_dataset = train_dataset.map(\n",
        "    lambda text, label: (text_vectorizer(text), label), num_parallel_calls=auto\n",
        ").prefetch(auto)"
      ]
    },
    {
      "cell_type": "code",
      "execution_count": null,
      "metadata": {
        "id": "NBN0qZXc0l7b"
      },
      "outputs": [],
      "source": [
        "test_dataset = test_dataset.map(\n",
        "    lambda text, label: (text_vectorizer(text), label), num_parallel_calls=auto\n",
        ").prefetch(auto)"
      ]
    },
    {
      "cell_type": "code",
      "execution_count": null,
      "metadata": {
        "id": "jTk3gpMh0l-b"
      },
      "outputs": [],
      "source": [
        "def make_model():\n",
        "    shallow_mlp_model = keras.Sequential(\n",
        "        [\n",
        "            layers.Dense(512, activation=\"relu\"),\n",
        "            layers.Dense(256, activation=\"relu\"),\n",
        "            layers.Dense(lookup.vocabulary_size(), activation=\"sigmoid\"),\n",
        "        ]  # More on why \"sigmoid\" has been used here in a moment.\n",
        "    )\n",
        "    return shallow_mlp_model"
      ]
    },
    {
      "cell_type": "code",
      "execution_count": null,
      "metadata": {
        "id": "HEdyKXnd0YmD"
      },
      "outputs": [],
      "source": [
        "epochs = 20\n",
        "\n",
        "shallow_mlp_model = make_model()\n",
        "shallow_mlp_model.compile(\n",
        "    loss=\"binary_crossentropy\", optimizer=\"adam\", metrics=[\"categorical_accuracy\"]\n",
        ")"
      ]
    },
    {
      "cell_type": "code",
      "execution_count": null,
      "metadata": {
        "id": "T28gVXj10v5H"
      },
      "outputs": [],
      "source": [
        "history = shallow_mlp_model.fit(\n",
        "    train_dataset, validation_data=test_dataset, epochs=epochs\n",
        ")"
      ]
    },
    {
      "cell_type": "code",
      "execution_count": null,
      "metadata": {
        "id": "8ZWgCfyP0v7s"
      },
      "outputs": [],
      "source": [
        "_, categorical_acc = shallow_mlp_model.evaluate(test_dataset)\n",
        "print(f\"Categorical accuracy on the test set: {round(categorical_acc * 100, 2)}%.\")"
      ]
    },
    {
      "cell_type": "code",
      "execution_count": null,
      "metadata": {
        "id": "8PdBETyTlyuH"
      },
      "outputs": [],
      "source": [
        "model_for_inference = keras.Sequential([text_vectorizer, shallow_mlp_model])\n",
        "\n",
        "# Create a small dataset just for demoing inference.\n",
        "inference_dataset = make_dataset(test_df.sample(100), is_train=False)\n",
        "text_batch, label_batch = next(iter(inference_dataset))\n",
        "predicted_probabilities = model_for_inference.predict(text_batch)\n",
        "\n",
        "# Perform inference.\n",
        "for i, text in enumerate(text_batch[:5]):\n",
        "    label = label_batch[i].numpy()[None, ...]\n",
        "    print(f\"Abstract: {text}\")\n",
        "    print(f\"Label(s): {invert_multi_hot(label[0])}\")\n",
        "    predicted_proba = [proba for proba in predicted_probabilities[i]]\n",
        "    top_3_labels = [\n",
        "        x\n",
        "        for _, x in sorted(\n",
        "            zip(predicted_probabilities[i], lookup.get_vocabulary()),\n",
        "            key=lambda pair: pair[0],\n",
        "            reverse=True,\n",
        "        )\n",
        "    ][:3]\n",
        "    print(f\"Predicted Label(s): ({', '.join([label for label in top_3_labels])})\")\n",
        "    print(\" \")"
      ]
    },
    {
      "cell_type": "code",
      "execution_count": null,
      "metadata": {
        "id": "-JzDJwEQlywj"
      },
      "outputs": [],
      "source": [
        ""
      ]
    },
    {
      "cell_type": "code",
      "execution_count": null,
      "metadata": {
        "id": "5GNGHIkplyzA"
      },
      "outputs": [],
      "source": [
        ""
      ]
    },
    {
      "cell_type": "code",
      "execution_count": null,
      "metadata": {
        "id": "EA7vnaZz3Ti5"
      },
      "outputs": [],
      "source": [
        ""
      ]
    },
    {
      "cell_type": "markdown",
      "metadata": {
        "id": "IRPp3WnBADjQ"
      },
      "source": [
        "## Attempting KeyBert Keyword Extraction\n",
        "\n",
        "Based on:\n",
        "- https://www.analyticsvidhya.com/blog/2022/01/four-of-the-easiest-and-most-effective-methods-of-keyword-extraction-from-a-single-text-using-python/"
      ]
    },
    {
      "cell_type": "code",
      "execution_count": null,
      "metadata": {
        "id": "2NZ2lmHMAD2l"
      },
      "outputs": [],
      "source": [
        "! pip install -U keybert"
      ]
    },
    {
      "cell_type": "code",
      "execution_count": null,
      "metadata": {
        "colab": {
          "base_uri": "https://localhost:8080/"
        },
        "id": "CcCxRnLC4HPM",
        "outputId": "b74063ea-61c4-418b-8fed-c5bfbb377f81"
      },
      "outputs": [
        {
          "name": "stdout",
          "output_type": "stream",
          "text": [
            "Requirement already satisfied: Cython in /usr/local/lib/python3.7/dist-packages (0.29.28)\n"
          ]
        }
      ],
      "source": [
        "! pip install -U Cython"
      ]
    },
    {
      "cell_type": "code",
      "execution_count": null,
      "metadata": {
        "id": "G-v7wTRo54MG"
      },
      "outputs": [],
      "source": [
        "from keybert import KeyBERT"
      ]
    },
    {
      "cell_type": "code",
      "execution_count": null,
      "metadata": {
        "id": "nqDF8U-TAD83"
      },
      "outputs": [],
      "source": [
        "kw_model = KeyBERT(model='all-mpnet-base-v2')"
      ]
    },
    {
      "cell_type": "code",
      "execution_count": null,
      "metadata": {
        "colab": {
          "base_uri": "https://localhost:8080/"
        },
        "id": "tdBEr7JsAlGJ",
        "outputId": "022cd0fd-1008-4a07-b637-fa0aa57f77d0"
      },
      "outputs": [
        {
          "data": {
            "text/plain": [
              "[('martian civil', 0.5593),\n",
              " ('martian societi', 0.5039),\n",
              " ('releas martian', 0.5014),\n",
              " ('suit martian', 0.4556),\n",
              " ('ancient martian', 0.4538),\n",
              " ('unreciproc ballard', 0.3876),\n",
              " ('martian spirit', 0.3842),\n",
              " ('murder ballard', 0.3606),\n",
              " ('sergeant jericho', 0.35),\n",
              " ('centuri film', 0.3402)]"
            ]
          },
          "execution_count": 25,
          "metadata": {},
          "output_type": "execute_result"
        }
      ],
      "source": [
        "kw_model.extract_keywords(movies_cleaned.plot_summary[0], keyphrase_ngram_range=(2, 2), \n",
        "                                     stop_words='english', highlight=False,\n",
        "                                     top_n=100)[:10]"
      ]
    },
    {
      "cell_type": "code",
      "execution_count": null,
      "metadata": {
        "id": "bd2LzzDk8gsF"
      },
      "outputs": [],
      "source": [
        "X_train_df = pd.DataFrame(X_train.copy())\n",
        "X_test_df = pd.DataFrame(X_test.copy())"
      ]
    },
    {
      "cell_type": "code",
      "execution_count": null,
      "metadata": {
        "colab": {
          "base_uri": "https://localhost:8080/",
          "height": 364
        },
        "id": "rRbFleOh8gue",
        "outputId": "dbfcb83d-f58f-4e51-b5c2-5829cfc520c4"
      },
      "outputs": [
        {
          "ename": "KeyboardInterrupt",
          "evalue": "ignored",
          "output_type": "error",
          "traceback": [
            "\u001b[0;31m---------------------------------------------------------------------------\u001b[0m",
            "\u001b[0;31mKeyboardInterrupt\u001b[0m                         Traceback (most recent call last)",
            "\u001b[0;32m<ipython-input-30-f2f8520f5616>\u001b[0m in \u001b[0;36m<module>\u001b[0;34m()\u001b[0m\n\u001b[0;32m----> 1\u001b[0;31m X_train_df[\"kw_plot_summary\"] = X_train_df.plot_summary.apply(lambda x: kw_model.extract_keywords(x, keyphrase_ngram_range=(1, 2), \n\u001b[0m\u001b[1;32m      2\u001b[0m                                      \u001b[0mstop_words\u001b[0m\u001b[0;34m=\u001b[0m\u001b[0;34m'english'\u001b[0m\u001b[0;34m,\u001b[0m \u001b[0mhighlight\u001b[0m\u001b[0;34m=\u001b[0m\u001b[0;32mFalse\u001b[0m\u001b[0;34m,\u001b[0m\u001b[0;34m\u001b[0m\u001b[0;34m\u001b[0m\u001b[0m\n\u001b[1;32m      3\u001b[0m                                      top_n=10))\n",
            "\u001b[0;32m/usr/local/lib/python3.7/dist-packages/pandas/core/series.py\u001b[0m in \u001b[0;36mapply\u001b[0;34m(self, func, convert_dtype, args, **kwargs)\u001b[0m\n\u001b[1;32m   4355\u001b[0m         \u001b[0mdtype\u001b[0m\u001b[0;34m:\u001b[0m \u001b[0mfloat64\u001b[0m\u001b[0;34m\u001b[0m\u001b[0;34m\u001b[0m\u001b[0m\n\u001b[1;32m   4356\u001b[0m         \"\"\"\n\u001b[0;32m-> 4357\u001b[0;31m         \u001b[0;32mreturn\u001b[0m \u001b[0mSeriesApply\u001b[0m\u001b[0;34m(\u001b[0m\u001b[0mself\u001b[0m\u001b[0;34m,\u001b[0m \u001b[0mfunc\u001b[0m\u001b[0;34m,\u001b[0m \u001b[0mconvert_dtype\u001b[0m\u001b[0;34m,\u001b[0m \u001b[0margs\u001b[0m\u001b[0;34m,\u001b[0m \u001b[0mkwargs\u001b[0m\u001b[0;34m)\u001b[0m\u001b[0;34m.\u001b[0m\u001b[0mapply\u001b[0m\u001b[0;34m(\u001b[0m\u001b[0;34m)\u001b[0m\u001b[0;34m\u001b[0m\u001b[0;34m\u001b[0m\u001b[0m\n\u001b[0m\u001b[1;32m   4358\u001b[0m \u001b[0;34m\u001b[0m\u001b[0m\n\u001b[1;32m   4359\u001b[0m     def _reduce(\n",
            "\u001b[0;32m/usr/local/lib/python3.7/dist-packages/pandas/core/apply.py\u001b[0m in \u001b[0;36mapply\u001b[0;34m(self)\u001b[0m\n\u001b[1;32m   1041\u001b[0m             \u001b[0;32mreturn\u001b[0m \u001b[0mself\u001b[0m\u001b[0;34m.\u001b[0m\u001b[0mapply_str\u001b[0m\u001b[0;34m(\u001b[0m\u001b[0;34m)\u001b[0m\u001b[0;34m\u001b[0m\u001b[0;34m\u001b[0m\u001b[0m\n\u001b[1;32m   1042\u001b[0m \u001b[0;34m\u001b[0m\u001b[0m\n\u001b[0;32m-> 1043\u001b[0;31m         \u001b[0;32mreturn\u001b[0m \u001b[0mself\u001b[0m\u001b[0;34m.\u001b[0m\u001b[0mapply_standard\u001b[0m\u001b[0;34m(\u001b[0m\u001b[0;34m)\u001b[0m\u001b[0;34m\u001b[0m\u001b[0;34m\u001b[0m\u001b[0m\n\u001b[0m\u001b[1;32m   1044\u001b[0m \u001b[0;34m\u001b[0m\u001b[0m\n\u001b[1;32m   1045\u001b[0m     \u001b[0;32mdef\u001b[0m \u001b[0magg\u001b[0m\u001b[0;34m(\u001b[0m\u001b[0mself\u001b[0m\u001b[0;34m)\u001b[0m\u001b[0;34m:\u001b[0m\u001b[0;34m\u001b[0m\u001b[0;34m\u001b[0m\u001b[0m\n",
            "\u001b[0;32m/usr/local/lib/python3.7/dist-packages/pandas/core/apply.py\u001b[0m in \u001b[0;36mapply_standard\u001b[0;34m(self)\u001b[0m\n\u001b[1;32m   1099\u001b[0m                     \u001b[0mvalues\u001b[0m\u001b[0;34m,\u001b[0m\u001b[0;34m\u001b[0m\u001b[0;34m\u001b[0m\u001b[0m\n\u001b[1;32m   1100\u001b[0m                     \u001b[0mf\u001b[0m\u001b[0;34m,\u001b[0m  \u001b[0;31m# type: ignore[arg-type]\u001b[0m\u001b[0;34m\u001b[0m\u001b[0;34m\u001b[0m\u001b[0m\n\u001b[0;32m-> 1101\u001b[0;31m                     \u001b[0mconvert\u001b[0m\u001b[0;34m=\u001b[0m\u001b[0mself\u001b[0m\u001b[0;34m.\u001b[0m\u001b[0mconvert_dtype\u001b[0m\u001b[0;34m,\u001b[0m\u001b[0;34m\u001b[0m\u001b[0;34m\u001b[0m\u001b[0m\n\u001b[0m\u001b[1;32m   1102\u001b[0m                 )\n\u001b[1;32m   1103\u001b[0m \u001b[0;34m\u001b[0m\u001b[0m\n",
            "\u001b[0;32m/usr/local/lib/python3.7/dist-packages/pandas/_libs/lib.pyx\u001b[0m in \u001b[0;36mpandas._libs.lib.map_infer\u001b[0;34m()\u001b[0m\n",
            "\u001b[0;32m<ipython-input-30-f2f8520f5616>\u001b[0m in \u001b[0;36m<lambda>\u001b[0;34m(x)\u001b[0m\n\u001b[1;32m      1\u001b[0m X_train_df[\"kw_plot_summary\"] = X_train_df.plot_summary.apply(lambda x: kw_model.extract_keywords(x, keyphrase_ngram_range=(1, 2), \n\u001b[1;32m      2\u001b[0m                                      \u001b[0mstop_words\u001b[0m\u001b[0;34m=\u001b[0m\u001b[0;34m'english'\u001b[0m\u001b[0;34m,\u001b[0m \u001b[0mhighlight\u001b[0m\u001b[0;34m=\u001b[0m\u001b[0;32mFalse\u001b[0m\u001b[0;34m,\u001b[0m\u001b[0;34m\u001b[0m\u001b[0;34m\u001b[0m\u001b[0m\n\u001b[0;32m----> 3\u001b[0;31m                                      top_n=10))\n\u001b[0m",
            "\u001b[0;32m/usr/local/lib/python3.7/dist-packages/keybert/_model.py\u001b[0m in \u001b[0;36mextract_keywords\u001b[0;34m(self, docs, candidates, keyphrase_ngram_range, stop_words, top_n, min_df, use_maxsum, use_mmr, diversity, nr_candidates, vectorizer, highlight, seed_keywords)\u001b[0m\n\u001b[1;32m    121\u001b[0m                                                          \u001b[0mnr_candidates\u001b[0m\u001b[0;34m=\u001b[0m\u001b[0mnr_candidates\u001b[0m\u001b[0;34m,\u001b[0m\u001b[0;34m\u001b[0m\u001b[0;34m\u001b[0m\u001b[0m\n\u001b[1;32m    122\u001b[0m                                                          \u001b[0mvectorizer\u001b[0m\u001b[0;34m=\u001b[0m\u001b[0mvectorizer\u001b[0m\u001b[0;34m,\u001b[0m\u001b[0;34m\u001b[0m\u001b[0;34m\u001b[0m\u001b[0m\n\u001b[0;32m--> 123\u001b[0;31m                                                          seed_keywords=seed_keywords)\n\u001b[0m\u001b[1;32m    124\u001b[0m             \u001b[0;32mif\u001b[0m \u001b[0mhighlight\u001b[0m\u001b[0;34m:\u001b[0m\u001b[0;34m\u001b[0m\u001b[0;34m\u001b[0m\u001b[0m\n\u001b[1;32m    125\u001b[0m                 \u001b[0mhighlight_document\u001b[0m\u001b[0;34m(\u001b[0m\u001b[0mdocs\u001b[0m\u001b[0;34m,\u001b[0m \u001b[0mkeywords\u001b[0m\u001b[0;34m)\u001b[0m\u001b[0;34m\u001b[0m\u001b[0;34m\u001b[0m\u001b[0m\n",
            "\u001b[0;32m/usr/local/lib/python3.7/dist-packages/keybert/_model.py\u001b[0m in \u001b[0;36m_extract_keywords_single_doc\u001b[0;34m(self, doc, candidates, keyphrase_ngram_range, stop_words, top_n, use_maxsum, use_mmr, diversity, nr_candidates, vectorizer, seed_keywords)\u001b[0m\n\u001b[1;32m    181\u001b[0m             \u001b[0;31m# Extract Embeddings\u001b[0m\u001b[0;34m\u001b[0m\u001b[0;34m\u001b[0m\u001b[0;34m\u001b[0m\u001b[0m\n\u001b[1;32m    182\u001b[0m             \u001b[0mdoc_embedding\u001b[0m \u001b[0;34m=\u001b[0m \u001b[0mself\u001b[0m\u001b[0;34m.\u001b[0m\u001b[0mmodel\u001b[0m\u001b[0;34m.\u001b[0m\u001b[0membed\u001b[0m\u001b[0;34m(\u001b[0m\u001b[0;34m[\u001b[0m\u001b[0mdoc\u001b[0m\u001b[0;34m]\u001b[0m\u001b[0;34m)\u001b[0m\u001b[0;34m\u001b[0m\u001b[0;34m\u001b[0m\u001b[0m\n\u001b[0;32m--> 183\u001b[0;31m             \u001b[0mcandidate_embeddings\u001b[0m \u001b[0;34m=\u001b[0m \u001b[0mself\u001b[0m\u001b[0;34m.\u001b[0m\u001b[0mmodel\u001b[0m\u001b[0;34m.\u001b[0m\u001b[0membed\u001b[0m\u001b[0;34m(\u001b[0m\u001b[0mcandidates\u001b[0m\u001b[0;34m)\u001b[0m\u001b[0;34m\u001b[0m\u001b[0;34m\u001b[0m\u001b[0m\n\u001b[0m\u001b[1;32m    184\u001b[0m \u001b[0;34m\u001b[0m\u001b[0m\n\u001b[1;32m    185\u001b[0m             \u001b[0;31m# Guided KeyBERT with seed keywords\u001b[0m\u001b[0;34m\u001b[0m\u001b[0;34m\u001b[0m\u001b[0;34m\u001b[0m\u001b[0m\n",
            "\u001b[0;32m/usr/local/lib/python3.7/dist-packages/keybert/backend/_sentencetransformers.py\u001b[0m in \u001b[0;36membed\u001b[0;34m(self, documents, verbose)\u001b[0m\n\u001b[1;32m     51\u001b[0m             \u001b[0mthat\u001b[0m \u001b[0meach\u001b[0m \u001b[0mhave\u001b[0m \u001b[0man\u001b[0m \u001b[0membeddings\u001b[0m \u001b[0msize\u001b[0m \u001b[0mof\u001b[0m\u001b[0;31m \u001b[0m\u001b[0;31m`\u001b[0m\u001b[0mm\u001b[0m\u001b[0;31m`\u001b[0m\u001b[0;34m\u001b[0m\u001b[0;34m\u001b[0m\u001b[0m\n\u001b[1;32m     52\u001b[0m         \"\"\"\n\u001b[0;32m---> 53\u001b[0;31m         \u001b[0membeddings\u001b[0m \u001b[0;34m=\u001b[0m \u001b[0mself\u001b[0m\u001b[0;34m.\u001b[0m\u001b[0membedding_model\u001b[0m\u001b[0;34m.\u001b[0m\u001b[0mencode\u001b[0m\u001b[0;34m(\u001b[0m\u001b[0mdocuments\u001b[0m\u001b[0;34m,\u001b[0m \u001b[0mshow_progress_bar\u001b[0m\u001b[0;34m=\u001b[0m\u001b[0mverbose\u001b[0m\u001b[0;34m)\u001b[0m\u001b[0;34m\u001b[0m\u001b[0;34m\u001b[0m\u001b[0m\n\u001b[0m\u001b[1;32m     54\u001b[0m         \u001b[0;32mreturn\u001b[0m \u001b[0membeddings\u001b[0m\u001b[0;34m\u001b[0m\u001b[0;34m\u001b[0m\u001b[0m\n",
            "\u001b[0;32m/usr/local/lib/python3.7/dist-packages/sentence_transformers/SentenceTransformer.py\u001b[0m in \u001b[0;36mencode\u001b[0;34m(self, sentences, batch_size, show_progress_bar, output_value, convert_to_numpy, convert_to_tensor, device, normalize_embeddings)\u001b[0m\n\u001b[1;32m    185\u001b[0m                     \u001b[0;31m# fixes for #522 and #487 to avoid oom problems on gpu with large datasets\u001b[0m\u001b[0;34m\u001b[0m\u001b[0;34m\u001b[0m\u001b[0;34m\u001b[0m\u001b[0m\n\u001b[1;32m    186\u001b[0m                     \u001b[0;32mif\u001b[0m \u001b[0mconvert_to_numpy\u001b[0m\u001b[0;34m:\u001b[0m\u001b[0;34m\u001b[0m\u001b[0;34m\u001b[0m\u001b[0m\n\u001b[0;32m--> 187\u001b[0;31m                         \u001b[0membeddings\u001b[0m \u001b[0;34m=\u001b[0m \u001b[0membeddings\u001b[0m\u001b[0;34m.\u001b[0m\u001b[0mcpu\u001b[0m\u001b[0;34m(\u001b[0m\u001b[0;34m)\u001b[0m\u001b[0;34m\u001b[0m\u001b[0;34m\u001b[0m\u001b[0m\n\u001b[0m\u001b[1;32m    188\u001b[0m \u001b[0;34m\u001b[0m\u001b[0m\n\u001b[1;32m    189\u001b[0m                 \u001b[0mall_embeddings\u001b[0m\u001b[0;34m.\u001b[0m\u001b[0mextend\u001b[0m\u001b[0;34m(\u001b[0m\u001b[0membeddings\u001b[0m\u001b[0;34m)\u001b[0m\u001b[0;34m\u001b[0m\u001b[0;34m\u001b[0m\u001b[0m\n",
            "\u001b[0;31mKeyboardInterrupt\u001b[0m: "
          ]
        }
      ],
      "source": [
        "X_train_df[\"kw_plot_summary\"] = X_train_df.plot_summary.apply(lambda x: kw_model.extract_keywords(x, keyphrase_ngram_range=(1, 2), \n",
        "                                     stop_words='english', highlight=False,\n",
        "                                     top_n=10))"
      ]
    },
    {
      "cell_type": "code",
      "execution_count": null,
      "metadata": {
        "id": "6gXjdTO6AEAP"
      },
      "outputs": [],
      "source": [
        ""
      ]
    },
    {
      "cell_type": "code",
      "execution_count": null,
      "metadata": {
        "id": "5H7Gmt0SEfJn"
      },
      "outputs": [],
      "source": [
        ""
      ]
    },
    {
      "cell_type": "code",
      "execution_count": null,
      "metadata": {
        "id": "3ZQqfKa8EfNR"
      },
      "outputs": [],
      "source": [
        ""
      ]
    }
  ],
  "metadata": {
    "colab": {
      "collapsed_sections": [
        "evuAl1N6KDhb",
        "C96DSDgdA0xM",
        "X6w-hOKu3RYk",
        "IRPp3WnBADjQ"
      ],
      "name": "w266_final_project.ipynb",
      "provenance": []
    },
    "kernelspec": {
      "display_name": "Python 3",
      "name": "python3"
    },
    "language_info": {
      "name": "python"
    },
    "widgets": {
      "application/vnd.jupyter.widget-state+json": {
        "cafce11e707c45899ea860568abfed0f": {
          "model_module": "@jupyter-widgets/controls",
          "model_name": "HBoxModel",
          "model_module_version": "1.5.0",
          "state": {
            "_dom_classes": [],
            "_model_module": "@jupyter-widgets/controls",
            "_model_module_version": "1.5.0",
            "_model_name": "HBoxModel",
            "_view_count": null,
            "_view_module": "@jupyter-widgets/controls",
            "_view_module_version": "1.5.0",
            "_view_name": "HBoxView",
            "box_style": "",
            "children": [
              "IPY_MODEL_d58a369ddf204beb8054e67f204285f9",
              "IPY_MODEL_85257f5dca1541f196fb5b0a35c1e062",
              "IPY_MODEL_baef2dcbb9de4e0fb23b7326a9655d37"
            ],
            "layout": "IPY_MODEL_4ccd43fd24554e658699bd5cd50387fb"
          }
        },
        "d58a369ddf204beb8054e67f204285f9": {
          "model_module": "@jupyter-widgets/controls",
          "model_name": "HTMLModel",
          "model_module_version": "1.5.0",
          "state": {
            "_dom_classes": [],
            "_model_module": "@jupyter-widgets/controls",
            "_model_module_version": "1.5.0",
            "_model_name": "HTMLModel",
            "_view_count": null,
            "_view_module": "@jupyter-widgets/controls",
            "_view_module_version": "1.5.0",
            "_view_name": "HTMLView",
            "description": "",
            "description_tooltip": null,
            "layout": "IPY_MODEL_c0b4b5f9eb2743e59e04f2988af71c2a",
            "placeholder": "​",
            "style": "IPY_MODEL_207dccdcb33545588860c00baa3f437c",
            "value": "Downloading: 100%"
          }
        },
        "85257f5dca1541f196fb5b0a35c1e062": {
          "model_module": "@jupyter-widgets/controls",
          "model_name": "FloatProgressModel",
          "model_module_version": "1.5.0",
          "state": {
            "_dom_classes": [],
            "_model_module": "@jupyter-widgets/controls",
            "_model_module_version": "1.5.0",
            "_model_name": "FloatProgressModel",
            "_view_count": null,
            "_view_module": "@jupyter-widgets/controls",
            "_view_module_version": "1.5.0",
            "_view_name": "ProgressView",
            "bar_style": "success",
            "description": "",
            "description_tooltip": null,
            "layout": "IPY_MODEL_62e3fa93d95347229ad039d7120c23c1",
            "max": 898823,
            "min": 0,
            "orientation": "horizontal",
            "style": "IPY_MODEL_ee0e2826b23c462683d6cd1735e9bc8b",
            "value": 898823
          }
        },
        "baef2dcbb9de4e0fb23b7326a9655d37": {
          "model_module": "@jupyter-widgets/controls",
          "model_name": "HTMLModel",
          "model_module_version": "1.5.0",
          "state": {
            "_dom_classes": [],
            "_model_module": "@jupyter-widgets/controls",
            "_model_module_version": "1.5.0",
            "_model_name": "HTMLModel",
            "_view_count": null,
            "_view_module": "@jupyter-widgets/controls",
            "_view_module_version": "1.5.0",
            "_view_name": "HTMLView",
            "description": "",
            "description_tooltip": null,
            "layout": "IPY_MODEL_a9bffcb07bf74eb2bd997345d188f9c7",
            "placeholder": "​",
            "style": "IPY_MODEL_b2bddb3d73264a138396d3a5f4177450",
            "value": " 878k/878k [00:00&lt;00:00, 9.02MB/s]"
          }
        },
        "4ccd43fd24554e658699bd5cd50387fb": {
          "model_module": "@jupyter-widgets/base",
          "model_name": "LayoutModel",
          "model_module_version": "1.2.0",
          "state": {
            "_model_module": "@jupyter-widgets/base",
            "_model_module_version": "1.2.0",
            "_model_name": "LayoutModel",
            "_view_count": null,
            "_view_module": "@jupyter-widgets/base",
            "_view_module_version": "1.2.0",
            "_view_name": "LayoutView",
            "align_content": null,
            "align_items": null,
            "align_self": null,
            "border": null,
            "bottom": null,
            "display": null,
            "flex": null,
            "flex_flow": null,
            "grid_area": null,
            "grid_auto_columns": null,
            "grid_auto_flow": null,
            "grid_auto_rows": null,
            "grid_column": null,
            "grid_gap": null,
            "grid_row": null,
            "grid_template_areas": null,
            "grid_template_columns": null,
            "grid_template_rows": null,
            "height": null,
            "justify_content": null,
            "justify_items": null,
            "left": null,
            "margin": null,
            "max_height": null,
            "max_width": null,
            "min_height": null,
            "min_width": null,
            "object_fit": null,
            "object_position": null,
            "order": null,
            "overflow": null,
            "overflow_x": null,
            "overflow_y": null,
            "padding": null,
            "right": null,
            "top": null,
            "visibility": null,
            "width": null
          }
        },
        "c0b4b5f9eb2743e59e04f2988af71c2a": {
          "model_module": "@jupyter-widgets/base",
          "model_name": "LayoutModel",
          "model_module_version": "1.2.0",
          "state": {
            "_model_module": "@jupyter-widgets/base",
            "_model_module_version": "1.2.0",
            "_model_name": "LayoutModel",
            "_view_count": null,
            "_view_module": "@jupyter-widgets/base",
            "_view_module_version": "1.2.0",
            "_view_name": "LayoutView",
            "align_content": null,
            "align_items": null,
            "align_self": null,
            "border": null,
            "bottom": null,
            "display": null,
            "flex": null,
            "flex_flow": null,
            "grid_area": null,
            "grid_auto_columns": null,
            "grid_auto_flow": null,
            "grid_auto_rows": null,
            "grid_column": null,
            "grid_gap": null,
            "grid_row": null,
            "grid_template_areas": null,
            "grid_template_columns": null,
            "grid_template_rows": null,
            "height": null,
            "justify_content": null,
            "justify_items": null,
            "left": null,
            "margin": null,
            "max_height": null,
            "max_width": null,
            "min_height": null,
            "min_width": null,
            "object_fit": null,
            "object_position": null,
            "order": null,
            "overflow": null,
            "overflow_x": null,
            "overflow_y": null,
            "padding": null,
            "right": null,
            "top": null,
            "visibility": null,
            "width": null
          }
        },
        "207dccdcb33545588860c00baa3f437c": {
          "model_module": "@jupyter-widgets/controls",
          "model_name": "DescriptionStyleModel",
          "model_module_version": "1.5.0",
          "state": {
            "_model_module": "@jupyter-widgets/controls",
            "_model_module_version": "1.5.0",
            "_model_name": "DescriptionStyleModel",
            "_view_count": null,
            "_view_module": "@jupyter-widgets/base",
            "_view_module_version": "1.2.0",
            "_view_name": "StyleView",
            "description_width": ""
          }
        },
        "62e3fa93d95347229ad039d7120c23c1": {
          "model_module": "@jupyter-widgets/base",
          "model_name": "LayoutModel",
          "model_module_version": "1.2.0",
          "state": {
            "_model_module": "@jupyter-widgets/base",
            "_model_module_version": "1.2.0",
            "_model_name": "LayoutModel",
            "_view_count": null,
            "_view_module": "@jupyter-widgets/base",
            "_view_module_version": "1.2.0",
            "_view_name": "LayoutView",
            "align_content": null,
            "align_items": null,
            "align_self": null,
            "border": null,
            "bottom": null,
            "display": null,
            "flex": null,
            "flex_flow": null,
            "grid_area": null,
            "grid_auto_columns": null,
            "grid_auto_flow": null,
            "grid_auto_rows": null,
            "grid_column": null,
            "grid_gap": null,
            "grid_row": null,
            "grid_template_areas": null,
            "grid_template_columns": null,
            "grid_template_rows": null,
            "height": null,
            "justify_content": null,
            "justify_items": null,
            "left": null,
            "margin": null,
            "max_height": null,
            "max_width": null,
            "min_height": null,
            "min_width": null,
            "object_fit": null,
            "object_position": null,
            "order": null,
            "overflow": null,
            "overflow_x": null,
            "overflow_y": null,
            "padding": null,
            "right": null,
            "top": null,
            "visibility": null,
            "width": null
          }
        },
        "ee0e2826b23c462683d6cd1735e9bc8b": {
          "model_module": "@jupyter-widgets/controls",
          "model_name": "ProgressStyleModel",
          "model_module_version": "1.5.0",
          "state": {
            "_model_module": "@jupyter-widgets/controls",
            "_model_module_version": "1.5.0",
            "_model_name": "ProgressStyleModel",
            "_view_count": null,
            "_view_module": "@jupyter-widgets/base",
            "_view_module_version": "1.2.0",
            "_view_name": "StyleView",
            "bar_color": null,
            "description_width": ""
          }
        },
        "a9bffcb07bf74eb2bd997345d188f9c7": {
          "model_module": "@jupyter-widgets/base",
          "model_name": "LayoutModel",
          "model_module_version": "1.2.0",
          "state": {
            "_model_module": "@jupyter-widgets/base",
            "_model_module_version": "1.2.0",
            "_model_name": "LayoutModel",
            "_view_count": null,
            "_view_module": "@jupyter-widgets/base",
            "_view_module_version": "1.2.0",
            "_view_name": "LayoutView",
            "align_content": null,
            "align_items": null,
            "align_self": null,
            "border": null,
            "bottom": null,
            "display": null,
            "flex": null,
            "flex_flow": null,
            "grid_area": null,
            "grid_auto_columns": null,
            "grid_auto_flow": null,
            "grid_auto_rows": null,
            "grid_column": null,
            "grid_gap": null,
            "grid_row": null,
            "grid_template_areas": null,
            "grid_template_columns": null,
            "grid_template_rows": null,
            "height": null,
            "justify_content": null,
            "justify_items": null,
            "left": null,
            "margin": null,
            "max_height": null,
            "max_width": null,
            "min_height": null,
            "min_width": null,
            "object_fit": null,
            "object_position": null,
            "order": null,
            "overflow": null,
            "overflow_x": null,
            "overflow_y": null,
            "padding": null,
            "right": null,
            "top": null,
            "visibility": null,
            "width": null
          }
        },
        "b2bddb3d73264a138396d3a5f4177450": {
          "model_module": "@jupyter-widgets/controls",
          "model_name": "DescriptionStyleModel",
          "model_module_version": "1.5.0",
          "state": {
            "_model_module": "@jupyter-widgets/controls",
            "_model_module_version": "1.5.0",
            "_model_name": "DescriptionStyleModel",
            "_view_count": null,
            "_view_module": "@jupyter-widgets/base",
            "_view_module_version": "1.2.0",
            "_view_name": "StyleView",
            "description_width": ""
          }
        },
        "0d5e6f28af6f46c59c98ea59348a2077": {
          "model_module": "@jupyter-widgets/controls",
          "model_name": "HBoxModel",
          "model_module_version": "1.5.0",
          "state": {
            "_dom_classes": [],
            "_model_module": "@jupyter-widgets/controls",
            "_model_module_version": "1.5.0",
            "_model_name": "HBoxModel",
            "_view_count": null,
            "_view_module": "@jupyter-widgets/controls",
            "_view_module_version": "1.5.0",
            "_view_name": "HBoxView",
            "box_style": "",
            "children": [
              "IPY_MODEL_aa5ad6911ad5441ead7c93ea3d41a2ed",
              "IPY_MODEL_a12c55536533417f804e0c16a037a454",
              "IPY_MODEL_938bbe3c3d1f422e9a89596cf48c002b"
            ],
            "layout": "IPY_MODEL_2dad00970e684124a6e2a07293755fa6"
          }
        },
        "aa5ad6911ad5441ead7c93ea3d41a2ed": {
          "model_module": "@jupyter-widgets/controls",
          "model_name": "HTMLModel",
          "model_module_version": "1.5.0",
          "state": {
            "_dom_classes": [],
            "_model_module": "@jupyter-widgets/controls",
            "_model_module_version": "1.5.0",
            "_model_name": "HTMLModel",
            "_view_count": null,
            "_view_module": "@jupyter-widgets/controls",
            "_view_module_version": "1.5.0",
            "_view_name": "HTMLView",
            "description": "",
            "description_tooltip": null,
            "layout": "IPY_MODEL_549abdc648cc4fb9832343f5452df905",
            "placeholder": "​",
            "style": "IPY_MODEL_ce6e60d58b214301a3d67ce02f17f6e8",
            "value": "Downloading: 100%"
          }
        },
        "a12c55536533417f804e0c16a037a454": {
          "model_module": "@jupyter-widgets/controls",
          "model_name": "FloatProgressModel",
          "model_module_version": "1.5.0",
          "state": {
            "_dom_classes": [],
            "_model_module": "@jupyter-widgets/controls",
            "_model_module_version": "1.5.0",
            "_model_name": "FloatProgressModel",
            "_view_count": null,
            "_view_module": "@jupyter-widgets/controls",
            "_view_module_version": "1.5.0",
            "_view_name": "ProgressView",
            "bar_style": "success",
            "description": "",
            "description_tooltip": null,
            "layout": "IPY_MODEL_545a06af131247e78dde38fcee9c12b3",
            "max": 456318,
            "min": 0,
            "orientation": "horizontal",
            "style": "IPY_MODEL_9bb0dcbf589748c69383d07b5b219424",
            "value": 456318
          }
        },
        "938bbe3c3d1f422e9a89596cf48c002b": {
          "model_module": "@jupyter-widgets/controls",
          "model_name": "HTMLModel",
          "model_module_version": "1.5.0",
          "state": {
            "_dom_classes": [],
            "_model_module": "@jupyter-widgets/controls",
            "_model_module_version": "1.5.0",
            "_model_name": "HTMLModel",
            "_view_count": null,
            "_view_module": "@jupyter-widgets/controls",
            "_view_module_version": "1.5.0",
            "_view_name": "HTMLView",
            "description": "",
            "description_tooltip": null,
            "layout": "IPY_MODEL_909acc20f1d5414c9e6b5b6fc6b09c2b",
            "placeholder": "​",
            "style": "IPY_MODEL_ce9f56ac1202493baec7ed1a842607fc",
            "value": " 446k/446k [00:00&lt;00:00, 4.94MB/s]"
          }
        },
        "2dad00970e684124a6e2a07293755fa6": {
          "model_module": "@jupyter-widgets/base",
          "model_name": "LayoutModel",
          "model_module_version": "1.2.0",
          "state": {
            "_model_module": "@jupyter-widgets/base",
            "_model_module_version": "1.2.0",
            "_model_name": "LayoutModel",
            "_view_count": null,
            "_view_module": "@jupyter-widgets/base",
            "_view_module_version": "1.2.0",
            "_view_name": "LayoutView",
            "align_content": null,
            "align_items": null,
            "align_self": null,
            "border": null,
            "bottom": null,
            "display": null,
            "flex": null,
            "flex_flow": null,
            "grid_area": null,
            "grid_auto_columns": null,
            "grid_auto_flow": null,
            "grid_auto_rows": null,
            "grid_column": null,
            "grid_gap": null,
            "grid_row": null,
            "grid_template_areas": null,
            "grid_template_columns": null,
            "grid_template_rows": null,
            "height": null,
            "justify_content": null,
            "justify_items": null,
            "left": null,
            "margin": null,
            "max_height": null,
            "max_width": null,
            "min_height": null,
            "min_width": null,
            "object_fit": null,
            "object_position": null,
            "order": null,
            "overflow": null,
            "overflow_x": null,
            "overflow_y": null,
            "padding": null,
            "right": null,
            "top": null,
            "visibility": null,
            "width": null
          }
        },
        "549abdc648cc4fb9832343f5452df905": {
          "model_module": "@jupyter-widgets/base",
          "model_name": "LayoutModel",
          "model_module_version": "1.2.0",
          "state": {
            "_model_module": "@jupyter-widgets/base",
            "_model_module_version": "1.2.0",
            "_model_name": "LayoutModel",
            "_view_count": null,
            "_view_module": "@jupyter-widgets/base",
            "_view_module_version": "1.2.0",
            "_view_name": "LayoutView",
            "align_content": null,
            "align_items": null,
            "align_self": null,
            "border": null,
            "bottom": null,
            "display": null,
            "flex": null,
            "flex_flow": null,
            "grid_area": null,
            "grid_auto_columns": null,
            "grid_auto_flow": null,
            "grid_auto_rows": null,
            "grid_column": null,
            "grid_gap": null,
            "grid_row": null,
            "grid_template_areas": null,
            "grid_template_columns": null,
            "grid_template_rows": null,
            "height": null,
            "justify_content": null,
            "justify_items": null,
            "left": null,
            "margin": null,
            "max_height": null,
            "max_width": null,
            "min_height": null,
            "min_width": null,
            "object_fit": null,
            "object_position": null,
            "order": null,
            "overflow": null,
            "overflow_x": null,
            "overflow_y": null,
            "padding": null,
            "right": null,
            "top": null,
            "visibility": null,
            "width": null
          }
        },
        "ce6e60d58b214301a3d67ce02f17f6e8": {
          "model_module": "@jupyter-widgets/controls",
          "model_name": "DescriptionStyleModel",
          "model_module_version": "1.5.0",
          "state": {
            "_model_module": "@jupyter-widgets/controls",
            "_model_module_version": "1.5.0",
            "_model_name": "DescriptionStyleModel",
            "_view_count": null,
            "_view_module": "@jupyter-widgets/base",
            "_view_module_version": "1.2.0",
            "_view_name": "StyleView",
            "description_width": ""
          }
        },
        "545a06af131247e78dde38fcee9c12b3": {
          "model_module": "@jupyter-widgets/base",
          "model_name": "LayoutModel",
          "model_module_version": "1.2.0",
          "state": {
            "_model_module": "@jupyter-widgets/base",
            "_model_module_version": "1.2.0",
            "_model_name": "LayoutModel",
            "_view_count": null,
            "_view_module": "@jupyter-widgets/base",
            "_view_module_version": "1.2.0",
            "_view_name": "LayoutView",
            "align_content": null,
            "align_items": null,
            "align_self": null,
            "border": null,
            "bottom": null,
            "display": null,
            "flex": null,
            "flex_flow": null,
            "grid_area": null,
            "grid_auto_columns": null,
            "grid_auto_flow": null,
            "grid_auto_rows": null,
            "grid_column": null,
            "grid_gap": null,
            "grid_row": null,
            "grid_template_areas": null,
            "grid_template_columns": null,
            "grid_template_rows": null,
            "height": null,
            "justify_content": null,
            "justify_items": null,
            "left": null,
            "margin": null,
            "max_height": null,
            "max_width": null,
            "min_height": null,
            "min_width": null,
            "object_fit": null,
            "object_position": null,
            "order": null,
            "overflow": null,
            "overflow_x": null,
            "overflow_y": null,
            "padding": null,
            "right": null,
            "top": null,
            "visibility": null,
            "width": null
          }
        },
        "9bb0dcbf589748c69383d07b5b219424": {
          "model_module": "@jupyter-widgets/controls",
          "model_name": "ProgressStyleModel",
          "model_module_version": "1.5.0",
          "state": {
            "_model_module": "@jupyter-widgets/controls",
            "_model_module_version": "1.5.0",
            "_model_name": "ProgressStyleModel",
            "_view_count": null,
            "_view_module": "@jupyter-widgets/base",
            "_view_module_version": "1.2.0",
            "_view_name": "StyleView",
            "bar_color": null,
            "description_width": ""
          }
        },
        "909acc20f1d5414c9e6b5b6fc6b09c2b": {
          "model_module": "@jupyter-widgets/base",
          "model_name": "LayoutModel",
          "model_module_version": "1.2.0",
          "state": {
            "_model_module": "@jupyter-widgets/base",
            "_model_module_version": "1.2.0",
            "_model_name": "LayoutModel",
            "_view_count": null,
            "_view_module": "@jupyter-widgets/base",
            "_view_module_version": "1.2.0",
            "_view_name": "LayoutView",
            "align_content": null,
            "align_items": null,
            "align_self": null,
            "border": null,
            "bottom": null,
            "display": null,
            "flex": null,
            "flex_flow": null,
            "grid_area": null,
            "grid_auto_columns": null,
            "grid_auto_flow": null,
            "grid_auto_rows": null,
            "grid_column": null,
            "grid_gap": null,
            "grid_row": null,
            "grid_template_areas": null,
            "grid_template_columns": null,
            "grid_template_rows": null,
            "height": null,
            "justify_content": null,
            "justify_items": null,
            "left": null,
            "margin": null,
            "max_height": null,
            "max_width": null,
            "min_height": null,
            "min_width": null,
            "object_fit": null,
            "object_position": null,
            "order": null,
            "overflow": null,
            "overflow_x": null,
            "overflow_y": null,
            "padding": null,
            "right": null,
            "top": null,
            "visibility": null,
            "width": null
          }
        },
        "ce9f56ac1202493baec7ed1a842607fc": {
          "model_module": "@jupyter-widgets/controls",
          "model_name": "DescriptionStyleModel",
          "model_module_version": "1.5.0",
          "state": {
            "_model_module": "@jupyter-widgets/controls",
            "_model_module_version": "1.5.0",
            "_model_name": "DescriptionStyleModel",
            "_view_count": null,
            "_view_module": "@jupyter-widgets/base",
            "_view_module_version": "1.2.0",
            "_view_name": "StyleView",
            "description_width": ""
          }
        },
        "083f3e7660dc4f5993b071dbe2f76f2a": {
          "model_module": "@jupyter-widgets/controls",
          "model_name": "HBoxModel",
          "model_module_version": "1.5.0",
          "state": {
            "_dom_classes": [],
            "_model_module": "@jupyter-widgets/controls",
            "_model_module_version": "1.5.0",
            "_model_name": "HBoxModel",
            "_view_count": null,
            "_view_module": "@jupyter-widgets/controls",
            "_view_module_version": "1.5.0",
            "_view_name": "HBoxView",
            "box_style": "",
            "children": [
              "IPY_MODEL_d639d8c8e8c8461ba5427f0c5a761d1e",
              "IPY_MODEL_8807c972879b4bab8880b6804990362f",
              "IPY_MODEL_16c0efdb4b58428486d8afaf241efa5f"
            ],
            "layout": "IPY_MODEL_fcbec7762f6341939642319291a42946"
          }
        },
        "d639d8c8e8c8461ba5427f0c5a761d1e": {
          "model_module": "@jupyter-widgets/controls",
          "model_name": "HTMLModel",
          "model_module_version": "1.5.0",
          "state": {
            "_dom_classes": [],
            "_model_module": "@jupyter-widgets/controls",
            "_model_module_version": "1.5.0",
            "_model_name": "HTMLModel",
            "_view_count": null,
            "_view_module": "@jupyter-widgets/controls",
            "_view_module_version": "1.5.0",
            "_view_name": "HTMLView",
            "description": "",
            "description_tooltip": null,
            "layout": "IPY_MODEL_e356ac3658734c1aa98ef3545576fdd8",
            "placeholder": "​",
            "style": "IPY_MODEL_937a84173818424698cceedb9b9072ea",
            "value": "Downloading: 100%"
          }
        },
        "8807c972879b4bab8880b6804990362f": {
          "model_module": "@jupyter-widgets/controls",
          "model_name": "FloatProgressModel",
          "model_module_version": "1.5.0",
          "state": {
            "_dom_classes": [],
            "_model_module": "@jupyter-widgets/controls",
            "_model_module_version": "1.5.0",
            "_model_name": "FloatProgressModel",
            "_view_count": null,
            "_view_module": "@jupyter-widgets/controls",
            "_view_module_version": "1.5.0",
            "_view_name": "ProgressView",
            "bar_style": "success",
            "description": "",
            "description_tooltip": null,
            "layout": "IPY_MODEL_ba079c2ee7e947e7b9c55c90d4eea58a",
            "max": 481,
            "min": 0,
            "orientation": "horizontal",
            "style": "IPY_MODEL_e28b779c70884110bd60ac18ded80eb0",
            "value": 481
          }
        },
        "16c0efdb4b58428486d8afaf241efa5f": {
          "model_module": "@jupyter-widgets/controls",
          "model_name": "HTMLModel",
          "model_module_version": "1.5.0",
          "state": {
            "_dom_classes": [],
            "_model_module": "@jupyter-widgets/controls",
            "_model_module_version": "1.5.0",
            "_model_name": "HTMLModel",
            "_view_count": null,
            "_view_module": "@jupyter-widgets/controls",
            "_view_module_version": "1.5.0",
            "_view_name": "HTMLView",
            "description": "",
            "description_tooltip": null,
            "layout": "IPY_MODEL_7ca7180e28154808a4caff40b360adfd",
            "placeholder": "​",
            "style": "IPY_MODEL_f36ac1132ee042ce97a0787075bf4b5f",
            "value": " 481/481 [00:00&lt;00:00, 12.1kB/s]"
          }
        },
        "fcbec7762f6341939642319291a42946": {
          "model_module": "@jupyter-widgets/base",
          "model_name": "LayoutModel",
          "model_module_version": "1.2.0",
          "state": {
            "_model_module": "@jupyter-widgets/base",
            "_model_module_version": "1.2.0",
            "_model_name": "LayoutModel",
            "_view_count": null,
            "_view_module": "@jupyter-widgets/base",
            "_view_module_version": "1.2.0",
            "_view_name": "LayoutView",
            "align_content": null,
            "align_items": null,
            "align_self": null,
            "border": null,
            "bottom": null,
            "display": null,
            "flex": null,
            "flex_flow": null,
            "grid_area": null,
            "grid_auto_columns": null,
            "grid_auto_flow": null,
            "grid_auto_rows": null,
            "grid_column": null,
            "grid_gap": null,
            "grid_row": null,
            "grid_template_areas": null,
            "grid_template_columns": null,
            "grid_template_rows": null,
            "height": null,
            "justify_content": null,
            "justify_items": null,
            "left": null,
            "margin": null,
            "max_height": null,
            "max_width": null,
            "min_height": null,
            "min_width": null,
            "object_fit": null,
            "object_position": null,
            "order": null,
            "overflow": null,
            "overflow_x": null,
            "overflow_y": null,
            "padding": null,
            "right": null,
            "top": null,
            "visibility": null,
            "width": null
          }
        },
        "e356ac3658734c1aa98ef3545576fdd8": {
          "model_module": "@jupyter-widgets/base",
          "model_name": "LayoutModel",
          "model_module_version": "1.2.0",
          "state": {
            "_model_module": "@jupyter-widgets/base",
            "_model_module_version": "1.2.0",
            "_model_name": "LayoutModel",
            "_view_count": null,
            "_view_module": "@jupyter-widgets/base",
            "_view_module_version": "1.2.0",
            "_view_name": "LayoutView",
            "align_content": null,
            "align_items": null,
            "align_self": null,
            "border": null,
            "bottom": null,
            "display": null,
            "flex": null,
            "flex_flow": null,
            "grid_area": null,
            "grid_auto_columns": null,
            "grid_auto_flow": null,
            "grid_auto_rows": null,
            "grid_column": null,
            "grid_gap": null,
            "grid_row": null,
            "grid_template_areas": null,
            "grid_template_columns": null,
            "grid_template_rows": null,
            "height": null,
            "justify_content": null,
            "justify_items": null,
            "left": null,
            "margin": null,
            "max_height": null,
            "max_width": null,
            "min_height": null,
            "min_width": null,
            "object_fit": null,
            "object_position": null,
            "order": null,
            "overflow": null,
            "overflow_x": null,
            "overflow_y": null,
            "padding": null,
            "right": null,
            "top": null,
            "visibility": null,
            "width": null
          }
        },
        "937a84173818424698cceedb9b9072ea": {
          "model_module": "@jupyter-widgets/controls",
          "model_name": "DescriptionStyleModel",
          "model_module_version": "1.5.0",
          "state": {
            "_model_module": "@jupyter-widgets/controls",
            "_model_module_version": "1.5.0",
            "_model_name": "DescriptionStyleModel",
            "_view_count": null,
            "_view_module": "@jupyter-widgets/base",
            "_view_module_version": "1.2.0",
            "_view_name": "StyleView",
            "description_width": ""
          }
        },
        "ba079c2ee7e947e7b9c55c90d4eea58a": {
          "model_module": "@jupyter-widgets/base",
          "model_name": "LayoutModel",
          "model_module_version": "1.2.0",
          "state": {
            "_model_module": "@jupyter-widgets/base",
            "_model_module_version": "1.2.0",
            "_model_name": "LayoutModel",
            "_view_count": null,
            "_view_module": "@jupyter-widgets/base",
            "_view_module_version": "1.2.0",
            "_view_name": "LayoutView",
            "align_content": null,
            "align_items": null,
            "align_self": null,
            "border": null,
            "bottom": null,
            "display": null,
            "flex": null,
            "flex_flow": null,
            "grid_area": null,
            "grid_auto_columns": null,
            "grid_auto_flow": null,
            "grid_auto_rows": null,
            "grid_column": null,
            "grid_gap": null,
            "grid_row": null,
            "grid_template_areas": null,
            "grid_template_columns": null,
            "grid_template_rows": null,
            "height": null,
            "justify_content": null,
            "justify_items": null,
            "left": null,
            "margin": null,
            "max_height": null,
            "max_width": null,
            "min_height": null,
            "min_width": null,
            "object_fit": null,
            "object_position": null,
            "order": null,
            "overflow": null,
            "overflow_x": null,
            "overflow_y": null,
            "padding": null,
            "right": null,
            "top": null,
            "visibility": null,
            "width": null
          }
        },
        "e28b779c70884110bd60ac18ded80eb0": {
          "model_module": "@jupyter-widgets/controls",
          "model_name": "ProgressStyleModel",
          "model_module_version": "1.5.0",
          "state": {
            "_model_module": "@jupyter-widgets/controls",
            "_model_module_version": "1.5.0",
            "_model_name": "ProgressStyleModel",
            "_view_count": null,
            "_view_module": "@jupyter-widgets/base",
            "_view_module_version": "1.2.0",
            "_view_name": "StyleView",
            "bar_color": null,
            "description_width": ""
          }
        },
        "7ca7180e28154808a4caff40b360adfd": {
          "model_module": "@jupyter-widgets/base",
          "model_name": "LayoutModel",
          "model_module_version": "1.2.0",
          "state": {
            "_model_module": "@jupyter-widgets/base",
            "_model_module_version": "1.2.0",
            "_model_name": "LayoutModel",
            "_view_count": null,
            "_view_module": "@jupyter-widgets/base",
            "_view_module_version": "1.2.0",
            "_view_name": "LayoutView",
            "align_content": null,
            "align_items": null,
            "align_self": null,
            "border": null,
            "bottom": null,
            "display": null,
            "flex": null,
            "flex_flow": null,
            "grid_area": null,
            "grid_auto_columns": null,
            "grid_auto_flow": null,
            "grid_auto_rows": null,
            "grid_column": null,
            "grid_gap": null,
            "grid_row": null,
            "grid_template_areas": null,
            "grid_template_columns": null,
            "grid_template_rows": null,
            "height": null,
            "justify_content": null,
            "justify_items": null,
            "left": null,
            "margin": null,
            "max_height": null,
            "max_width": null,
            "min_height": null,
            "min_width": null,
            "object_fit": null,
            "object_position": null,
            "order": null,
            "overflow": null,
            "overflow_x": null,
            "overflow_y": null,
            "padding": null,
            "right": null,
            "top": null,
            "visibility": null,
            "width": null
          }
        },
        "f36ac1132ee042ce97a0787075bf4b5f": {
          "model_module": "@jupyter-widgets/controls",
          "model_name": "DescriptionStyleModel",
          "model_module_version": "1.5.0",
          "state": {
            "_model_module": "@jupyter-widgets/controls",
            "_model_module_version": "1.5.0",
            "_model_name": "DescriptionStyleModel",
            "_view_count": null,
            "_view_module": "@jupyter-widgets/base",
            "_view_module_version": "1.2.0",
            "_view_name": "StyleView",
            "description_width": ""
          }
        },
        "4b74a8f564a24d328f15ee3afc94b7fb": {
          "model_module": "@jupyter-widgets/controls",
          "model_name": "HBoxModel",
          "model_module_version": "1.5.0",
          "state": {
            "_dom_classes": [],
            "_model_module": "@jupyter-widgets/controls",
            "_model_module_version": "1.5.0",
            "_model_name": "HBoxModel",
            "_view_count": null,
            "_view_module": "@jupyter-widgets/controls",
            "_view_module_version": "1.5.0",
            "_view_name": "HBoxView",
            "box_style": "",
            "children": [
              "IPY_MODEL_614750408a84462193fba51148e3920a",
              "IPY_MODEL_cafaab6005be4249850c229696a4ac8f",
              "IPY_MODEL_142c6352bc20417f8d614bdb91d56aec"
            ],
            "layout": "IPY_MODEL_8afa81b7075541b1a058a8c6553a7174"
          }
        },
        "614750408a84462193fba51148e3920a": {
          "model_module": "@jupyter-widgets/controls",
          "model_name": "HTMLModel",
          "model_module_version": "1.5.0",
          "state": {
            "_dom_classes": [],
            "_model_module": "@jupyter-widgets/controls",
            "_model_module_version": "1.5.0",
            "_model_name": "HTMLModel",
            "_view_count": null,
            "_view_module": "@jupyter-widgets/controls",
            "_view_module_version": "1.5.0",
            "_view_name": "HTMLView",
            "description": "",
            "description_tooltip": null,
            "layout": "IPY_MODEL_4621c85a46de46cc89960177b9a72e0c",
            "placeholder": "​",
            "style": "IPY_MODEL_d6b428282c6f479aa2144b6f4f3aa485",
            "value": "Downloading: 100%"
          }
        },
        "cafaab6005be4249850c229696a4ac8f": {
          "model_module": "@jupyter-widgets/controls",
          "model_name": "FloatProgressModel",
          "model_module_version": "1.5.0",
          "state": {
            "_dom_classes": [],
            "_model_module": "@jupyter-widgets/controls",
            "_model_module_version": "1.5.0",
            "_model_name": "FloatProgressModel",
            "_view_count": null,
            "_view_module": "@jupyter-widgets/controls",
            "_view_module_version": "1.5.0",
            "_view_name": "ProgressView",
            "bar_style": "success",
            "description": "",
            "description_tooltip": null,
            "layout": "IPY_MODEL_0f226acf78f84dc68a851a95258afd86",
            "max": 657434796,
            "min": 0,
            "orientation": "horizontal",
            "style": "IPY_MODEL_4b43f46bdff4480990f98669847760c4",
            "value": 657434796
          }
        },
        "142c6352bc20417f8d614bdb91d56aec": {
          "model_module": "@jupyter-widgets/controls",
          "model_name": "HTMLModel",
          "model_module_version": "1.5.0",
          "state": {
            "_dom_classes": [],
            "_model_module": "@jupyter-widgets/controls",
            "_model_module_version": "1.5.0",
            "_model_name": "HTMLModel",
            "_view_count": null,
            "_view_module": "@jupyter-widgets/controls",
            "_view_module_version": "1.5.0",
            "_view_name": "HTMLView",
            "description": "",
            "description_tooltip": null,
            "layout": "IPY_MODEL_af87181ed0594286abd5601efd3b984b",
            "placeholder": "​",
            "style": "IPY_MODEL_12e50a6350da4429b15a6a8b3862d471",
            "value": " 627M/627M [01:07&lt;00:00, 16.6MB/s]"
          }
        },
        "8afa81b7075541b1a058a8c6553a7174": {
          "model_module": "@jupyter-widgets/base",
          "model_name": "LayoutModel",
          "model_module_version": "1.2.0",
          "state": {
            "_model_module": "@jupyter-widgets/base",
            "_model_module_version": "1.2.0",
            "_model_name": "LayoutModel",
            "_view_count": null,
            "_view_module": "@jupyter-widgets/base",
            "_view_module_version": "1.2.0",
            "_view_name": "LayoutView",
            "align_content": null,
            "align_items": null,
            "align_self": null,
            "border": null,
            "bottom": null,
            "display": null,
            "flex": null,
            "flex_flow": null,
            "grid_area": null,
            "grid_auto_columns": null,
            "grid_auto_flow": null,
            "grid_auto_rows": null,
            "grid_column": null,
            "grid_gap": null,
            "grid_row": null,
            "grid_template_areas": null,
            "grid_template_columns": null,
            "grid_template_rows": null,
            "height": null,
            "justify_content": null,
            "justify_items": null,
            "left": null,
            "margin": null,
            "max_height": null,
            "max_width": null,
            "min_height": null,
            "min_width": null,
            "object_fit": null,
            "object_position": null,
            "order": null,
            "overflow": null,
            "overflow_x": null,
            "overflow_y": null,
            "padding": null,
            "right": null,
            "top": null,
            "visibility": null,
            "width": null
          }
        },
        "4621c85a46de46cc89960177b9a72e0c": {
          "model_module": "@jupyter-widgets/base",
          "model_name": "LayoutModel",
          "model_module_version": "1.2.0",
          "state": {
            "_model_module": "@jupyter-widgets/base",
            "_model_module_version": "1.2.0",
            "_model_name": "LayoutModel",
            "_view_count": null,
            "_view_module": "@jupyter-widgets/base",
            "_view_module_version": "1.2.0",
            "_view_name": "LayoutView",
            "align_content": null,
            "align_items": null,
            "align_self": null,
            "border": null,
            "bottom": null,
            "display": null,
            "flex": null,
            "flex_flow": null,
            "grid_area": null,
            "grid_auto_columns": null,
            "grid_auto_flow": null,
            "grid_auto_rows": null,
            "grid_column": null,
            "grid_gap": null,
            "grid_row": null,
            "grid_template_areas": null,
            "grid_template_columns": null,
            "grid_template_rows": null,
            "height": null,
            "justify_content": null,
            "justify_items": null,
            "left": null,
            "margin": null,
            "max_height": null,
            "max_width": null,
            "min_height": null,
            "min_width": null,
            "object_fit": null,
            "object_position": null,
            "order": null,
            "overflow": null,
            "overflow_x": null,
            "overflow_y": null,
            "padding": null,
            "right": null,
            "top": null,
            "visibility": null,
            "width": null
          }
        },
        "d6b428282c6f479aa2144b6f4f3aa485": {
          "model_module": "@jupyter-widgets/controls",
          "model_name": "DescriptionStyleModel",
          "model_module_version": "1.5.0",
          "state": {
            "_model_module": "@jupyter-widgets/controls",
            "_model_module_version": "1.5.0",
            "_model_name": "DescriptionStyleModel",
            "_view_count": null,
            "_view_module": "@jupyter-widgets/base",
            "_view_module_version": "1.2.0",
            "_view_name": "StyleView",
            "description_width": ""
          }
        },
        "0f226acf78f84dc68a851a95258afd86": {
          "model_module": "@jupyter-widgets/base",
          "model_name": "LayoutModel",
          "model_module_version": "1.2.0",
          "state": {
            "_model_module": "@jupyter-widgets/base",
            "_model_module_version": "1.2.0",
            "_model_name": "LayoutModel",
            "_view_count": null,
            "_view_module": "@jupyter-widgets/base",
            "_view_module_version": "1.2.0",
            "_view_name": "LayoutView",
            "align_content": null,
            "align_items": null,
            "align_self": null,
            "border": null,
            "bottom": null,
            "display": null,
            "flex": null,
            "flex_flow": null,
            "grid_area": null,
            "grid_auto_columns": null,
            "grid_auto_flow": null,
            "grid_auto_rows": null,
            "grid_column": null,
            "grid_gap": null,
            "grid_row": null,
            "grid_template_areas": null,
            "grid_template_columns": null,
            "grid_template_rows": null,
            "height": null,
            "justify_content": null,
            "justify_items": null,
            "left": null,
            "margin": null,
            "max_height": null,
            "max_width": null,
            "min_height": null,
            "min_width": null,
            "object_fit": null,
            "object_position": null,
            "order": null,
            "overflow": null,
            "overflow_x": null,
            "overflow_y": null,
            "padding": null,
            "right": null,
            "top": null,
            "visibility": null,
            "width": null
          }
        },
        "4b43f46bdff4480990f98669847760c4": {
          "model_module": "@jupyter-widgets/controls",
          "model_name": "ProgressStyleModel",
          "model_module_version": "1.5.0",
          "state": {
            "_model_module": "@jupyter-widgets/controls",
            "_model_module_version": "1.5.0",
            "_model_name": "ProgressStyleModel",
            "_view_count": null,
            "_view_module": "@jupyter-widgets/base",
            "_view_module_version": "1.2.0",
            "_view_name": "StyleView",
            "bar_color": null,
            "description_width": ""
          }
        },
        "af87181ed0594286abd5601efd3b984b": {
          "model_module": "@jupyter-widgets/base",
          "model_name": "LayoutModel",
          "model_module_version": "1.2.0",
          "state": {
            "_model_module": "@jupyter-widgets/base",
            "_model_module_version": "1.2.0",
            "_model_name": "LayoutModel",
            "_view_count": null,
            "_view_module": "@jupyter-widgets/base",
            "_view_module_version": "1.2.0",
            "_view_name": "LayoutView",
            "align_content": null,
            "align_items": null,
            "align_self": null,
            "border": null,
            "bottom": null,
            "display": null,
            "flex": null,
            "flex_flow": null,
            "grid_area": null,
            "grid_auto_columns": null,
            "grid_auto_flow": null,
            "grid_auto_rows": null,
            "grid_column": null,
            "grid_gap": null,
            "grid_row": null,
            "grid_template_areas": null,
            "grid_template_columns": null,
            "grid_template_rows": null,
            "height": null,
            "justify_content": null,
            "justify_items": null,
            "left": null,
            "margin": null,
            "max_height": null,
            "max_width": null,
            "min_height": null,
            "min_width": null,
            "object_fit": null,
            "object_position": null,
            "order": null,
            "overflow": null,
            "overflow_x": null,
            "overflow_y": null,
            "padding": null,
            "right": null,
            "top": null,
            "visibility": null,
            "width": null
          }
        },
        "12e50a6350da4429b15a6a8b3862d471": {
          "model_module": "@jupyter-widgets/controls",
          "model_name": "DescriptionStyleModel",
          "model_module_version": "1.5.0",
          "state": {
            "_model_module": "@jupyter-widgets/controls",
            "_model_module_version": "1.5.0",
            "_model_name": "DescriptionStyleModel",
            "_view_count": null,
            "_view_module": "@jupyter-widgets/base",
            "_view_module_version": "1.2.0",
            "_view_name": "StyleView",
            "description_width": ""
          }
        }
      }
    }
  },
  "nbformat": 4,
  "nbformat_minor": 0
}